{
 "cells": [
  {
   "cell_type": "markdown",
   "id": "e203922c-19e9-4c23-81a4-d5778edc579b",
   "metadata": {},
   "source": [
    "# Test of CSBM"
   ]
  },
  {
   "cell_type": "code",
   "execution_count": 1,
   "id": "58cd1fbd-9344-4580-8864-1a04b6a305b2",
   "metadata": {
    "tags": []
   },
   "outputs": [],
   "source": [
    "import torch\n",
    "from torch_geometric.data import Data"
   ]
  },
  {
   "cell_type": "code",
   "execution_count": 2,
   "id": "b55acdc7-329b-464d-97d9-adc3bc9b94b6",
   "metadata": {
    "tags": []
   },
   "outputs": [],
   "source": [
    "import numpy as np\n",
    "from collections import Counter"
   ]
  },
  {
   "cell_type": "code",
   "execution_count": 3,
   "id": "0e778bfe-cb54-45fd-9015-39f53fb094c3",
   "metadata": {
    "tags": []
   },
   "outputs": [],
   "source": [
    "import matplotlib.pyplot as plt"
   ]
  },
  {
   "cell_type": "code",
   "execution_count": 4,
   "id": "2897df42-ade1-4c9a-af0b-d89937426e09",
   "metadata": {
    "tags": []
   },
   "outputs": [
    {
     "data": {
      "image/png": "[encoded data removed]",
      "text/plain": [
       "<Figure size 640x480 with 1 Axes>"
      ]
     },
     "metadata": {},
     "output_type": "display_data"
    }
   ],
   "source": [
    "m = [1, 1]\n",
    "sigma_square = 0.1\n",
    "cv = np.eye(2) * sigma_square\n",
    "x, y = np.random.multivariate_normal(m, cv, 50).T\n",
    "plt.plot(x, y, 'x')\n",
    "plt.axis('equal')\n",
    "plt.show()"
   ]
  },
  {
   "cell_type": "code",
   "execution_count": 5,
   "id": "4fe1fca1-f70b-47f4-b654-fb115226c6d5",
   "metadata": {
    "tags": []
   },
   "outputs": [],
   "source": [
    "import networkx as nx\n",
    "import torch_geometric"
   ]
  },
  {
   "cell_type": "code",
   "execution_count": 6,
   "id": "5c18a135-e8ef-4d79-b139-55c8400c63f0",
   "metadata": {
    "tags": []
   },
   "outputs": [
    {
     "data": {
      "image/png": "[encoded data removed]",
      "text/plain": [
       "<Figure size 640x480 with 1 Axes>"
      ]
     },
     "metadata": {},
     "output_type": "display_data"
    }
   ],
   "source": [
    "edge_index = torch.tensor([[0],\n",
    "                          [1]], dtype=torch.long)\n",
    "#edge_index.add(torch.tensor([[1], [1]], dtype=torch.long))\n",
    "x = torch.tensor([[-1], [0], [1]], dtype=torch.float)\n",
    "\n",
    "data = Data(x=x, edge_index=edge_index)\n",
    "g = torch_geometric.utils.to_networkx(data, to_undirected=False)\n",
    "labeld = {node: val for node, val in enumerate(list(x.numpy().flatten()))}\n",
    "nx.draw(g, labels=labeld, with_labels=True)"
   ]
  },
  {
   "cell_type": "code",
   "execution_count": 7,
   "id": "3978deb1-8e71-4406-b785-2575fb99da3f",
   "metadata": {
    "tags": []
   },
   "outputs": [
    {
     "data": {
      "text/plain": [
       "tensor([[0],\n",
       "        [1]])"
      ]
     },
     "execution_count": 7,
     "metadata": {},
     "output_type": "execute_result"
    }
   ],
   "source": [
    "edge_index"
   ]
  },
  {
   "cell_type": "code",
   "execution_count": 8,
   "id": "7c522e65-ab95-4692-8d35-8a326af0f2a9",
   "metadata": {
    "tags": []
   },
   "outputs": [],
   "source": [
    "from MultiClassCSBM import MultiClassCSBM"
   ]
  },
  {
   "cell_type": "code",
   "execution_count": 9,
   "id": "ec82a89f-aebf-4142-9ddd-62743d6752fa",
   "metadata": {
    "tags": []
   },
   "outputs": [
    {
     "name": "stdout",
     "output_type": "stream",
     "text": [
      "1\n",
      "70\n",
      "8710\n"
     ]
    }
   ],
   "source": [
    "from torch_geometric.datasets import Planetoid\n",
    "\n",
    "dataset = Planetoid(root='/tmp/Cora', name='Cora')\n",
    "print(len(dataset))\n",
    "print(dataset.num_classes)\n",
    "print(dataset.num_node_features)"
   ]
  },
  {
   "cell_type": "code",
   "execution_count": 10,
   "id": "9b3f1475-cd69-4e8c-b875-4606e48e230a",
   "metadata": {
    "tags": []
   },
   "outputs": [
    {
     "data": {
      "text/plain": [
       "True"
      ]
     },
     "execution_count": 10,
     "metadata": {},
     "output_type": "execute_result"
    }
   ],
   "source": [
    "data = dataset[0]\n",
    "data.is_undirected()"
   ]
  },
  {
   "cell_type": "code",
   "execution_count": 11,
   "id": "2550654d-7f85-4e39-a056-c8e61bb9be33",
   "metadata": {
    "tags": []
   },
   "outputs": [],
   "source": [
    "import torch\n",
    "import torch.nn.functional as F\n",
    "from torch_geometric.nn import GCNConv\n",
    "\n",
    "class GCN(torch.nn.Module):\n",
    "    def __init__(self):\n",
    "        super().__init__()\n",
    "        self.conv1 = GCNConv(dataset.num_node_features, 16)\n",
    "        self.conv2 = GCNConv(16, dataset.num_classes)\n",
    "\n",
    "    def forward(self, data):\n",
    "        x, edge_index = data.x, data.edge_index\n",
    "\n",
    "        x = self.conv1(x, edge_index)\n",
    "        x = F.relu(x)\n",
    "        x = F.dropout(x, training=self.training)\n",
    "        x = self.conv2(x, edge_index)\n",
    "\n",
    "        return F.log_softmax(x, dim=1)"
   ]
  },
  {
   "cell_type": "code",
   "execution_count": 12,
   "id": "662afa26-237f-4578-85b8-682d391afaa7",
   "metadata": {
    "tags": []
   },
   "outputs": [],
   "source": [
    "device = torch.device('cuda' if torch.cuda.is_available() else 'cpu')\n",
    "model = GCN().to(device)\n",
    "data = dataset[0].to(device)\n",
    "optimizer = torch.optim.Adam(model.parameters(), lr=0.01, weight_decay=5e-4)\n",
    "\n",
    "train_mask = torch.zeros(data.num_nodes, dtype=torch.bool)\n",
    "train_mask[:int(0.8 * data.num_nodes)] = 1\n",
    "\n",
    "model.train()\n",
    "for epoch in range(200):\n",
    "    optimizer.zero_grad()\n",
    "    out = model(data)\n",
    "    loss = F.nll_loss(out[train_mask], data.y[train_mask])\n",
    "    loss.backward()\n",
    "    optimizer.step()"
   ]
  },
  {
   "cell_type": "code",
   "execution_count": 15,
   "id": "b76949c3-6055-4110-b68b-6676907ee52f",
   "metadata": {
    "tags": []
   },
   "outputs": [
    {
     "name": "stdout",
     "output_type": "stream",
     "text": [
      "Accuracy: 0.6532\n"
     ]
    }
   ],
   "source": [
    "test_mask = torch.zeros(data.num_nodes, dtype=torch.bool)\n",
    "test_mask[int(0.8 * data.num_nodes):] = 1\n",
    "model.eval()\n",
    "pred = model(data).argmax(dim=1)\n",
    "correct = (pred[test_mask] == data.y[test_mask]).sum()\n",
    "acc = int(correct) / int(test_mask.sum())\n",
    "print(f'Accuracy: {acc:.4f}')"
   ]
  },
  {
   "cell_type": "code",
   "execution_count": 16,
   "id": "43d48021-ba72-4fec-8cd0-7dfe9f55169b",
   "metadata": {
    "tags": []
   },
   "outputs": [],
   "source": [
    "data = MultiClassCSBM().data"
   ]
  }
 ],
 "metadata": {
  "kernelspec": {
   "display_name": "Python 3 (ipykernel)",
   "language": "python",
   "name": "python3"
  },
  "language_info": {
   "codemirror_mode": {
    "name": "ipython",
    "version": 3
   },
   "file_extension": ".py",
   "mimetype": "text/x-python",
   "name": "python",
   "nbconvert_exporter": "python",
   "pygments_lexer": "ipython3",
   "version": "3.9.17"
  }
 },
 "nbformat": 4,
 "nbformat_minor": 5
}
