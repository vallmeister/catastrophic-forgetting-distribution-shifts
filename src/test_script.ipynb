{
 "cells": [
  {
   "cell_type": "markdown",
   "id": "e203922c-19e9-4c23-81a4-d5778edc579b",
   "metadata": {},
   "source": [
    "# Test of CSBM"
   ]
  },
  {
   "cell_type": "code",
   "execution_count": 2,
   "id": "58cd1fbd-9344-4580-8864-1a04b6a305b2",
   "metadata": {
    "tags": []
   },
   "outputs": [],
   "source": [
    "import torch\n",
    "from torch_geometric.data import Data"
   ]
  },
  {
   "cell_type": "code",
   "execution_count": 18,
   "id": "b55acdc7-329b-464d-97d9-adc3bc9b94b6",
   "metadata": {
    "tags": []
   },
   "outputs": [],
   "source": [
    "import numpy as np\n",
    "from collections import Counter"
   ]
  },
  {
   "cell_type": "markdown",
   "id": "7440348d-a51d-4b3f-a79e-64b07d142f7f",
   "metadata": {},
   "source": [
    "## Draw class labels of 10 classes with uniform distribution"
   ]
  },
  {
   "cell_type": "code",
   "execution_count": 4,
   "id": "c6cc6630-acd6-45f4-a727-afdc7bf914a5",
   "metadata": {
    "tags": []
   },
   "outputs": [],
   "source": [
    "categories = list(range(1, 11))\n",
    "probabilities = [0.1] * 10"
   ]
  },
  {
   "cell_type": "code",
   "execution_count": 5,
   "id": "b362f244-ea64-4877-8f8d-1fd04f2d0d40",
   "metadata": {
    "tags": []
   },
   "outputs": [],
   "source": [
    "n = 50\n",
    "draw = np.random.choice(categories, n, p=probabilities)"
   ]
  },
  {
   "cell_type": "code",
   "execution_count": 16,
   "id": "4b689415-b75d-49f9-a4e6-dff507977369",
   "metadata": {
    "tags": []
   },
   "outputs": [
    {
     "data": {
      "text/plain": [
       "array([ 6,  1,  6,  1, 10,  8,  8,  4,  4,  4,  1,  3,  4,  1,  5,  2,  6,\n",
       "        4,  4,  8,  9,  5,  5,  3, 10,  8,  2,  2,  2,  6,  3,  5,  4,  9,\n",
       "        2,  3,  3,  5,  8,  1,  4, 10, 10, 10, 10,  5,  8,  7,  8,  9])"
      ]
     },
     "execution_count": 16,
     "metadata": {},
     "output_type": "execute_result"
    }
   ],
   "source": [
    "# class labels\n",
    "draw"
   ]
  },
  {
   "cell_type": "code",
   "execution_count": 15,
   "id": "71a35d89-c770-4358-ad60-0303d493b338",
   "metadata": {
    "tags": []
   },
   "outputs": [
    {
     "name": "stdout",
     "output_type": "stream",
     "text": [
      "[(1, 5), (2, 5), (3, 5), (4, 8), (5, 6), (6, 4), (7, 1), (8, 7), (9, 3), (10, 6)]\n"
     ]
    }
   ],
   "source": [
    "print(sorted([(cls, occ) for cls, occ in Counter(draw).items()]))"
   ]
  },
  {
   "cell_type": "markdown",
   "id": "ce1edf1f-e74a-43b2-8093-f5b0a8fffa9f",
   "metadata": {},
   "source": [
    "## Draw random vectors from the same class"
   ]
  },
  {
   "cell_type": "code",
   "execution_count": 19,
   "id": "447631ba-03d6-4148-9911-82176644d7a6",
   "metadata": {
    "tags": []
   },
   "outputs": [
    {
     "data": {
      "text/plain": [
       "array([0.33333333, 0.33333333, 0.33333333, 0.33333333, 0.33333333,\n",
       "       0.33333333, 0.33333333, 0.33333333, 0.33333333])"
      ]
     },
     "execution_count": 19,
     "metadata": {},
     "output_type": "execute_result"
    }
   ],
   "source": [
    "mean = np.ones(9)\n",
    "mean = mean / np.linalg.norm(mean)\n",
    "mean"
   ]
  },
  {
   "cell_type": "code",
   "execution_count": 20,
   "id": "d2581fde-65d9-4959-a57b-58c62e8d9a01",
   "metadata": {
    "tags": []
   },
   "outputs": [
    {
     "data": {
      "text/plain": [
       "array([[0.1, 0. , 0. , 0. , 0. , 0. , 0. , 0. , 0. ],\n",
       "       [0. , 0.1, 0. , 0. , 0. , 0. , 0. , 0. , 0. ],\n",
       "       [0. , 0. , 0.1, 0. , 0. , 0. , 0. , 0. , 0. ],\n",
       "       [0. , 0. , 0. , 0.1, 0. , 0. , 0. , 0. , 0. ],\n",
       "       [0. , 0. , 0. , 0. , 0.1, 0. , 0. , 0. , 0. ],\n",
       "       [0. , 0. , 0. , 0. , 0. , 0.1, 0. , 0. , 0. ],\n",
       "       [0. , 0. , 0. , 0. , 0. , 0. , 0.1, 0. , 0. ],\n",
       "       [0. , 0. , 0. , 0. , 0. , 0. , 0. , 0.1, 0. ],\n",
       "       [0. , 0. , 0. , 0. , 0. , 0. , 0. , 0. , 0.1]])"
      ]
     },
     "execution_count": 20,
     "metadata": {},
     "output_type": "execute_result"
    }
   ],
   "source": [
    "cov = 0.1 * np.eye(9)\n",
    "cov"
   ]
  },
  {
   "cell_type": "code",
   "execution_count": 30,
   "id": "cf19a712-141d-4a67-ad38-b729a76c5580",
   "metadata": {
    "tags": []
   },
   "outputs": [
    {
     "data": {
      "text/plain": [
       "array([[ 0.01451491,  0.43498616,  0.21215414,  0.17288156,  0.23401122,\n",
       "         0.74136563,  0.20088267,  0.22317485,  0.48515688],\n",
       "       [ 0.45215857,  0.9644416 ,  0.44844246,  0.54293893,  0.96523577,\n",
       "         0.35314391,  0.2509092 , -0.04762716, -0.04433592],\n",
       "       [ 0.46081012,  0.67900356,  0.30608439,  0.01603147,  0.22655556,\n",
       "         0.08662196,  0.23173683,  0.31723285,  0.56367534],\n",
       "       [ 0.3208101 ,  0.60134394,  0.34064173,  0.44119372, -0.11264512,\n",
       "         0.20570765,  0.0628191 , -0.07134489,  0.2721792 ],\n",
       "       [-0.31703421,  0.01953056,  0.06463298,  0.33761114,  0.16198798,\n",
       "         0.06710537,  0.01638996,  0.31734982,  0.656813  ]])"
      ]
     },
     "execution_count": 30,
     "metadata": {},
     "output_type": "execute_result"
    }
   ],
   "source": [
    "X = np.random.multivariate_normal(mean, cov, 5)\n",
    "X"
   ]
  },
  {
   "cell_type": "code",
   "execution_count": 31,
   "id": "0e778bfe-cb54-45fd-9015-39f53fb094c3",
   "metadata": {
    "tags": []
   },
   "outputs": [],
   "source": [
    "import matplotlib.pyplot as plt"
   ]
  },
  {
   "cell_type": "code",
   "execution_count": 49,
   "id": "2897df42-ade1-4c9a-af0b-d89937426e09",
   "metadata": {
    "tags": []
   },
   "outputs": [
    {
     "data": {
      "image/png": "[encoded data removed]",
      "text/plain": [
       "<Figure size 640x480 with 1 Axes>"
      ]
     },
     "metadata": {},
     "output_type": "display_data"
    }
   ],
   "source": [
    "m = [1, 1]\n",
    "sigma_square = 0.1\n",
    "cv = np.eye(2) * sigma_square\n",
    "x, y = np.random.multivariate_normal(m, cv, 50).T\n",
    "plt.plot(x, y, 'x')\n",
    "plt.axis('equal')\n",
    "plt.show()"
   ]
  },
  {
   "cell_type": "code",
   "execution_count": 54,
   "id": "151ff3e7-2310-428f-baa9-f2f148cd7a78",
   "metadata": {
    "tags": []
   },
   "outputs": [],
   "source": [
    "def initialize_means(c, d):\n",
    "    means = np.zeros((c, d))\n",
    "    ones_per_mean = d / c\n",
    "    curr_mean = 0\n",
    "    i = 0\n",
    "    while i < d:\n",
    "        if i < (curr_mean + 1) * ones_per_mean:\n",
    "            means[curr_mean][i] = 1.0\n",
    "            i += 1\n",
    "        else:\n",
    "            curr_mean += 1\n",
    "    return [mean / np.linalg.norm(mean) for mean in means]"
   ]
  },
  {
   "cell_type": "code",
   "execution_count": 55,
   "id": "9d2cfc7b-f394-4bee-921f-4340cfd2621a",
   "metadata": {
    "tags": []
   },
   "outputs": [
    {
     "data": {
      "text/plain": [
       "[array([0.5, 0.5, 0.5, 0.5, 0. , 0. , 0. , 0. , 0. , 0. ]),\n",
       " array([0.        , 0.        , 0.        , 0.        , 0.57735027,\n",
       "        0.57735027, 0.57735027, 0.        , 0.        , 0.        ]),\n",
       " array([0.        , 0.        , 0.        , 0.        , 0.        ,\n",
       "        0.        , 0.        , 0.57735027, 0.57735027, 0.57735027])]"
      ]
     },
     "execution_count": 55,
     "metadata": {},
     "output_type": "execute_result"
    }
   ],
   "source": [
    "M = initialize_means(3, 10)\n",
    "M"
   ]
  },
  {
   "cell_type": "code",
   "execution_count": 59,
   "id": "4fe1fca1-f70b-47f4-b654-fb115226c6d5",
   "metadata": {
    "tags": []
   },
   "outputs": [],
   "source": [
    "import networkx as nx\n",
    "import torch_geometric"
   ]
  },
  {
   "cell_type": "code",
   "execution_count": 104,
   "id": "5c18a135-e8ef-4d79-b139-55c8400c63f0",
   "metadata": {
    "tags": []
   },
   "outputs": [
    {
     "data": {
      "image/png": "[encoded data removed]",
      "text/plain": [
       "<Figure size 640x480 with 1 Axes>"
      ]
     },
     "metadata": {},
     "output_type": "display_data"
    }
   ],
   "source": [
    "edge_index = torch.tensor([[0],\n",
    "                          [1]], dtype=torch.long)\n",
    "#edge_index.add(torch.tensor([[1], [1]], dtype=torch.long))\n",
    "x = torch.tensor([[-1], [0], [1]], dtype=torch.float)\n",
    "\n",
    "data = Data(x=x, edge_index=edge_index)\n",
    "g = torch_geometric.utils.to_networkx(data, to_undirected=False)\n",
    "labeld = {node: val for node, val in enumerate(list(x.numpy().flatten()))}\n",
    "nx.draw(g, labels=labeld, with_labels=True)"
   ]
  },
  {
   "cell_type": "code",
   "execution_count": 102,
   "id": "3978deb1-8e71-4406-b785-2575fb99da3f",
   "metadata": {
    "tags": []
   },
   "outputs": [
    {
     "data": {
      "text/plain": [
       "tensor([[0],\n",
       "        [1]])"
      ]
     },
     "execution_count": 102,
     "metadata": {},
     "output_type": "execute_result"
    }
   ],
   "source": [
    "edge_index"
   ]
  }
 ],
 "metadata": {
  "kernelspec": {
   "display_name": "Python 3 (ipykernel)",
   "language": "python",
   "name": "python3"
  },
  "language_info": {
   "codemirror_mode": {
    "name": "ipython",
    "version": 3
   },
   "file_extension": ".py",
   "mimetype": "text/x-python",
   "name": "python",
   "nbconvert_exporter": "python",
   "pygments_lexer": "ipython3",
   "version": "3.9.17"
  }
 },
 "nbformat": 4,
 "nbformat_minor": 5
}
