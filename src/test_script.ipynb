{
 "cells": [
  {
   "cell_type": "markdown",
   "id": "e203922c-19e9-4c23-81a4-d5778edc579b",
   "metadata": {},
   "source": [
    "# Test of CSBM"
   ]
  },
  {
   "cell_type": "code",
   "execution_count": 1,
   "id": "58cd1fbd-9344-4580-8864-1a04b6a305b2",
   "metadata": {
    "tags": []
   },
   "outputs": [],
   "source": [
    "import torch\n",
    "from torch_geometric.data import Data"
   ]
  },
  {
   "cell_type": "code",
   "execution_count": 2,
   "id": "b55acdc7-329b-464d-97d9-adc3bc9b94b6",
   "metadata": {
    "tags": []
   },
   "outputs": [],
   "source": [
    "import numpy as np\n",
    "from collections import Counter"
   ]
  },
  {
   "cell_type": "markdown",
   "id": "7440348d-a51d-4b3f-a79e-64b07d142f7f",
   "metadata": {},
   "source": [
    "## Draw class labels of 10 classes with uniform distribution"
   ]
  },
  {
   "cell_type": "code",
   "execution_count": 3,
   "id": "c6cc6630-acd6-45f4-a727-afdc7bf914a5",
   "metadata": {
    "tags": []
   },
   "outputs": [],
   "source": [
    "categories = list(range(1, 11))\n",
    "probabilities = [0.1] * 10"
   ]
  },
  {
   "cell_type": "code",
   "execution_count": 4,
   "id": "b362f244-ea64-4877-8f8d-1fd04f2d0d40",
   "metadata": {
    "tags": []
   },
   "outputs": [],
   "source": [
    "n = 50\n",
    "draw = np.random.choice(categories, n, p=probabilities)"
   ]
  },
  {
   "cell_type": "code",
   "execution_count": 5,
   "id": "4b689415-b75d-49f9-a4e6-dff507977369",
   "metadata": {
    "tags": []
   },
   "outputs": [
    {
     "data": {
      "text/plain": [
       "array([ 5,  5,  5,  4,  2, 10,  7,  8,  5, 10,  8,  1,  2,  7,  8,  2,  2,\n",
       "        6,  7, 10,  2,  8,  1,  8, 10,  4,  7,  4,  5,  7,  5,  5,  7,  3,\n",
       "        3,  4,  2,  9, 10,  6,  1,  5,  8,  6,  4,  7,  4,  2,  8,  3])"
      ]
     },
     "execution_count": 5,
     "metadata": {},
     "output_type": "execute_result"
    }
   ],
   "source": [
    "# class labels\n",
    "draw"
   ]
  },
  {
   "cell_type": "code",
   "execution_count": 6,
   "id": "71a35d89-c770-4358-ad60-0303d493b338",
   "metadata": {
    "tags": []
   },
   "outputs": [
    {
     "name": "stdout",
     "output_type": "stream",
     "text": [
      "[(1, 3), (2, 7), (3, 3), (4, 6), (5, 8), (6, 3), (7, 7), (8, 7), (9, 1), (10, 5)]\n"
     ]
    }
   ],
   "source": [
    "print(sorted([(cls, occ) for cls, occ in Counter(draw).items()]))"
   ]
  },
  {
   "cell_type": "markdown",
   "id": "ce1edf1f-e74a-43b2-8093-f5b0a8fffa9f",
   "metadata": {},
   "source": [
    "## Draw random vectors from the same class"
   ]
  },
  {
   "cell_type": "code",
   "execution_count": 7,
   "id": "447631ba-03d6-4148-9911-82176644d7a6",
   "metadata": {
    "tags": []
   },
   "outputs": [
    {
     "data": {
      "text/plain": [
       "array([0.33333333, 0.33333333, 0.33333333, 0.33333333, 0.33333333,\n",
       "       0.33333333, 0.33333333, 0.33333333, 0.33333333])"
      ]
     },
     "execution_count": 7,
     "metadata": {},
     "output_type": "execute_result"
    }
   ],
   "source": [
    "mean = np.ones(9)\n",
    "mean = mean / np.linalg.norm(mean)\n",
    "mean"
   ]
  },
  {
   "cell_type": "code",
   "execution_count": 8,
   "id": "d2581fde-65d9-4959-a57b-58c62e8d9a01",
   "metadata": {
    "tags": []
   },
   "outputs": [
    {
     "data": {
      "text/plain": [
       "array([[0.1, 0. , 0. , 0. , 0. , 0. , 0. , 0. , 0. ],\n",
       "       [0. , 0.1, 0. , 0. , 0. , 0. , 0. , 0. , 0. ],\n",
       "       [0. , 0. , 0.1, 0. , 0. , 0. , 0. , 0. , 0. ],\n",
       "       [0. , 0. , 0. , 0.1, 0. , 0. , 0. , 0. , 0. ],\n",
       "       [0. , 0. , 0. , 0. , 0.1, 0. , 0. , 0. , 0. ],\n",
       "       [0. , 0. , 0. , 0. , 0. , 0.1, 0. , 0. , 0. ],\n",
       "       [0. , 0. , 0. , 0. , 0. , 0. , 0.1, 0. , 0. ],\n",
       "       [0. , 0. , 0. , 0. , 0. , 0. , 0. , 0.1, 0. ],\n",
       "       [0. , 0. , 0. , 0. , 0. , 0. , 0. , 0. , 0.1]])"
      ]
     },
     "execution_count": 8,
     "metadata": {},
     "output_type": "execute_result"
    }
   ],
   "source": [
    "cov = 0.1 * np.eye(9)\n",
    "cov"
   ]
  },
  {
   "cell_type": "code",
   "execution_count": 9,
   "id": "cf19a712-141d-4a67-ad38-b729a76c5580",
   "metadata": {
    "tags": []
   },
   "outputs": [
    {
     "data": {
      "text/plain": [
       "array([[ 0.7328078 ,  0.03299125,  0.4364974 ,  0.30017546,  0.4422316 ,\n",
       "         0.59155333,  0.27350831,  0.59988279,  0.45634128],\n",
       "       [-0.21646132,  0.73003902,  0.05175026,  0.54887896, -0.15987008,\n",
       "         0.32373254,  0.06377228,  0.53732608,  0.25497735],\n",
       "       [ 0.3639536 ,  0.53837655,  0.85632149,  0.73246542,  0.11308586,\n",
       "         0.6302199 ,  0.46387022,  0.50653051,  0.14617599],\n",
       "       [ 0.30505935,  0.39018492,  0.34407854, -0.07020154,  0.4384005 ,\n",
       "         0.57953256,  0.42173896, -0.0513029 ,  0.19885997],\n",
       "       [ 0.33854707,  0.0683855 ,  0.17664304, -0.42102856,  0.24321607,\n",
       "         0.40863714,  0.13767985,  0.44983449, -0.20038413]])"
      ]
     },
     "execution_count": 9,
     "metadata": {},
     "output_type": "execute_result"
    }
   ],
   "source": [
    "X = np.random.multivariate_normal(mean, cov, 5)\n",
    "X"
   ]
  },
  {
   "cell_type": "code",
   "execution_count": 10,
   "id": "0e778bfe-cb54-45fd-9015-39f53fb094c3",
   "metadata": {
    "tags": []
   },
   "outputs": [],
   "source": [
    "import matplotlib.pyplot as plt"
   ]
  },
  {
   "cell_type": "code",
   "execution_count": 11,
   "id": "2897df42-ade1-4c9a-af0b-d89937426e09",
   "metadata": {
    "tags": []
   },
   "outputs": [
    {
     "data": {
      "image/png": "[encoded data removed]",
      "text/plain": [
       "<Figure size 640x480 with 1 Axes>"
      ]
     },
     "metadata": {},
     "output_type": "display_data"
    }
   ],
   "source": [
    "m = [1, 1]\n",
    "sigma_square = 0.1\n",
    "cv = np.eye(2) * sigma_square\n",
    "x, y = np.random.multivariate_normal(m, cv, 50).T\n",
    "plt.plot(x, y, 'x')\n",
    "plt.axis('equal')\n",
    "plt.show()"
   ]
  },
  {
   "cell_type": "code",
   "execution_count": 12,
   "id": "4fe1fca1-f70b-47f4-b654-fb115226c6d5",
   "metadata": {
    "tags": []
   },
   "outputs": [],
   "source": [
    "import networkx as nx\n",
    "import torch_geometric"
   ]
  },
  {
   "cell_type": "code",
   "execution_count": 13,
   "id": "5c18a135-e8ef-4d79-b139-55c8400c63f0",
   "metadata": {
    "tags": []
   },
   "outputs": [
    {
     "data": {
      "image/png": "[encoded data removed]",
      "text/plain": [
       "<Figure size 640x480 with 1 Axes>"
      ]
     },
     "metadata": {},
     "output_type": "display_data"
    }
   ],
   "source": [
    "edge_index = torch.tensor([[0],\n",
    "                          [1]], dtype=torch.long)\n",
    "#edge_index.add(torch.tensor([[1], [1]], dtype=torch.long))\n",
    "x = torch.tensor([[-1], [0], [1]], dtype=torch.float)\n",
    "\n",
    "data = Data(x=x, edge_index=edge_index)\n",
    "g = torch_geometric.utils.to_networkx(data, to_undirected=False)\n",
    "labeld = {node: val for node, val in enumerate(list(x.numpy().flatten()))}\n",
    "nx.draw(g, labels=labeld, with_labels=True)"
   ]
  },
  {
   "cell_type": "code",
   "execution_count": 14,
   "id": "3978deb1-8e71-4406-b785-2575fb99da3f",
   "metadata": {
    "tags": []
   },
   "outputs": [
    {
     "data": {
      "text/plain": [
       "tensor([[0],\n",
       "        [1]])"
      ]
     },
     "execution_count": 14,
     "metadata": {},
     "output_type": "execute_result"
    }
   ],
   "source": [
    "edge_index"
   ]
  },
  {
   "cell_type": "code",
   "execution_count": 15,
   "id": "1c0b09b2-eb94-4846-8fc2-014cbdf61705",
   "metadata": {
    "tags": []
   },
   "outputs": [
    {
     "name": "stdout",
     "output_type": "stream",
     "text": [
      "[[1.73205081 1.73205081 1.73205081 1.73205081 1.73205081 1.73205081\n",
      "  1.73205081 1.73205081 1.73205081 1.73205081 1.73205081 1.73205081]\n",
      " [1.73205081 1.73205081 1.73205081 1.73205081 1.73205081 1.73205081\n",
      "  1.73205081 1.73205081 1.73205081 1.73205081 1.73205081 1.73205081]\n",
      " [1.73205081 1.73205081 1.73205081 1.73205081 1.73205081 1.73205081\n",
      "  1.73205081 1.73205081 1.73205081 1.73205081 1.73205081 1.73205081]\n",
      " [1.73205081 1.73205081 1.73205081 1.73205081 1.73205081 1.73205081\n",
      "  1.73205081 1.73205081 1.73205081 1.73205081 1.73205081 1.73205081]]\n"
     ]
    }
   ],
   "source": [
    "import MultiClassCSBM\n",
    "csbm = MultiClassCSBM.MultiClassCSBM(classes=4, dimensions=12)\n",
    "print(csbm.means)"
   ]
  }
 ],
 "metadata": {
  "kernelspec": {
   "display_name": "Python 3 (ipykernel)",
   "language": "python",
   "name": "python3"
  },
  "language_info": {
   "codemirror_mode": {
    "name": "ipython",
    "version": 3
   },
   "file_extension": ".py",
   "mimetype": "text/x-python",
   "name": "python",
   "nbconvert_exporter": "python",
   "pygments_lexer": "ipython3",
   "version": "3.9.17"
  }
 },
 "nbformat": 4,
 "nbformat_minor": 5
}
