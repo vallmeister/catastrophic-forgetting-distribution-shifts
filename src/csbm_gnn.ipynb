{
 "cells": [
  {
   "cell_type": "markdown",
   "id": "6dec4229-d469-44bb-a613-d4c74e3a99ac",
   "metadata": {},
   "source": [
    "# Using CSBM generated data to train a model"
   ]
  },
  {
   "cell_type": "code",
   "execution_count": 1,
   "id": "80c22ad0-1582-4760-b8a2-5d2f9f4ca44e",
   "metadata": {
    "tags": []
   },
   "outputs": [],
   "source": [
    "import torch\n",
    "import matplotlib.pyplot as plt\n",
    "import numpy as np\n",
    "import math\n",
    "from MultiClassCSBM import MultiClassCSBM"
   ]
  },
  {
   "cell_type": "code",
   "execution_count": 2,
   "id": "2975f3c2-87bd-4267-adff-2bf10c926a63",
   "metadata": {
    "tags": []
   },
   "outputs": [],
   "source": [
    "n = 500\n",
    "d = 100\n",
    "c = 20"
   ]
  },
  {
   "cell_type": "code",
   "execution_count": 3,
   "id": "080e13cf-08de-4dd0-946e-0e7fdc80d931",
   "metadata": {
    "tags": []
   },
   "outputs": [
    {
     "name": "stdout",
     "output_type": "stream",
     "text": [
      "[Data(x=[500, 100], edge_index=[2, 29976], y=[500], train_mask=[500], test_mask=[500]), Data(x=[1000, 100], edge_index=[2, 90013], y=[1000], train_mask=[1000], test_mask=[1000]), Data(x=[1500, 100], edge_index=[2, 180075], y=[1500], train_mask=[1500], test_mask=[1500]), Data(x=[2000, 100], edge_index=[2, 300045], y=[2000], train_mask=[2000], test_mask=[2000]), Data(x=[2500, 100], edge_index=[2, 449745], y=[2500], train_mask=[2500], test_mask=[2500]), Data(x=[3000, 100], edge_index=[2, 630570], y=[3000], train_mask=[3000], test_mask=[3000]), Data(x=[3500, 100], edge_index=[2, 841452], y=[3500], train_mask=[3500], test_mask=[3500]), Data(x=[4000, 100], edge_index=[2, 1081635], y=[4000], train_mask=[4000], test_mask=[4000]), Data(x=[4500, 100], edge_index=[2, 1352746], y=[4500], train_mask=[4500], test_mask=[4500]), Data(x=[5000, 100], edge_index=[2, 1653140], y=[5000], train_mask=[5000], test_mask=[5000])]\n"
     ]
    }
   ],
   "source": [
    "csbm = MultiClassCSBM(n=n, dimensions=d, classes=c)\n",
    "data_list = []\n",
    "for _ in range(10):\n",
    "    data_list.append(csbm.data)\n",
    "    csbm.evolve()\n",
    "print(data_list)"
   ]
  },
  {
   "cell_type": "code",
   "execution_count": 16,
   "id": "e828233f-8b7b-42f6-9b49-365af160c0d1",
   "metadata": {
    "tags": []
   },
   "outputs": [
    {
     "name": "stdout",
     "output_type": "stream",
     "text": [
      "1\n"
     ]
    }
   ],
   "source": [
    "from torch_geometric.data import Data\n",
    "from torch_geometric.loader import DataLoader\n",
    "\n",
    "dataset = DataLoader(data_list, batch_size=32)\n",
    "print(len(dataset))"
   ]
  },
  {
   "cell_type": "code",
   "execution_count": 10,
   "id": "d85045f8-e2c2-40c6-9b10-0d0744753989",
   "metadata": {
    "tags": []
   },
   "outputs": [],
   "source": [
    "import torch.nn.functional as F\n",
    "from torch_geometric.nn import GCNConv\n",
    "\n",
    "class GCN(torch.nn.Module):\n",
    "    def __init__(self):\n",
    "        super().__init__()\n",
    "        self.conv1 = GCNConv(dataset.num_node_features, 16)\n",
    "        self.conv2 = GCNConv(16, dataset.num_classes)\n",
    "\n",
    "    def forward(self, data):\n",
    "        x, edge_index = data.x, data.edge_index\n",
    "\n",
    "        x = self.conv1(x, edge_index)\n",
    "        x = F.relu(x)\n",
    "        x = F.dropout(x, training=self.training)\n",
    "        x = self.conv2(x, edge_index)\n",
    "\n",
    "        return F.log_softmax(x, dim=1)"
   ]
  },
  {
   "cell_type": "code",
   "execution_count": 11,
   "id": "8ade7e3a-56bc-4f37-9086-ab695e1ed33c",
   "metadata": {
    "tags": []
   },
   "outputs": [
    {
     "ename": "AttributeError",
     "evalue": "'DataLoader' object has no attribute 'num_node_features'",
     "output_type": "error",
     "traceback": [
      "\u001b[1;31m---------------------------------------------------------------------------\u001b[0m",
      "\u001b[1;31mAttributeError\u001b[0m                            Traceback (most recent call last)",
      "Cell \u001b[1;32mIn[11], line 2\u001b[0m\n\u001b[0;32m      1\u001b[0m device \u001b[38;5;241m=\u001b[39m torch\u001b[38;5;241m.\u001b[39mdevice(\u001b[38;5;124m'\u001b[39m\u001b[38;5;124mcuda\u001b[39m\u001b[38;5;124m'\u001b[39m \u001b[38;5;28;01mif\u001b[39;00m torch\u001b[38;5;241m.\u001b[39mcuda\u001b[38;5;241m.\u001b[39mis_available() \u001b[38;5;28;01melse\u001b[39;00m \u001b[38;5;124m'\u001b[39m\u001b[38;5;124mcpu\u001b[39m\u001b[38;5;124m'\u001b[39m)\n\u001b[1;32m----> 2\u001b[0m model \u001b[38;5;241m=\u001b[39m \u001b[43mGCN\u001b[49m\u001b[43m(\u001b[49m\u001b[43m)\u001b[49m\u001b[38;5;241m.\u001b[39mto(device)\n\u001b[0;32m      3\u001b[0m data \u001b[38;5;241m=\u001b[39m dataset[\u001b[38;5;241m0\u001b[39m]\u001b[38;5;241m.\u001b[39mto(device)\n\u001b[0;32m      4\u001b[0m optimizer \u001b[38;5;241m=\u001b[39m torch\u001b[38;5;241m.\u001b[39moptim\u001b[38;5;241m.\u001b[39mAdam(model\u001b[38;5;241m.\u001b[39mparameters(), lr\u001b[38;5;241m=\u001b[39m\u001b[38;5;241m0.01\u001b[39m, weight_decay\u001b[38;5;241m=\u001b[39m\u001b[38;5;241m5e-4\u001b[39m)\n",
      "Cell \u001b[1;32mIn[10], line 7\u001b[0m, in \u001b[0;36mGCN.__init__\u001b[1;34m(self)\u001b[0m\n\u001b[0;32m      5\u001b[0m \u001b[38;5;28;01mdef\u001b[39;00m \u001b[38;5;21m__init__\u001b[39m(\u001b[38;5;28mself\u001b[39m):\n\u001b[0;32m      6\u001b[0m     \u001b[38;5;28msuper\u001b[39m()\u001b[38;5;241m.\u001b[39m\u001b[38;5;21m__init__\u001b[39m()\n\u001b[1;32m----> 7\u001b[0m     \u001b[38;5;28mself\u001b[39m\u001b[38;5;241m.\u001b[39mconv1 \u001b[38;5;241m=\u001b[39m GCNConv(\u001b[43mdataset\u001b[49m\u001b[38;5;241;43m.\u001b[39;49m\u001b[43mnum_node_features\u001b[49m, \u001b[38;5;241m16\u001b[39m)\n\u001b[0;32m      8\u001b[0m     \u001b[38;5;28mself\u001b[39m\u001b[38;5;241m.\u001b[39mconv2 \u001b[38;5;241m=\u001b[39m GCNConv(\u001b[38;5;241m16\u001b[39m, dataset\u001b[38;5;241m.\u001b[39mnum_classes)\n",
      "\u001b[1;31mAttributeError\u001b[0m: 'DataLoader' object has no attribute 'num_node_features'"
     ]
    }
   ],
   "source": [
    "device = torch.device('cuda' if torch.cuda.is_available() else 'cpu')\n",
    "model = GCN().to(device)\n",
    "data = dataset[0].to(device)\n",
    "optimizer = torch.optim.Adam(model.parameters(), lr=0.01, weight_decay=5e-4)\n",
    "\n",
    "model.train()\n",
    "for epoch in range(200):\n",
    "    optimizer.zero_grad()\n",
    "    out = model(data)\n",
    "    loss = F.nll_loss(out[data.train_mask], data.y[data.train_mask])\n",
    "    loss.backward()\n",
    "    optimizer.step()"
   ]
  }
 ],
 "metadata": {
  "kernelspec": {
   "display_name": "Python 3 (ipykernel)",
   "language": "python",
   "name": "python3"
  },
  "language_info": {
   "codemirror_mode": {
    "name": "ipython",
    "version": 3
   },
   "file_extension": ".py",
   "mimetype": "text/x-python",
   "name": "python",
   "nbconvert_exporter": "python",
   "pygments_lexer": "ipython3",
   "version": "3.9.17"
  }
 },
 "nbformat": 4,
 "nbformat_minor": 5
}
