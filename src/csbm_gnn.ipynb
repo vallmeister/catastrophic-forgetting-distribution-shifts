{
 "cells": [
  {
   "cell_type": "markdown",
   "id": "6dec4229-d469-44bb-a613-d4c74e3a99ac",
   "metadata": {},
   "source": [
    "# Using CSBM generated data to train a model"
   ]
  },
  {
   "cell_type": "code",
   "execution_count": 1,
   "id": "80c22ad0-1582-4760-b8a2-5d2f9f4ca44e",
   "metadata": {
    "tags": []
   },
   "outputs": [],
   "source": [
    "import torch\n",
    "import matplotlib.pyplot as plt"
   ]
  },
  {
   "cell_type": "code",
   "execution_count": 2,
   "id": "2975f3c2-87bd-4267-adff-2bf10c926a63",
   "metadata": {
    "tags": []
   },
   "outputs": [],
   "source": [
    "n = 5000\n",
    "T = 10\n",
    "c = 32\n",
    "d = 128"
   ]
  },
  {
   "cell_type": "code",
   "execution_count": 3,
   "id": "2effdce4-b2e6-4fc2-aa71-61ae45cf426e",
   "metadata": {},
   "outputs": [],
   "source": [
    "base_dl = torch.load('./csbm/csbm_base.pt')\n",
    "zero_dl = torch.load('./csbm/csbm_zero.pt')\n",
    "feat_dl = torch.load('./csbm/csbm_feat.pt')\n",
    "struct_dl = torch.load('./csbm/csbm_struct.pt')\n",
    "homophily_dl = torch.load('./csbm/csbm_hom.pt')\n",
    "class_dl = torch.load('./csbm/csbm_class.pt')"
   ]
  },
  {
   "cell_type": "code",
   "execution_count": 4,
   "id": "d85045f8-e2c2-40c6-9b10-0d0744753989",
   "metadata": {
    "tags": []
   },
   "outputs": [],
   "source": [
    "import torch.nn.functional as F\n",
    "from torch_geometric.nn import GCNConv\n",
    "\n",
    "class GCN(torch.nn.Module):\n",
    "    def __init__(self):\n",
    "        super().__init__()\n",
    "        self.conv1 = GCNConv(d, 128)\n",
    "        self.conv2 = GCNConv(128, c)\n",
    "\n",
    "    def forward(self, data):\n",
    "        x, edge_index = data.x, data.edge_index\n",
    "\n",
    "        x = self.conv1(x, edge_index)\n",
    "        x = F.relu(x)\n",
    "        x = F.dropout(x, training=self.training)\n",
    "        x = self.conv2(x, edge_index)\n",
    "\n",
    "        return F.log_softmax(x, dim=1)"
   ]
  },
  {
   "cell_type": "markdown",
   "id": "d553891c-10c8-456a-8eb3-88aedf28b189",
   "metadata": {},
   "source": [
    "## Retrain model for each task"
   ]
  },
  {
   "cell_type": "code",
   "execution_count": null,
   "id": "8ade7e3a-56bc-4f37-9086-ab695e1ed33c",
   "metadata": {
    "tags": []
   },
   "outputs": [
    {
     "name": "stdout",
     "output_type": "stream",
     "text": [
      "cuda\n"
     ]
    }
   ],
   "source": [
    "from metrics import Result\n",
    "device = torch.device('cuda' if torch.cuda.is_available() else 'cpu')\n",
    "print(device)\n",
    "torch.set_printoptions(precision=2)\n",
    "\n",
    "base_result = Result(GCN().to(device), base_dl)\n",
    "zero_result = Result(GCN().to(device), zero_dl)\n",
    "feat_result = Result(GCN().to(device), feat_dl)\n",
    "struct_result = Result(GCN().to(device), struct_dl)\n",
    "homophily_result = Result(GCN().to(device), homophily_dl)\n",
    "class_result = Result(GCN().to(device), class_dl)\n",
    "\n",
    "results = [base_result, zero_result, feat_result, struct_result, homophily_result, class_result]\n",
    "names = {base_result: 'Base-CSBM',\n",
    "         zero_result: 'Zero-CSBM',\n",
    "         feat_result: 'Feature-CSBM',\n",
    "         struct_result: 'Structure-CSBM',\n",
    "         homophily_result: 'Homophily-CSBM',\n",
    "         class_result: 'Class-CSBM'}\n",
    "for result in results:\n",
    "    result.learn()\n",
    "\n",
    "for result in results:\n",
    "    print('\\n' + 10 * '=' + f' {names[result]} ' + 10 * '=')\n",
    "    print(result.get_result_matrix)\n",
    "    print(f'\\n AP: {result.get_average_accuracy():.2f}'.ljust(10) + f'AF: {result.get_average_forgetting_measure():.2f}')"
   ]
  }
 ],
 "metadata": {
  "kernelspec": {
   "display_name": "Python 3 (ipykernel)",
   "language": "python",
   "name": "python3"
  },
  "language_info": {
   "codemirror_mode": {
    "name": "ipython",
    "version": 3
   },
   "file_extension": ".py",
   "mimetype": "text/x-python",
   "name": "python",
   "nbconvert_exporter": "python",
   "pygments_lexer": "ipython3",
   "version": "3.9.18"
  }
 },
 "nbformat": 4,
 "nbformat_minor": 5
}
