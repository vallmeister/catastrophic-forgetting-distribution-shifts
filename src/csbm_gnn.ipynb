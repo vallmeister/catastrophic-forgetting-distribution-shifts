{
 "cells": [
  {
   "cell_type": "markdown",
   "id": "6dec4229-d469-44bb-a613-d4c74e3a99ac",
   "metadata": {},
   "source": [
    "# Using CSBM generated data to train a model"
   ]
  },
  {
   "cell_type": "code",
   "execution_count": 1,
   "id": "80c22ad0-1582-4760-b8a2-5d2f9f4ca44e",
   "metadata": {
    "tags": []
   },
   "outputs": [],
   "source": [
    "import torch\n",
    "import matplotlib.pyplot as plt\n",
    "from csbms import MultiClassCSBM, FeatureCSBM, StructureCSBM"
   ]
  },
  {
   "cell_type": "code",
   "execution_count": 2,
   "id": "2975f3c2-87bd-4267-adff-2bf10c926a63",
   "metadata": {
    "tags": []
   },
   "outputs": [],
   "source": [
    "n = 1600\n",
    "d = 128\n",
    "c = 4"
   ]
  },
  {
   "cell_type": "code",
   "execution_count": 3,
   "id": "080e13cf-08de-4dd0-946e-0e7fdc80d931",
   "metadata": {
    "tags": []
   },
   "outputs": [],
   "source": [
    "csbm = FeatureCSBM(n=n, dimensions=d, classes=c)\n",
    "data_list = [csbm.data]\n",
    "for _ in range(9):\n",
    "    csbm.evolve()\n",
    "    data_list.append(csbm.data)"
   ]
  },
  {
   "cell_type": "code",
   "execution_count": 4,
   "id": "d85045f8-e2c2-40c6-9b10-0d0744753989",
   "metadata": {
    "tags": []
   },
   "outputs": [],
   "source": [
    "import torch.nn.functional as F\n",
    "from torch_geometric.nn import GCNConv\n",
    "\n",
    "class GCN(torch.nn.Module):\n",
    "    def __init__(self):\n",
    "        super().__init__()\n",
    "        self.conv1 = GCNConv(d, 16)\n",
    "        self.conv2 = GCNConv(16, c)\n",
    "\n",
    "    def forward(self, data):\n",
    "        x, edge_index = data.x, data.edge_index\n",
    "\n",
    "        x = self.conv1(x, edge_index)\n",
    "        x = F.relu(x)\n",
    "        x = F.dropout(x, training=self.training)\n",
    "        x = self.conv2(x, edge_index)\n",
    "\n",
    "        return F.log_softmax(x, dim=1)"
   ]
  },
  {
   "cell_type": "markdown",
   "id": "d553891c-10c8-456a-8eb3-88aedf28b189",
   "metadata": {},
   "source": [
    "## Retrain model for each task"
   ]
  },
  {
   "cell_type": "code",
   "execution_count": 5,
   "id": "8ade7e3a-56bc-4f37-9086-ab695e1ed33c",
   "metadata": {
    "tags": []
   },
   "outputs": [
    {
     "name": "stdout",
     "output_type": "stream",
     "text": [
      "cuda\n",
      "\n",
      "---------- Training and evaluating the model on each task ----------\n",
      "Task 01, Accuracy: 0.6648\n",
      "Task 02, Accuracy: 0.6562\n",
      "Task 03, Accuracy: 0.6602\n",
      "Task 04, Accuracy: 0.6461\n",
      "Task 05, Accuracy: 0.6367\n",
      "Task 06, Accuracy: 0.6602\n",
      "Task 07, Accuracy: 0.6625\n",
      "Task 08, Accuracy: 0.6727\n",
      "Task 09, Accuracy: 0.6672\n",
      "Task 10, Accuracy: 0.7469\n"
     ]
    }
   ],
   "source": [
    "device = torch.device('cuda' if torch.cuda.is_available() else 'cpu')\n",
    "print(device)\n",
    "model = GCN().to(device)\n",
    "optimizer = torch.optim.Adam(model.parameters(), lr=0.01, weight_decay=5e-4)\n",
    "\n",
    "print('\\n' + 10 * '-' + ' Training and evaluating the model on each task ' + 10 * '-')\n",
    "for task, data in enumerate(data_list):\n",
    "    data = data.to(device)\n",
    "    model.train()\n",
    "    for epoch in range(200):\n",
    "        optimizer.zero_grad()\n",
    "        out = model(data)\n",
    "        loss = F.nll_loss(out[data.train_mask], data.y[data.train_mask])\n",
    "        loss.backward()\n",
    "        optimizer.step()\n",
    "    model.eval()\n",
    "    pred = model(data).argmax(dim=1)\n",
    "    correct = (pred[data.test_mask] == data.y[data.test_mask]).sum()\n",
    "    acc = int(correct) / int(data.test_mask.sum())\n",
    "    print(f'Task {task+1:02d}, Accuracy: {acc:.4f}')"
   ]
  },
  {
   "cell_type": "code",
   "execution_count": 6,
   "id": "34004ed9-9823-40e4-8b9f-fd8e33317ee3",
   "metadata": {},
   "outputs": [
    {
     "name": "stdout",
     "output_type": "stream",
     "text": [
      "\n",
      "---------- Evaluation after training the model on all tasks ----------\n",
      "Task 01, Accuracy: 0.2094\n",
      "Task 02, Accuracy: 0.2789\n",
      "Task 03, Accuracy: 0.3312\n",
      "Task 04, Accuracy: 0.3656\n",
      "Task 05, Accuracy: 0.4602\n",
      "Task 06, Accuracy: 0.5781\n",
      "Task 07, Accuracy: 0.6367\n",
      "Task 08, Accuracy: 0.6867\n",
      "Task 09, Accuracy: 0.7188\n",
      "Task 10, Accuracy: 0.7469\n"
     ]
    }
   ],
   "source": [
    "print('\\n' + 10 * '-' + ' Evaluation after training the model on all tasks ' + 10 * '-')\n",
    "model.eval()\n",
    "for task, data in enumerate(data_list):\n",
    "    data = data.to(device)\n",
    "    pred = model(data).argmax(dim=1)\n",
    "    correct = (pred[data.test_mask] == data.y[data.test_mask]).sum()\n",
    "    acc = int(correct) / int(data.test_mask.sum())\n",
    "    print(f'Task {task+1:02d}, Accuracy: {acc:.4f}')"
   ]
  },
  {
   "cell_type": "markdown",
   "id": "8cd9e098-df80-4098-96c8-8b9444f185e9",
   "metadata": {},
   "source": [
    "## Train model on T1 and evaluate on other tasks"
   ]
  },
  {
   "cell_type": "code",
   "execution_count": 7,
   "id": "6cabe0a8-0cc2-461b-80c4-bcbfe641f62c",
   "metadata": {},
   "outputs": [
    {
     "name": "stdout",
     "output_type": "stream",
     "text": [
      "cuda\n"
     ]
    }
   ],
   "source": [
    "device = torch.device('cuda' if torch.cuda.is_available() else 'cpu')\n",
    "print(device)\n",
    "model = GCN().to(device)\n",
    "optimizer = torch.optim.Adam(model.parameters(), lr=0.01, weight_decay=5e-4)\n",
    "\n",
    "data = data_list[0].to(device)\n",
    "model.train()\n",
    "for epoch in range(200):\n",
    "    optimizer.zero_grad()\n",
    "    out = model(data)\n",
    "    loss = F.nll_loss(out[data.train_mask], data.y[data.train_mask])\n",
    "    loss.backward()\n",
    "    optimizer.step()"
   ]
  },
  {
   "cell_type": "code",
   "execution_count": 8,
   "id": "d7ebd8de-a6d5-4e2a-9c65-f6d47ad883bd",
   "metadata": {},
   "outputs": [
    {
     "name": "stdout",
     "output_type": "stream",
     "text": [
      "Task 01, Accuracy: 0.6555\n",
      "Task 02, Accuracy: 0.5555\n",
      "Task 03, Accuracy: 0.5180\n",
      "Task 04, Accuracy: 0.5383\n",
      "Task 05, Accuracy: 0.4945\n",
      "Task 06, Accuracy: 0.4406\n",
      "Task 07, Accuracy: 0.3781\n",
      "Task 08, Accuracy: 0.3109\n",
      "Task 09, Accuracy: 0.2750\n",
      "Task 10, Accuracy: 0.2141\n"
     ]
    }
   ],
   "source": [
    "model.eval()\n",
    "for task, data in enumerate(data_list):\n",
    "    data = data.to(device)\n",
    "    pred = model(data).argmax(dim=1)\n",
    "    correct = (pred[data.test_mask] == data.y[data.test_mask]).sum()\n",
    "    acc = int(correct) / int(data.test_mask.sum())\n",
    "    print(f'Task {task+1:02d}, Accuracy: {acc:.4f}')"
   ]
  }
 ],
 "metadata": {
  "kernelspec": {
   "display_name": "Python 3 (ipykernel)",
   "language": "python",
   "name": "python3"
  },
  "language_info": {
   "codemirror_mode": {
    "name": "ipython",
    "version": 3
   },
   "file_extension": ".py",
   "mimetype": "text/x-python",
   "name": "python",
   "nbconvert_exporter": "python",
   "pygments_lexer": "ipython3",
   "version": "3.9.18"
  }
 },
 "nbformat": 4,
 "nbformat_minor": 5
}
