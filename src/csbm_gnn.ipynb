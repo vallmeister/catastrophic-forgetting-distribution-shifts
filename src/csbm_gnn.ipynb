{
 "cells": [
  {
   "cell_type": "markdown",
   "id": "6dec4229-d469-44bb-a613-d4c74e3a99ac",
   "metadata": {},
   "source": [
    "# Using CSBM generated data to train a model"
   ]
  },
  {
   "cell_type": "code",
   "execution_count": 1,
   "id": "80c22ad0-1582-4760-b8a2-5d2f9f4ca44e",
   "metadata": {
    "tags": []
   },
   "outputs": [],
   "source": [
    "import torch\n",
    "import matplotlib.pyplot as plt\n",
    "import numpy as np\n",
    "import math\n",
    "from csbms import MultiClassCSBM, StructureCSBM"
   ]
  },
  {
   "cell_type": "code",
   "execution_count": 2,
   "id": "2975f3c2-87bd-4267-adff-2bf10c926a63",
   "metadata": {
    "tags": []
   },
   "outputs": [],
   "source": [
    "n = 160\n",
    "d = 128\n",
    "c = 16"
   ]
  },
  {
   "cell_type": "code",
   "execution_count": 3,
   "id": "080e13cf-08de-4dd0-946e-0e7fdc80d931",
   "metadata": {
    "tags": []
   },
   "outputs": [],
   "source": [
    "csbm = MultiClassCSBM(n=n, dimensions=d, classes=c)\n",
    "data_list = [csbm.data]\n",
    "for _ in range(9):\n",
    "    csbm.evolve()\n",
    "    data_list.append(csbm.data)"
   ]
  },
  {
   "cell_type": "code",
   "execution_count": 4,
   "id": "d85045f8-e2c2-40c6-9b10-0d0744753989",
   "metadata": {
    "tags": []
   },
   "outputs": [],
   "source": [
    "import torch.nn.functional as F\n",
    "from torch_geometric.nn import GCNConv\n",
    "\n",
    "class GCN(torch.nn.Module):\n",
    "    def __init__(self):\n",
    "        super().__init__()\n",
    "        self.conv1 = GCNConv(d, 16)\n",
    "        self.conv2 = GCNConv(16, c)\n",
    "\n",
    "    def forward(self, data):\n",
    "        x, edge_index = data.x, data.edge_index\n",
    "\n",
    "        x = self.conv1(x, edge_index)\n",
    "        x = F.relu(x)\n",
    "        x = F.dropout(x, training=self.training)\n",
    "        x = self.conv2(x, edge_index)\n",
    "\n",
    "        return F.log_softmax(x, dim=1)"
   ]
  },
  {
   "cell_type": "code",
   "execution_count": 5,
   "id": "8ade7e3a-56bc-4f37-9086-ab695e1ed33c",
   "metadata": {
    "tags": []
   },
   "outputs": [
    {
     "name": "stdout",
     "output_type": "stream",
     "text": [
      "cuda\n"
     ]
    },
    {
     "ename": "NameError",
     "evalue": "name 'dataloader' is not defined",
     "output_type": "error",
     "traceback": [
      "\u001b[1;31m---------------------------------------------------------------------------\u001b[0m",
      "\u001b[1;31mNameError\u001b[0m                                 Traceback (most recent call last)",
      "Cell \u001b[1;32mIn[5], line 9\u001b[0m\n\u001b[0;32m      7\u001b[0m \u001b[38;5;28;01mfor\u001b[39;00m epoch \u001b[38;5;129;01min\u001b[39;00m \u001b[38;5;28mrange\u001b[39m(num_epochs):\n\u001b[0;32m      8\u001b[0m     model\u001b[38;5;241m.\u001b[39mtrain()\n\u001b[1;32m----> 9\u001b[0m     \u001b[38;5;28;01mfor\u001b[39;00m batch \u001b[38;5;129;01min\u001b[39;00m \u001b[43mdataloader\u001b[49m:\n\u001b[0;32m     10\u001b[0m         data \u001b[38;5;241m=\u001b[39m batch\u001b[38;5;241m.\u001b[39mto(device)\n\u001b[0;32m     11\u001b[0m         \u001b[38;5;28mprint\u001b[39m(data)\n",
      "\u001b[1;31mNameError\u001b[0m: name 'dataloader' is not defined"
     ]
    }
   ],
   "source": [
    "num_epochs = 50\n",
    "device = torch.device('cuda' if torch.cuda.is_available() else 'cpu')\n",
    "print(device)\n",
    "model = GCN().to(device)\n",
    "optimizer = torch.optim.Adam(model.parameters(), lr=0.01, weight_decay=5e-4)\n",
    "\n",
    "for epoch in range(num_epochs):\n",
    "    model.train()\n",
    "    for batch in dataloader:\n",
    "        data = batch.to(device)\n",
    "        print(data)\n",
    "        optimizer.zero_grad()\n",
    "        out = model(data)\n",
    "        loss = F.nll_loss(out[data.train_mask], data.y[data.train_mask])\n",
    "        loss.backward()\n",
    "        optimizer.step()\n",
    "    if epoch % 10 == 9:\n",
    "        print(f'Epoch {epoch + 1}/{num_epochs}, Loss: {loss.item()}')"
   ]
  },
  {
   "cell_type": "code",
   "execution_count": null,
   "id": "ef035e34-5ae3-4a3e-b660-a484a15b9c4e",
   "metadata": {
    "tags": []
   },
   "outputs": [],
   "source": [
    "model.eval()\n",
    "print(data)\n",
    "print(len(data.test_mask))\n",
    "pred = model(data).argmax(dim=1)\n",
    "print(len(pred))\n",
    "correct = (pred[data.test_mask] == data.y[data.test_mask]).sum()\n",
    "print(len(data.y))\n",
    "print(correct)\n",
    "acc = int(correct) / int(data.test_mask.sum())\n",
    "print(int(data.test_mask.sum()))\n",
    "print(f'Accuracy: {acc:.4f}')"
   ]
  }
 ],
 "metadata": {
  "kernelspec": {
   "display_name": "Python 3 (ipykernel)",
   "language": "python",
   "name": "python3"
  },
  "language_info": {
   "codemirror_mode": {
    "name": "ipython",
    "version": 3
   },
   "file_extension": ".py",
   "mimetype": "text/x-python",
   "name": "python",
   "nbconvert_exporter": "python",
   "pygments_lexer": "ipython3",
   "version": "3.9.18"
  }
 },
 "nbformat": 4,
 "nbformat_minor": 5
}
