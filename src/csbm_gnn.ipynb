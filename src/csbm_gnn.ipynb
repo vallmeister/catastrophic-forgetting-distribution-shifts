{
 "cells": [
  {
   "cell_type": "markdown",
   "id": "6dec4229-d469-44bb-a613-d4c74e3a99ac",
   "metadata": {},
   "source": [
    "# Using CSBM generated data to train a model"
   ]
  },
  {
   "cell_type": "code",
   "execution_count": 1,
   "id": "80c22ad0-1582-4760-b8a2-5d2f9f4ca44e",
   "metadata": {
    "tags": []
   },
   "outputs": [],
   "source": [
    "import torch\n",
    "import matplotlib.pyplot as plt\n",
    "import numpy as np\n",
    "import math\n",
    "from MultiClassCSBM import MultiClassCSBM"
   ]
  },
  {
   "cell_type": "code",
   "execution_count": 2,
   "id": "2975f3c2-87bd-4267-adff-2bf10c926a63",
   "metadata": {
    "tags": []
   },
   "outputs": [],
   "source": [
    "n = 5000\n",
    "d = 100\n",
    "c = 20"
   ]
  },
  {
   "cell_type": "code",
   "execution_count": 3,
   "id": "080e13cf-08de-4dd0-946e-0e7fdc80d931",
   "metadata": {
    "tags": []
   },
   "outputs": [
    {
     "name": "stdout",
     "output_type": "stream",
     "text": [
      "[Data(x=[100, 25], edge_index=[2, 1782], y=[100], train_mask=[100], test_mask=[100]), Data(x=[200, 25], edge_index=[2, 5345], y=[200], train_mask=[200], test_mask=[200]), Data(x=[300, 25], edge_index=[2, 10736], y=[300], train_mask=[300], test_mask=[300]), Data(x=[400, 25], edge_index=[2, 17857], y=[400], train_mask=[400], test_mask=[400]), Data(x=[500, 25], edge_index=[2, 26884], y=[500], train_mask=[500], test_mask=[500]), Data(x=[600, 25], edge_index=[2, 37560], y=[600], train_mask=[600], test_mask=[600]), Data(x=[700, 25], edge_index=[2, 50165], y=[700], train_mask=[700], test_mask=[700]), Data(x=[800, 25], edge_index=[2, 64456], y=[800], train_mask=[800], test_mask=[800]), Data(x=[900, 25], edge_index=[2, 80724], y=[900], train_mask=[900], test_mask=[900]), Data(x=[1000, 25], edge_index=[2, 98594], y=[1000], train_mask=[1000], test_mask=[1000])]\n"
     ]
    }
   ],
   "source": [
    "csbm = MultiClassCSBM(n=n, dimensions=d, classes=c)\n",
    "data_list = []\n",
    "for _ in range(10):\n",
    "    data_list.append(csbm.data)\n",
    "    csbm.evolve()"
   ]
  },
  {
   "cell_type": "code",
   "execution_count": 4,
   "id": "e828233f-8b7b-42f6-9b49-365af160c0d1",
   "metadata": {
    "tags": []
   },
   "outputs": [],
   "source": [
    "from torch_geometric.data import Data\n",
    "from torch_geometric.loader import DataLoader\n",
    "\n",
    "dataloader = DataLoader(data_list, batch_size=32)"
   ]
  },
  {
   "cell_type": "code",
   "execution_count": 5,
   "id": "d85045f8-e2c2-40c6-9b10-0d0744753989",
   "metadata": {
    "tags": []
   },
   "outputs": [],
   "source": [
    "import torch.nn.functional as F\n",
    "from torch_geometric.nn import GCNConv\n",
    "\n",
    "class GCN(torch.nn.Module):\n",
    "    def __init__(self):\n",
    "        super().__init__()\n",
    "        self.conv1 = GCNConv(d, 16)\n",
    "        self.conv2 = GCNConv(16, c)\n",
    "\n",
    "    def forward(self, data):\n",
    "        x, edge_index = data.x, data.edge_index\n",
    "\n",
    "        x = self.conv1(x, edge_index)\n",
    "        x = F.relu(x)\n",
    "        x = F.dropout(x, training=self.training)\n",
    "        x = self.conv2(x, edge_index)\n",
    "\n",
    "        return F.log_softmax(x, dim=1)"
   ]
  },
  {
   "cell_type": "code",
   "execution_count": 6,
   "id": "8ade7e3a-56bc-4f37-9086-ab695e1ed33c",
   "metadata": {
    "tags": []
   },
   "outputs": [
    {
     "name": "stdout",
     "output_type": "stream",
     "text": [
      "Epoch 1/10, Loss: 1.5782885551452637\n",
      "Epoch 2/10, Loss: 1.5589663982391357\n",
      "Epoch 3/10, Loss: 1.5330696105957031\n",
      "Epoch 4/10, Loss: 1.506467342376709\n",
      "Epoch 5/10, Loss: 1.480781078338623\n",
      "Epoch 6/10, Loss: 1.4525907039642334\n",
      "Epoch 7/10, Loss: 1.4323838949203491\n",
      "Epoch 8/10, Loss: 1.4055958986282349\n",
      "Epoch 9/10, Loss: 1.3797435760498047\n",
      "Epoch 10/10, Loss: 1.3514959812164307\n"
     ]
    }
   ],
   "source": [
    "num_epochs = 100\n",
    "device = torch.device('cuda' if torch.cuda.is_available() else 'cpu')\n",
    "model = GCN().to(device)\n",
    "optimizer = torch.optim.Adam(model.parameters(), lr=0.01, weight_decay=5e-4)\n",
    "\n",
    "for epoch in range(num_epochs):\n",
    "    model.train()\n",
    "    for batch in dataloader:\n",
    "        data = batch.to(device)\n",
    "        optimizer.zero_grad()\n",
    "        out = model(data)\n",
    "        loss = F.nll_loss(out[data.train_mask], data.y[data.train_mask])\n",
    "        loss.backward()\n",
    "        optimizer.step()\n",
    "    print(f'Epoch {epoch + 1}/{num_epochs}, Loss: {loss.item()}')"
   ]
  },
  {
   "cell_type": "code",
   "execution_count": 7,
   "id": "ef035e34-5ae3-4a3e-b660-a484a15b9c4e",
   "metadata": {
    "tags": []
   },
   "outputs": [
    {
     "name": "stdout",
     "output_type": "stream",
     "text": [
      "Accuracy: 0.6923\n"
     ]
    }
   ],
   "source": [
    "model.eval()\n",
    "pred = model(data).argmax(dim=1)\n",
    "correct = (pred[data.test_mask] == data.y[data.test_mask]).sum()\n",
    "acc = int(correct) / int(data.test_mask.sum())\n",
    "print(f'Accuracy: {acc:.4f}')"
   ]
  }
 ],
 "metadata": {
  "kernelspec": {
   "display_name": "Python 3 (ipykernel)",
   "language": "python",
   "name": "python3"
  },
  "language_info": {
   "codemirror_mode": {
    "name": "ipython",
    "version": 3
   },
   "file_extension": ".py",
   "mimetype": "text/x-python",
   "name": "python",
   "nbconvert_exporter": "python",
   "pygments_lexer": "ipython3",
   "version": "3.9.17"
  }
 },
 "nbformat": 4,
 "nbformat_minor": 5
}
