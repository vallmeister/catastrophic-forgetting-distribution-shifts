{
 "cells": [
  {
   "cell_type": "markdown",
   "id": "38e3a51e-bc3f-4d96-acca-3596ef2bc37d",
   "metadata": {},
   "source": [
    "# Structure shift of real-world datasets"
   ]
  },
  {
   "cell_type": "code",
   "execution_count": 1,
   "id": "298e5de0-1206-4fe5-9f6b-e3af4f9d3e1b",
   "metadata": {},
   "outputs": [],
   "source": [
    "from datasets import get_dblp, get_elliptic_temporal"
   ]
  },
  {
   "cell_type": "code",
   "execution_count": 2,
   "id": "4a7a7250-dea5-44ab-9508-960b0855b44d",
   "metadata": {},
   "outputs": [],
   "source": [
    "dblp = get_dblp()\n",
    "elliptic = get_elliptic_temporal(1)"
   ]
  }
 ],
 "metadata": {
  "kernelspec": {
   "display_name": "Python 3 (ipykernel)",
   "language": "python",
   "name": "python3"
  },
  "language_info": {
   "codemirror_mode": {
    "name": "ipython",
    "version": 3
   },
   "file_extension": ".py",
   "mimetype": "text/x-python",
   "name": "python",
   "nbconvert_exporter": "python",
   "pygments_lexer": "ipython3",
   "version": "3.9.18"
  }
 },
 "nbformat": 4,
 "nbformat_minor": 5
}
