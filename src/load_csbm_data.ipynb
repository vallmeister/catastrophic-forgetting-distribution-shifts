{
 "cells": [
  {
   "cell_type": "markdown",
   "id": "5bba4324-ec6a-426a-af7f-8f9b8a40194d",
   "metadata": {},
   "source": [
    "# Loading pre-compiled csbm data"
   ]
  },
  {
   "cell_type": "code",
   "execution_count": 1,
   "id": "7ce38cb9-b8ff-4322-a1eb-c9026966c907",
   "metadata": {},
   "outputs": [],
   "source": [
    "import sys\n",
    "import torch\n",
    "from csbm import MultiClassCSBM\n",
    "from torch_geometric.nn import Node2Vec"
   ]
  },
  {
   "cell_type": "code",
   "execution_count": 2,
   "id": "617b7ee4-816e-4919-a7a3-1fd2b64a0ea7",
   "metadata": {},
   "outputs": [],
   "source": [
    "csbm_data_list = torch.load('./csbm/csbm.pt')"
   ]
  },
  {
   "cell_type": "code",
   "execution_count": 3,
   "id": "14c94000-2a04-424c-8926-43f24cd700e1",
   "metadata": {},
   "outputs": [
    {
     "name": "stdout",
     "output_type": "stream",
     "text": [
      "282166\n"
     ]
    }
   ],
   "source": [
    "print(len(csbm_data_list[-1].edge_index[0]))"
   ]
  },
  {
   "cell_type": "code",
   "execution_count": 4,
   "id": "df85f49f-c244-41b9-8065-7c7803babcde",
   "metadata": {},
   "outputs": [
    {
     "name": "stdout",
     "output_type": "stream",
     "text": [
      "cuda\n"
     ]
    }
   ],
   "source": [
    "device = 'cuda' if torch.cuda.is_available() else 'cpu'\n",
    "print(device)\n",
    "\n",
    "n = 160\n",
    "csbm_zero = MultiClassCSBM(n=n, q_hom=0.25, q_het=0.05)"
   ]
  },
  {
   "cell_type": "code",
   "execution_count": 5,
   "id": "9013f4f4-2261-4871-a222-7538d06ce82c",
   "metadata": {},
   "outputs": [
    {
     "name": "stdout",
     "output_type": "stream",
     "text": [
      "11.3\n"
     ]
    }
   ],
   "source": [
    "print(len(csbm_zero.edge_sources) / len(csbm_zero.X))"
   ]
  },
  {
   "cell_type": "code",
   "execution_count": 6,
   "id": "cf4e29ce-8bd1-4e32-9a1b-34d094959d30",
   "metadata": {},
   "outputs": [],
   "source": [
    "def node2vec_tuning(csbm, p, q):\n",
    "    data = csbm.get_data()\n",
    "    model = Node2Vec(\n",
    "        data.edge_index,\n",
    "        embedding_dim=128,\n",
    "        walk_length=80,\n",
    "        context_size=10,\n",
    "        walks_per_node=10,\n",
    "        num_negative_samples=1,\n",
    "        p=p,\n",
    "        q=q).to(device)\n",
    "        \n",
    "    num_workers = 4 if sys.platform == 'linux' else 0\n",
    "    loader = model.loader(batch_size=16, shuffle=True, num_workers=num_workers)\n",
    "    optimizer = torch.optim.Adam(list(model.parameters()), lr=0.01)\n",
    "    train_mask = torch.zeros(n, dtype=torch.bool)\n",
    "    train_mask[:int(0.5 * n)] = 1\n",
    "    test_mask = torch.zeros(n, dtype=torch.bool)\n",
    "    test_mask[-int(0.5 * n):] = 1\n",
    "        \n",
    "    def train():\n",
    "        model.train()\n",
    "        total_loss = 0\n",
    "        for pos_rw, neg_rw in loader:\n",
    "            optimizer.zero_grad()\n",
    "            loss = model.loss(pos_rw.to(device), neg_rw.to(device))\n",
    "            loss.backward()\n",
    "            optimizer.step()\n",
    "            total_loss += loss.item()\n",
    "        return total_loss / len(loader)\n",
    "        \n",
    "    @torch.no_grad()\n",
    "    def test():\n",
    "        model.eval()\n",
    "        z = model()\n",
    "        acc = model.test(\n",
    "            train_z=z[train_mask],\n",
    "            train_y=data.y[train_mask],\n",
    "            test_z=z[test_mask],\n",
    "            test_y=data.y[test_mask],\n",
    "            max_iter=150,\n",
    "        )\n",
    "        return acc\n",
    "    \n",
    "    max_loss = 0\n",
    "    max_acc = 0\n",
    "    for epoch in range(150):\n",
    "        loss = train()\n",
    "        max_loss = max(max_loss, loss)\n",
    "        acc = test()\n",
    "        max_acc = max(acc, max_acc)\n",
    "    print(f'p: {p}'.ljust(10) + f' q: {q}'.ljust(10) + f' Acc: {max_acc:.3f}')"
   ]
  },
  {
   "cell_type": "code",
   "execution_count": 7,
   "id": "f327728c-2ff3-48b9-abf0-93daf5582af1",
   "metadata": {},
   "outputs": [
    {
     "name": "stdout",
     "output_type": "stream",
     "text": [
      "p: 0.25q: 0.25Acc: 0.1000\n",
      "p: 0.25q: 0.5 Acc: 0.1000\n",
      "p: 0.25q: 1   Acc: 0.1000\n",
      "p: 0.25q: 2   Acc: 0.0000\n"
     ]
    },
    {
     "ename": "KeyboardInterrupt",
     "evalue": "",
     "output_type": "error",
     "traceback": [
      "\u001b[1;31m---------------------------------------------------------------------------\u001b[0m",
      "\u001b[1;31mKeyboardInterrupt\u001b[0m                         Traceback (most recent call last)",
      "Cell \u001b[1;32mIn[7], line 4\u001b[0m\n\u001b[0;32m      2\u001b[0m \u001b[38;5;28;01mfor\u001b[39;00m p \u001b[38;5;129;01min\u001b[39;00m hyperparameters:\n\u001b[0;32m      3\u001b[0m     \u001b[38;5;28;01mfor\u001b[39;00m q \u001b[38;5;129;01min\u001b[39;00m hyperparameters:\n\u001b[1;32m----> 4\u001b[0m         \u001b[43mnode2vec_tuning\u001b[49m\u001b[43m(\u001b[49m\u001b[43mcsbm_zero\u001b[49m\u001b[43m,\u001b[49m\u001b[43m \u001b[49m\u001b[43mp\u001b[49m\u001b[43m,\u001b[49m\u001b[43m \u001b[49m\u001b[43mq\u001b[49m\u001b[43m)\u001b[49m\n",
      "Cell \u001b[1;32mIn[6], line 48\u001b[0m, in \u001b[0;36mnode2vec_tuning\u001b[1;34m(csbm, p, q)\u001b[0m\n\u001b[0;32m     46\u001b[0m max_acc \u001b[38;5;241m=\u001b[39m \u001b[38;5;241m0\u001b[39m\n\u001b[0;32m     47\u001b[0m \u001b[38;5;28;01mfor\u001b[39;00m epoch \u001b[38;5;129;01min\u001b[39;00m \u001b[38;5;28mrange\u001b[39m(\u001b[38;5;241m150\u001b[39m):\n\u001b[1;32m---> 48\u001b[0m     loss \u001b[38;5;241m=\u001b[39m \u001b[43mtrain\u001b[49m\u001b[43m(\u001b[49m\u001b[43m)\u001b[49m\n\u001b[0;32m     49\u001b[0m     max_loss \u001b[38;5;241m=\u001b[39m \u001b[38;5;28mmax\u001b[39m(max_loss, loss)\n\u001b[0;32m     50\u001b[0m     acc \u001b[38;5;241m=\u001b[39m test()\n",
      "Cell \u001b[1;32mIn[6], line 27\u001b[0m, in \u001b[0;36mnode2vec_tuning.<locals>.train\u001b[1;34m()\u001b[0m\n\u001b[0;32m     25\u001b[0m optimizer\u001b[38;5;241m.\u001b[39mzero_grad()\n\u001b[0;32m     26\u001b[0m loss \u001b[38;5;241m=\u001b[39m model\u001b[38;5;241m.\u001b[39mloss(pos_rw\u001b[38;5;241m.\u001b[39mto(device), neg_rw\u001b[38;5;241m.\u001b[39mto(device))\n\u001b[1;32m---> 27\u001b[0m \u001b[43mloss\u001b[49m\u001b[38;5;241;43m.\u001b[39;49m\u001b[43mbackward\u001b[49m\u001b[43m(\u001b[49m\u001b[43m)\u001b[49m\n\u001b[0;32m     28\u001b[0m optimizer\u001b[38;5;241m.\u001b[39mstep()\n\u001b[0;32m     29\u001b[0m total_loss \u001b[38;5;241m+\u001b[39m\u001b[38;5;241m=\u001b[39m loss\u001b[38;5;241m.\u001b[39mitem()\n",
      "File \u001b[1;32mD:\\Users\\Productivity\\anaconda3\\envs\\cudanew\\lib\\site-packages\\torch\\_tensor.py:492\u001b[0m, in \u001b[0;36mTensor.backward\u001b[1;34m(self, gradient, retain_graph, create_graph, inputs)\u001b[0m\n\u001b[0;32m    482\u001b[0m \u001b[38;5;28;01mif\u001b[39;00m has_torch_function_unary(\u001b[38;5;28mself\u001b[39m):\n\u001b[0;32m    483\u001b[0m     \u001b[38;5;28;01mreturn\u001b[39;00m handle_torch_function(\n\u001b[0;32m    484\u001b[0m         Tensor\u001b[38;5;241m.\u001b[39mbackward,\n\u001b[0;32m    485\u001b[0m         (\u001b[38;5;28mself\u001b[39m,),\n\u001b[1;32m   (...)\u001b[0m\n\u001b[0;32m    490\u001b[0m         inputs\u001b[38;5;241m=\u001b[39minputs,\n\u001b[0;32m    491\u001b[0m     )\n\u001b[1;32m--> 492\u001b[0m \u001b[43mtorch\u001b[49m\u001b[38;5;241;43m.\u001b[39;49m\u001b[43mautograd\u001b[49m\u001b[38;5;241;43m.\u001b[39;49m\u001b[43mbackward\u001b[49m\u001b[43m(\u001b[49m\n\u001b[0;32m    493\u001b[0m \u001b[43m    \u001b[49m\u001b[38;5;28;43mself\u001b[39;49m\u001b[43m,\u001b[49m\u001b[43m \u001b[49m\u001b[43mgradient\u001b[49m\u001b[43m,\u001b[49m\u001b[43m \u001b[49m\u001b[43mretain_graph\u001b[49m\u001b[43m,\u001b[49m\u001b[43m \u001b[49m\u001b[43mcreate_graph\u001b[49m\u001b[43m,\u001b[49m\u001b[43m \u001b[49m\u001b[43minputs\u001b[49m\u001b[38;5;241;43m=\u001b[39;49m\u001b[43minputs\u001b[49m\n\u001b[0;32m    494\u001b[0m \u001b[43m\u001b[49m\u001b[43m)\u001b[49m\n",
      "File \u001b[1;32mD:\\Users\\Productivity\\anaconda3\\envs\\cudanew\\lib\\site-packages\\torch\\autograd\\__init__.py:251\u001b[0m, in \u001b[0;36mbackward\u001b[1;34m(tensors, grad_tensors, retain_graph, create_graph, grad_variables, inputs)\u001b[0m\n\u001b[0;32m    246\u001b[0m     retain_graph \u001b[38;5;241m=\u001b[39m create_graph\n\u001b[0;32m    248\u001b[0m \u001b[38;5;66;03m# The reason we repeat the same comment below is that\u001b[39;00m\n\u001b[0;32m    249\u001b[0m \u001b[38;5;66;03m# some Python versions print out the first line of a multi-line function\u001b[39;00m\n\u001b[0;32m    250\u001b[0m \u001b[38;5;66;03m# calls in the traceback and some print out the last line\u001b[39;00m\n\u001b[1;32m--> 251\u001b[0m \u001b[43mVariable\u001b[49m\u001b[38;5;241;43m.\u001b[39;49m\u001b[43m_execution_engine\u001b[49m\u001b[38;5;241;43m.\u001b[39;49m\u001b[43mrun_backward\u001b[49m\u001b[43m(\u001b[49m\u001b[43m  \u001b[49m\u001b[38;5;66;43;03m# Calls into the C++ engine to run the backward pass\u001b[39;49;00m\n\u001b[0;32m    252\u001b[0m \u001b[43m    \u001b[49m\u001b[43mtensors\u001b[49m\u001b[43m,\u001b[49m\n\u001b[0;32m    253\u001b[0m \u001b[43m    \u001b[49m\u001b[43mgrad_tensors_\u001b[49m\u001b[43m,\u001b[49m\n\u001b[0;32m    254\u001b[0m \u001b[43m    \u001b[49m\u001b[43mretain_graph\u001b[49m\u001b[43m,\u001b[49m\n\u001b[0;32m    255\u001b[0m \u001b[43m    \u001b[49m\u001b[43mcreate_graph\u001b[49m\u001b[43m,\u001b[49m\n\u001b[0;32m    256\u001b[0m \u001b[43m    \u001b[49m\u001b[43minputs\u001b[49m\u001b[43m,\u001b[49m\n\u001b[0;32m    257\u001b[0m \u001b[43m    \u001b[49m\u001b[43mallow_unreachable\u001b[49m\u001b[38;5;241;43m=\u001b[39;49m\u001b[38;5;28;43;01mTrue\u001b[39;49;00m\u001b[43m,\u001b[49m\n\u001b[0;32m    258\u001b[0m \u001b[43m    \u001b[49m\u001b[43maccumulate_grad\u001b[49m\u001b[38;5;241;43m=\u001b[39;49m\u001b[38;5;28;43;01mTrue\u001b[39;49;00m\u001b[43m,\u001b[49m\n\u001b[0;32m    259\u001b[0m \u001b[43m\u001b[49m\u001b[43m)\u001b[49m\n",
      "\u001b[1;31mKeyboardInterrupt\u001b[0m: "
     ]
    }
   ],
   "source": [
    "hyperparameters = [0.25, 0.5, 1, 2, 4]\n",
    "for p in hyperparameters:\n",
    "    for q in hyperparameters:\n",
    "        node2vec_tuning(csbm_zero, p, q)"
   ]
  }
 ],
 "metadata": {
  "kernelspec": {
   "display_name": "Python 3 (ipykernel)",
   "language": "python",
   "name": "python3"
  },
  "language_info": {
   "codemirror_mode": {
    "name": "ipython",
    "version": 3
   },
   "file_extension": ".py",
   "mimetype": "text/x-python",
   "name": "python",
   "nbconvert_exporter": "python",
   "pygments_lexer": "ipython3",
   "version": "3.9.18"
  }
 },
 "nbformat": 4,
 "nbformat_minor": 5
}
