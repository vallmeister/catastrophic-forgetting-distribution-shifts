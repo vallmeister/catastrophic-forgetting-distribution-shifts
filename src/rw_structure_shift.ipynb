{
 "cells": [
  {
   "cell_type": "markdown",
   "id": "38e3a51e-bc3f-4d96-acca-3596ef2bc37d",
   "metadata": {},
   "source": [
    "# Structure shift of real-world datasets"
   ]
  },
  {
   "cell_type": "code",
   "execution_count": 1,
   "id": "298e5de0-1206-4fe5-9f6b-e3af4f9d3e1b",
   "metadata": {},
   "outputs": [],
   "source": [
    "import torch\n",
    "import torch_geometric\n",
    "\n",
    "import datasets as ds\n",
    "\n",
    "from measures import mmd_max_rbf\n",
    "from node2vec_embedding import get_node2vec_embedding"
   ]
  },
  {
   "cell_type": "code",
   "execution_count": 2,
   "id": "074bd074-aab3-47d7-91a1-99e701392217",
   "metadata": {},
   "outputs": [
    {
     "name": "stderr",
     "output_type": "stream",
     "text": [
      "D:\\Users\\Productivity\\anaconda3\\envs\\cudanew\\lib\\site-packages\\torch_geometric\\data\\in_memory_dataset.py:284: UserWarning: It is not recommended to directly access the internal storage format `data` of an 'InMemoryDataset'. If you are absolutely certain what you are doing, access the internal storage via `InMemoryDataset._data` instead to suppress this warning. Alternatively, you can access stacked individual attributes of every graph via `dataset.{attr_name}`.\n",
      "  warnings.warn(msg)\n"
     ]
    }
   ],
   "source": [
    "ogbn = ds.get_ogbn_arxiv_tasks()[-1]"
   ]
  },
  {
   "cell_type": "code",
   "execution_count": 3,
   "id": "8356647e-9f62-4106-b867-9b23372bd59b",
   "metadata": {},
   "outputs": [
    {
     "data": {
      "text/plain": [
       "tensor([False, False, False,  ..., False, False, False])"
      ]
     },
     "execution_count": 3,
     "metadata": {},
     "output_type": "execute_result"
    }
   ],
   "source": [
    "(ogbn.node_year <= 2011).squeeze()"
   ]
  },
  {
   "cell_type": "code",
   "execution_count": 4,
   "id": "579b8011-5069-49e0-a6d3-9dd06d020e68",
   "metadata": {},
   "outputs": [],
   "source": [
    "def get_structure_shift(emb):\n",
    "    shift = [0.0]\n",
    "    x = emb[(ogbn.node_year <= 2011).squeeze()]\n",
    "    print(len(x))\n",
    "    for year in range(2012, 2021):\n",
    "        z = emb[(ogbn.node_year == year).squeeze()]\n",
    "        shift.append(mmd_max_rbf(x, z))\n",
    "    return shift"
   ]
  },
  {
   "cell_type": "code",
   "execution_count": null,
   "id": "a4d25a42-8602-4a1c-8d1e-e9dc8ebd9fc2",
   "metadata": {},
   "outputs": [
    {
     "name": "stdout",
     "output_type": "stream",
     "text": [
      "Epoch: 001, Loss: 1.196, Accuracy: 0.257\n",
      "Epoch: 002, Loss: 0.731, Accuracy: 0.271\n",
      "Epoch: 003, Loss: 0.731, Accuracy: 0.282\n",
      "Epoch: 004, Loss: 0.731, Accuracy: 0.288\n",
      "Epoch: 005, Loss: 0.731, Accuracy: 0.287\n",
      "Epoch: 006, Loss: 0.731, Accuracy: 0.293\n",
      "Epoch: 007, Loss: 0.731, Accuracy: 0.297\n",
      "Epoch: 008, Loss: 0.731, Accuracy: 0.294\n",
      "Epoch: 009, Loss: 0.731, Accuracy: 0.296\n",
      "Epoch: 010, Loss: 0.731, Accuracy: 0.294\n",
      "17401\n",
      "Epoch: 001, Loss: 1.197, Accuracy: 0.256\n",
      "Epoch: 002, Loss: 0.731, Accuracy: 0.274\n",
      "Epoch: 003, Loss: 0.731, Accuracy: 0.285\n",
      "Epoch: 004, Loss: 0.731, Accuracy: 0.289\n",
      "Epoch: 005, Loss: 0.731, Accuracy: 0.290\n",
      "Epoch: 006, Loss: 0.731, Accuracy: 0.293\n",
      "Epoch: 007, Loss: 0.731, Accuracy: 0.294\n",
      "Epoch: 008, Loss: 0.731, Accuracy: 0.294\n"
     ]
    }
   ],
   "source": [
    "parameters = [0.25, 0.5, 1, 2, 4]\n",
    "\n",
    "for p in parameters:\n",
    "    for q in parameters:\n",
    "        embedding = get_node2vec_embedding(ogbn, p, q)\n",
    "        get_structure_shift(embedding)"
   ]
  }
 ],
 "metadata": {
  "kernelspec": {
   "display_name": "Python 3 (ipykernel)",
   "language": "python",
   "name": "python3"
  },
  "language_info": {
   "codemirror_mode": {
    "name": "ipython",
    "version": 3
   },
   "file_extension": ".py",
   "mimetype": "text/x-python",
   "name": "python",
   "nbconvert_exporter": "python",
   "pygments_lexer": "ipython3",
   "version": "3.9.18"
  }
 },
 "nbformat": 4,
 "nbformat_minor": 5
}
