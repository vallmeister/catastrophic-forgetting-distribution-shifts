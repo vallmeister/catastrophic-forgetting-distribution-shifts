{
 "cells": [
  {
   "cell_type": "code",
   "execution_count": 1,
   "id": "23a19cc6-1de6-4e2c-9127-6b46856a7960",
   "metadata": {
    "tags": []
   },
   "outputs": [],
   "source": [
    "import numpy as np\n",
    "from MultiClassCSBM import MultiClassCSBM"
   ]
  },
  {
   "cell_type": "code",
   "execution_count": 2,
   "id": "ecf6475d-f9dc-40df-848b-fe333721e79b",
   "metadata": {
    "tags": []
   },
   "outputs": [
    {
     "name": "stdout",
     "output_type": "stream",
     "text": [
      "100 1035 1\n",
      "200 2988 2\n",
      "300 5930 3\n",
      "400 9918 4\n",
      "500 14946 5\n",
      "600 20996 6\n",
      "700 27995 7\n",
      "800 36075 8\n",
      "900 45043 9\n",
      "1000 55262 10\n"
     ]
    }
   ],
   "source": [
    "csbm = MultiClassCSBM(n = 100, classes=1, q_hom=0.1, q_het=0.1)\n",
    "for i in range(10):\n",
    "    print(len(csbm.X), len(csbm.edge_sources), csbm.tau)\n",
    "    csbm.evolve()"
   ]
  }
 ],
 "metadata": {
  "kernelspec": {
   "display_name": "Python 3 (ipykernel)",
   "language": "python",
   "name": "python3"
  },
  "language_info": {
   "codemirror_mode": {
    "name": "ipython",
    "version": 3
   },
   "file_extension": ".py",
   "mimetype": "text/x-python",
   "name": "python",
   "nbconvert_exporter": "python",
   "pygments_lexer": "ipython3",
   "version": "3.9.17"
  }
 },
 "nbformat": 4,
 "nbformat_minor": 5
}
