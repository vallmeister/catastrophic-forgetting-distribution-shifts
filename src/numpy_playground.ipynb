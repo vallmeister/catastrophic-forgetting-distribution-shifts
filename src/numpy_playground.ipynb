{
 "cells": [
  {
   "cell_type": "code",
   "execution_count": 1,
   "id": "23a19cc6-1de6-4e2c-9127-6b46856a7960",
   "metadata": {
    "tags": []
   },
   "outputs": [],
   "source": [
    "import matplotlib.pyplot as plt\n",
    "import numpy as np\n",
    "from collections import Counter\n",
    "from MultiClassCSBM import MultiClassCSBM\n",
    "from CSBMFeat import CSBMFeat\n",
    "from CSBMcl import CSBMcl"
   ]
  },
  {
   "cell_type": "code",
   "execution_count": 2,
   "id": "59eeefb0-ecb3-4b6f-9325-d35d850fa954",
   "metadata": {
    "tags": []
   },
   "outputs": [],
   "source": [
    "from metrics import mmd_rbf"
   ]
  },
  {
   "cell_type": "code",
   "execution_count": null,
   "id": "ed6f6d61-9182-4bb0-b876-e20ad0c5846a",
   "metadata": {
    "tags": []
   },
   "outputs": [
    {
     "name": "stdout",
     "output_type": "stream",
     "text": [
      "0.0009999996703919365\n",
      "0.0003333333660749463\n",
      "0.00016666668314066577\n",
      "0.00010000002679711134\n",
      "6.666664282158963e-05\n",
      "4.7619062737063746e-05\n"
     ]
    }
   ],
   "source": [
    "csbm_feat = CSBMFeat(n=500)\n",
    "for t in range(1, 10):\n",
    "    csbm_feat.evolve()\n",
    "    print(mmd_rbf(csbm_feat.X, csbm_feat.X[:t * 500]))    "
   ]
  },
  {
   "cell_type": "code",
   "execution_count": null,
   "id": "dc04d763-26ca-4f38-92ee-dac451f0b22b",
   "metadata": {
    "tags": []
   },
   "outputs": [],
   "source": [
    "v1 = np.zeros(5)\n",
    "v1"
   ]
  },
  {
   "cell_type": "code",
   "execution_count": null,
   "id": "199847a4-9d0c-440c-816b-b8c467df8676",
   "metadata": {
    "tags": []
   },
   "outputs": [],
   "source": [
    "v2 = np.ones(5)\n",
    "v2"
   ]
  },
  {
   "cell_type": "code",
   "execution_count": null,
   "id": "4c7a09af-55d5-4bef-9dd4-d4e4c4c0aca6",
   "metadata": {
    "tags": []
   },
   "outputs": [],
   "source": [
    "np.linalg.norm(v1 - v2)"
   ]
  }
 ],
 "metadata": {
  "kernelspec": {
   "display_name": "Python 3 (ipykernel)",
   "language": "python",
   "name": "python3"
  },
  "language_info": {
   "codemirror_mode": {
    "name": "ipython",
    "version": 3
   },
   "file_extension": ".py",
   "mimetype": "text/x-python",
   "name": "python",
   "nbconvert_exporter": "python",
   "pygments_lexer": "ipython3",
   "version": "3.9.17"
  }
 },
 "nbformat": 4,
 "nbformat_minor": 5
}
