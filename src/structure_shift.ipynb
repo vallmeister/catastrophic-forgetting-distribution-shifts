{
 "cells": [
  {
   "cell_type": "markdown",
   "id": "b75f2edc-8327-4e56-9714-f4e4a2d60e91",
   "metadata": {},
   "source": [
    "# Structure shift with precompiled CSBM-data"
   ]
  },
  {
   "cell_type": "code",
   "execution_count": 1,
   "id": "5ded1db3-f515-441f-b3b3-0a663682e47b",
   "metadata": {},
   "outputs": [],
   "source": [
    "import matplotlib.pyplot as plt\n",
    "import torch\n",
    "from measures import mmd_max_rbf\n",
    "from node2vec_embedding import max_node2vec_embedding"
   ]
  },
  {
   "cell_type": "code",
   "execution_count": 2,
   "id": "a31674ca-61e9-42e6-af65-137698b9c0aa",
   "metadata": {},
   "outputs": [
    {
     "name": "stdout",
     "output_type": "stream",
     "text": [
      "cuda\n"
     ]
    }
   ],
   "source": [
    "device = 'cuda' if torch.cuda.is_available() else 'cpu'\n",
    "print(device)\n",
    "n = 5000\n",
    "T = 10"
   ]
  },
  {
   "cell_type": "code",
   "execution_count": 10,
   "id": "9452df0c-c918-403a-9bca-0f8e8b46a5ba",
   "metadata": {},
   "outputs": [],
   "source": [
    "base = torch.load('./csbm/csbm_base.pt')[-1]\n",
    "zero = torch.load('./csbm/csbm_zero.pt')[-1]\n",
    "struct = torch.load('./csbm/csbm_struct.pt')[-1]\n",
    "homophily = torch.load('./csbm/csbm_hom.pt')[-1]\n",
    "\n",
    "names = {0: 'Base-CSBM',\n",
    "         1: 'Zero-CSBM',\n",
    "         2: 'Structure-CSBM',\n",
    "         3: 'Homophily-CSBM'}\n",
    "all_data = [base, zero, struct, homophily]"
   ]
  },
  {
   "cell_type": "code",
   "execution_count": 11,
   "id": "a46db636-6e51-45f0-9c91-91d773e2cd9e",
   "metadata": {},
   "outputs": [
    {
     "name": "stdout",
     "output_type": "stream",
     "text": [
      "Base-CSBM         280933 edges\n",
      "Zero-CSBM        2811544 edges\n",
      "Structure-CSBM   6252233 edges\n",
      "Homophily-CSBM    253500 edges\n"
     ]
    }
   ],
   "source": [
    "for i in range(len(all_data)):\n",
    "        print(f'{names[i]}'.ljust(15) + f'{len(all_data[i].edge_index[0])} edges'.rjust(15))"
   ]
  },
  {
   "cell_type": "code",
   "execution_count": null,
   "id": "2b34d882-45d4-4855-ba66-ca23face28db",
   "metadata": {},
   "outputs": [],
   "source": [
    "def get_node_embeddings(data, name):\n",
    "    model = Node2Vec(\n",
    "    data.edge_index,\n",
    "    embedding_dim=128,\n",
    "    walk_length=250,\n",
    "    context_size=100,\n",
    "    walks_per_node=10,\n",
    "    num_negative_samples=1,\n",
    "    p=1.0,\n",
    "    q=1.0).to(device)\n",
    "    \n",
    "    num_workers = 4 if sys.platform == 'linux' else 0\n",
    "    loader = model.loader(batch_size=32, shuffle=True, num_workers=num_workers)\n",
    "    optimizer = torch.optim.Adam(list(model.parameters()), lr=0.01)\n",
    "\n",
    "    N = len(data.x)\n",
    "    train_mask = torch.zeros(n, dtype=torch.bool)\n",
    "    train_mask[:int(0.9 * n)] = 1\n",
    "    train_mask = train_mask.repeat(N // n)\n",
    "    test_mask = torch.zeros(n, dtype=torch.bool)\n",
    "    test_mask[-int(0.1 * n):] = 1\n",
    "    test_mask = test_mask.repeat(N // n)\n",
    "    \n",
    "    def train():\n",
    "        model.train()\n",
    "        total_loss = 0\n",
    "        for pos_rw, neg_rw in loader:\n",
    "            optimizer.zero_grad()\n",
    "            loss = model.loss(pos_rw.to(device), neg_rw.to(device))\n",
    "            loss.backward()\n",
    "            optimizer.step()\n",
    "            total_loss += loss.item()\n",
    "        return total_loss / len(loader)\n",
    "    \n",
    "    @torch.no_grad()\n",
    "    def test():\n",
    "        model.eval()\n",
    "        z = model()\n",
    "        acc = model.test(\n",
    "            train_z=z[train_mask],\n",
    "            train_y=data.y[train_mask],\n",
    "            test_z=z[test_mask],\n",
    "            test_y=data.y[test_mask],\n",
    "            max_iter=150,\n",
    "        )\n",
    "        return acc\n",
    "    max_loss = 0\n",
    "    max_acc = 0\n",
    "    for epoch in range(100):\n",
    "        loss = train()\n",
    "        max_loss = max(max_loss, loss)\n",
    "        acc = test()\n",
    "        max_acc = max(acc, max_acc)\n",
    "    print(f'{name}'.ljxust(15) + f'Loss: {max_loss:.3f}, Acc: {max_acc:.4f}')\n",
    "    return model.embedding.weight.cpu().detach().numpy()"
   ]
  },
  {
   "cell_type": "code",
   "execution_count": null,
   "id": "41114afe-f431-4eb4-9405-096f83a923c6",
   "metadata": {},
   "outputs": [],
   "source": [
    "embeddings = []\n",
    "for i in range(len(all_data)):\n",
    "    embeddings.append(get_node_embeddings(all_data[i], names[i]))\n",
    "emb_base, emb_zero, emb_struct, emb_hom = embeddings"
   ]
  },
  {
   "cell_type": "code",
   "execution_count": null,
   "id": "7e8e4dba-2f45-4454-8274-ecf50735f16f",
   "metadata": {},
   "outputs": [],
   "source": [
    "def get_rbf_mmd(embedding):\n",
    "    differences = []\n",
    "    for t in range(T):\n",
    "        start = t * n\n",
    "        end = start + n\n",
    "        differences.append(mmd_max_rbf(embedding[:n], embedding[start:end]))\n",
    "    return differences"
   ]
  },
  {
   "cell_type": "code",
   "execution_count": null,
   "id": "d0750c94-b6ab-47e7-9097-bcaf68b51be7",
   "metadata": {},
   "outputs": [],
   "source": [
    "mmd_base = get_rbf_mmd(emb_base)\n",
    "mmd_zero = get_rbf_mmd(emb_zero)\n",
    "mmd_struct = get_rbf_mmd(emb_struct)\n",
    "mmd_hom = get_rbf_mmd(emb_hom)"
   ]
  },
  {
   "cell_type": "code",
   "execution_count": null,
   "id": "4a4774e8-2bce-4362-b106-c94c9b792608",
   "metadata": {},
   "outputs": [],
   "source": [
    "# plot\n",
    "plt.figure(figsize=(6, 3))\n",
    "\n",
    "plt.plot(time_steps, mmd_base, marker='o', linestyle='-', color='black', label='Base-CSBM')\n",
    "plt.plot(time_steps, mmd_zero, marker='o', linestyle='-', color='gray', label='Zero-CSBM')\n",
    "plt.plot(time_steps, mmd_hom, marker='o', linestyle='-', color='orange', label='Homophily-CSBM')\n",
    "plt.plot(time_steps, mmd_struct, marker='o', linestyle='-', color='blue', label='Structure-CSBM')\n",
    "\n",
    "plt.title(r'Graph structure-shift for different CSBMs')\n",
    "plt.xlabel(r'$t$')\n",
    "plt.ylabel(r'$MMD^{2}$ with RBF-kernel')\n",
    "plt.grid(True)\n",
    "plt.legend(loc='lower right')\n",
    "plt.savefig('structure_shift_rbf.pdf', format='pdf')\n",
    "#plt.show()\n",
    "plt.close()"
   ]
  },
  {
   "cell_type": "code",
   "execution_count": null,
   "id": "f08c8769-de1f-4272-834b-59b49d85a93a",
   "metadata": {},
   "outputs": [],
   "source": [
    "for i in range(len(all_data)):\n",
    "    print('-' * 10 + names[i] + '-' * 10)\n",
    "    print(f'|V|= {all_data[i].num_nodes}, |E|= {all_data[i].num_edges}, |E|/|V| = {(all_data[i].num_edges / all_data[i].num_nodes):.1f}')\n",
    "    print(f'Possible edges: {(100 * all_data[i].num_edges / all_data[i].num_nodes ** 2):.2f}%\\n')"
   ]
  }
 ],
 "metadata": {
  "kernelspec": {
   "display_name": "Python 3 (ipykernel)",
   "language": "python",
   "name": "python3"
  },
  "language_info": {
   "codemirror_mode": {
    "name": "ipython",
    "version": 3
   },
   "file_extension": ".py",
   "mimetype": "text/x-python",
   "name": "python",
   "nbconvert_exporter": "python",
   "pygments_lexer": "ipython3",
   "version": "3.9.18"
  }
 },
 "nbformat": 4,
 "nbformat_minor": 5
}
