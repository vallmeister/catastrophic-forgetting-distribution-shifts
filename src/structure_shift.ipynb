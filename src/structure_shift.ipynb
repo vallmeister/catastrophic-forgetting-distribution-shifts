{
 "cells": [
  {
   "cell_type": "code",
   "execution_count": 1,
   "id": "21b60ae5-8291-45b6-8ab1-cfa0f65d892f",
   "metadata": {
    "tags": []
   },
   "outputs": [],
   "source": [
    "import matplotlib.pyplot as plt\n",
    "import numpy as np\n",
    "import math\n",
    "import sys\n",
    "from MultiClassCSBM import MultiClassCSBM\n",
    "from CSBMhet import CSBMhet\n",
    "from CSBMhom import CSBMhom\n",
    "from metrics import mmd_rbf, total_variation_distance\n",
    "\n",
    "import torch\n",
    "from sklearn.manifold import TSNE\n",
    "from torch_geometric.nn import Node2Vec\n",
    "from torch_geometric.utils import homophily"
   ]
  },
  {
   "cell_type": "code",
   "execution_count": 2,
   "id": "08810134-f78c-4960-99d0-6785eaa9614f",
   "metadata": {
    "tags": []
   },
   "outputs": [],
   "source": [
    "dimensions = 20\n",
    "gamma = 2 * dimensions\n",
    "n = 100\n",
    "classes = 5\n",
    "training_time = 10"
   ]
  },
  {
   "cell_type": "code",
   "execution_count": 3,
   "id": "db8436fe-ddd8-47c1-b97e-0bfd8859c249",
   "metadata": {
    "tags": []
   },
   "outputs": [],
   "source": [
    "device = 'cuda' if torch.cuda.is_available() else 'cpu'"
   ]
  },
  {
   "cell_type": "code",
   "execution_count": 4,
   "id": "18438ee0-ab38-4217-ab37-6e9170722a65",
   "metadata": {
    "tags": []
   },
   "outputs": [],
   "source": [
    "def train(model, loader, optimizer):\n",
    "    model.train()\n",
    "    total_loss = 0\n",
    "    for pos_rw, neg_rw in loader:\n",
    "        optimizer.zero_grad()\n",
    "        loss = model.loss(pos_rw.to(device), neg_rw.to(device))\n",
    "        loss.backward()\n",
    "        optimizer.step()\n",
    "        total_loss += loss.item()\n",
    "    return total_loss / len(loader)"
   ]
  },
  {
   "cell_type": "code",
   "execution_count": 5,
   "id": "f6a7ea5b-ed24-4513-8f16-62563020bef2",
   "metadata": {
    "tags": []
   },
   "outputs": [],
   "source": [
    "@torch.no_grad()\n",
    "def test(model, data):\n",
    "    model.eval()\n",
    "    z = model()\n",
    "    acc = model.test(\n",
    "        train_z=z[data.train_mask],\n",
    "        train_y=data.y[data.train_mask],\n",
    "        test_z=z[data.test_mask],\n",
    "        test_y=data.y[data.test_mask],\n",
    "        max_iter=150,\n",
    "    )\n",
    "    return acc"
   ]
  },
  {
   "cell_type": "code",
   "execution_count": 6,
   "id": "73ec4454-8ecf-4856-95d5-f2327d7350c9",
   "metadata": {},
   "outputs": [],
   "source": [
    "def model_training(csbm):\n",
    "    data = csbm.data\n",
    "    model = Node2Vec(\n",
    "    data.edge_index,\n",
    "    embedding_dim=128,\n",
    "    walk_length=20,\n",
    "    context_size=10,\n",
    "    walks_per_node=10,\n",
    "    num_negative_samples=1,\n",
    "    p=1.0,\n",
    "    q=1.0).to(device)\n",
    "\n",
    "    num_workers = 4 if sys.platform == 'linux' else 0\n",
    "    loader = model.loader(batch_size=128, shuffle=True, num_workers=num_workers)\n",
    "    optimizer = torch.optim.Adam(list(model.parameters()), lr=0.01)\n",
    "    accuracy = 0\n",
    "    for epoch in range(training_time):\n",
    "        loss = train(model, loader, optimizer)\n",
    "        acc = test(model, data)\n",
    "        accuracy = max(acc, accuracy)\n",
    "    return model.embedding.weight.detach().numpy()"
   ]
  },
  {
   "cell_type": "code",
   "execution_count": 7,
   "id": "33ba0d6d-f7c3-43cf-afa2-2f6de4323d16",
   "metadata": {
    "tags": []
   },
   "outputs": [
    {
     "ename": "AttributeError",
     "evalue": "'numpy.ndarray' object has no attribute 'dim'",
     "output_type": "error",
     "traceback": [
      "\u001b[1;31m---------------------------------------------------------------------------\u001b[0m",
      "\u001b[1;31mAttributeError\u001b[0m                            Traceback (most recent call last)",
      "Cell \u001b[1;32mIn[7], line 20\u001b[0m\n\u001b[0;32m     17\u001b[0m embedding_const \u001b[38;5;241m=\u001b[39m model_training(csbm_const)\n\u001b[0;32m     18\u001b[0m mmds_const\u001b[38;5;241m.\u001b[39mappend(mmd_rbf(initial_embeddings_const, embedding_const, gamma))\n\u001b[1;32m---> 20\u001b[0m homophily \u001b[38;5;241m=\u001b[39m \u001b[43mhomophily\u001b[49m\u001b[43m(\u001b[49m\u001b[43mcsbm_hom\u001b[49m\u001b[38;5;241;43m.\u001b[39;49m\u001b[43mdata\u001b[49m\u001b[38;5;241;43m.\u001b[39;49m\u001b[43medge_index\u001b[49m\u001b[43m,\u001b[49m\u001b[43m \u001b[49m\u001b[43mcsbm_hom\u001b[49m\u001b[38;5;241;43m.\u001b[39;49m\u001b[43my\u001b[49m\u001b[43m,\u001b[49m\u001b[43m \u001b[49m\u001b[43mmethod\u001b[49m\u001b[38;5;241;43m=\u001b[39;49m\u001b[38;5;124;43m'\u001b[39;49m\u001b[38;5;124;43medge\u001b[39;49m\u001b[38;5;124;43m'\u001b[39;49m\u001b[43m)\u001b[49m\n\u001b[0;32m     21\u001b[0m \u001b[38;5;28mprint\u001b[39m(\u001b[38;5;124mf\u001b[39m\u001b[38;5;124m'\u001b[39m\u001b[38;5;124mCSBM-Hom homophily: \u001b[39m\u001b[38;5;132;01m{\u001b[39;00mhomophily\u001b[38;5;132;01m}\u001b[39;00m\u001b[38;5;124m'\u001b[39m)\n\u001b[0;32m     23\u001b[0m csbm_hom\u001b[38;5;241m.\u001b[39mevolve()\n",
      "File \u001b[1;32mD:\\Users\\Productivity\\anaconda3\\envs\\new\\lib\\site-packages\\torch_geometric\\utils\\homophily.py:83\u001b[0m, in \u001b[0;36mhomophily\u001b[1;34m(edge_index, y, batch, method)\u001b[0m\n\u001b[0;32m     12\u001b[0m \u001b[38;5;250m\u001b[39m\u001b[38;5;124mr\u001b[39m\u001b[38;5;124;03m\"\"\"The homophily of a graph characterizes how likely nodes with the same\u001b[39;00m\n\u001b[0;32m     13\u001b[0m \u001b[38;5;124;03mlabel are near each other in a graph.\u001b[39;00m\n\u001b[0;32m     14\u001b[0m \u001b[38;5;124;03mThere are many measures of homophily that fits this definition.\u001b[39;00m\n\u001b[1;32m   (...)\u001b[0m\n\u001b[0;32m     80\u001b[0m \u001b[38;5;124;03m    0.19999998807907104\u001b[39;00m\n\u001b[0;32m     81\u001b[0m \u001b[38;5;124;03m\"\"\"\u001b[39;00m\n\u001b[0;32m     82\u001b[0m \u001b[38;5;28;01massert\u001b[39;00m method \u001b[38;5;129;01min\u001b[39;00m {\u001b[38;5;124m'\u001b[39m\u001b[38;5;124medge\u001b[39m\u001b[38;5;124m'\u001b[39m, \u001b[38;5;124m'\u001b[39m\u001b[38;5;124mnode\u001b[39m\u001b[38;5;124m'\u001b[39m, \u001b[38;5;124m'\u001b[39m\u001b[38;5;124medge_insensitive\u001b[39m\u001b[38;5;124m'\u001b[39m}\n\u001b[1;32m---> 83\u001b[0m y \u001b[38;5;241m=\u001b[39m y\u001b[38;5;241m.\u001b[39msqueeze(\u001b[38;5;241m-\u001b[39m\u001b[38;5;241m1\u001b[39m) \u001b[38;5;28;01mif\u001b[39;00m \u001b[43my\u001b[49m\u001b[38;5;241;43m.\u001b[39;49m\u001b[43mdim\u001b[49m() \u001b[38;5;241m>\u001b[39m \u001b[38;5;241m1\u001b[39m \u001b[38;5;28;01melse\u001b[39;00m y\n\u001b[0;32m     85\u001b[0m \u001b[38;5;28;01mif\u001b[39;00m \u001b[38;5;28misinstance\u001b[39m(edge_index, SparseTensor):\n\u001b[0;32m     86\u001b[0m     row, col, _ \u001b[38;5;241m=\u001b[39m edge_index\u001b[38;5;241m.\u001b[39mcoo()\n",
      "\u001b[1;31mAttributeError\u001b[0m: 'numpy.ndarray' object has no attribute 'dim'"
     ]
    }
   ],
   "source": [
    "time_steps = []\n",
    "mmds_hom = []\n",
    "mmds_het = []\n",
    "mmds_const = []\n",
    "csbm_hom = CSBMhom(n=n, dimensions=dimensions, classes=classes, q_hom=0.05)\n",
    "csbm_het = CSBMhet(n=n, dimensions=dimensions, classes=classes, q_het=0.05)\n",
    "csbm_const = MultiClassCSBM(n=n, dimensions=dimensions, classes=classes)\n",
    "initial_embedding_hom = model_training(csbm_hom)\n",
    "initial_embeddings_het = model_training(csbm_het)\n",
    "initial_embeddings_const = model_training(csbm_const)\n",
    "for t in range(10):\n",
    "    time_steps.append(t)\n",
    "    embedding_hom = model_training(csbm_hom)\n",
    "    mmds_hom.append(mmd_rbf(initial_embedding_hom, embedding_hom, gamma))\n",
    "    embedding_het = model_training(csbm_het)\n",
    "    mmds_het.append(mmd_rbf(initial_embeddings_het, embedding_het, gamma))\n",
    "    embedding_const = model_training(csbm_const)\n",
    "    mmds_const.append(mmd_rbf(initial_embeddings_const, embedding_const, gamma))\n",
    "    \n",
    "    homophily = homophily(csbm_hom.data.edge_index, csbm_hom.y, method='edge')\n",
    "    print(f'CSBM-Hom homophily: {homophily}')\n",
    "    \n",
    "    csbm_hom.evolve()\n",
    "    csbm_het.evolve()\n",
    "    csbm_const.evolve()\n",
    "\n",
    "# plot\n",
    "plt.figure(figsize=(12, 6))\n",
    "\n",
    "plt.plot(time_steps, mmds_hom, marker='o', linestyle='-', color='b', label='CSBM-Hom')\n",
    "plt.plot(time_steps, mmds_het, marker='o', linestyle='-', color='r', label='CSBM-Het')\n",
    "#plt.plot(time_steps, mmds_const, marker='o', linestyle='-', color='black', label='Const. CSBM')\n",
    "\n",
    "plt.title('Graph structure shift')\n",
    "plt.xlabel('Time Steps')\n",
    "plt.ylabel('MMD')\n",
    "plt.grid(True)\n",
    "plt.legend(loc='lower right')\n",
    "plt.savefig('structure_shift.pdf', format='pdf')\n",
    "plt.show()\n",
    "plt.close()"
   ]
  }
 ],
 "metadata": {
  "kernelspec": {
   "display_name": "Python 3 (ipykernel)",
   "language": "python",
   "name": "python3"
  },
  "language_info": {
   "codemirror_mode": {
    "name": "ipython",
    "version": 3
   },
   "file_extension": ".py",
   "mimetype": "text/x-python",
   "name": "python",
   "nbconvert_exporter": "python",
   "pygments_lexer": "ipython3",
   "version": "3.9.17"
  }
 },
 "nbformat": 4,
 "nbformat_minor": 5
}
