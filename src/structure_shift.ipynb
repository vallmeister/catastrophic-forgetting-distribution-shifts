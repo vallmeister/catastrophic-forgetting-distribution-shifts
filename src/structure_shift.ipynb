{
 "cells": [
  {
   "cell_type": "code",
   "execution_count": 3,
   "id": "21b60ae5-8291-45b6-8ab1-cfa0f65d892f",
   "metadata": {
    "tags": []
   },
   "outputs": [],
   "source": [
    "import matplotlib.pyplot as plt\n",
    "import numpy as np\n",
    "import math\n",
    "from MultiClassCSBM import MultiClassCSBM\n",
    "from CSBMhet import CSBMhet\n",
    "from CSBMhom import CSBMhom\n",
    "from metrics import mmd_rbf, total_variation_distance\n",
    "\n",
    "import torch\n",
    "from sklearn.manifold import TSNE\n",
    "from torch_geometric.nn import Node2Vec"
   ]
  },
  {
   "cell_type": "code",
   "execution_count": 4,
   "id": "08810134-f78c-4960-99d0-6785eaa9614f",
   "metadata": {
    "tags": []
   },
   "outputs": [],
   "source": [
    "dimensions = 40\n",
    "gamma = 2 * dimensions\n",
    "n = 200\n",
    "classes = 8"
   ]
  },
  {
   "cell_type": "code",
   "execution_count": 6,
   "id": "db8436fe-ddd8-47c1-b97e-0bfd8859c249",
   "metadata": {
    "tags": []
   },
   "outputs": [
    {
     "data": {
      "text/plain": [
       "tensor([[  0,   0,   0,  ..., 199, 199, 199],\n",
       "        [ 20,  23,  32,  ..., 185, 189, 194]])"
      ]
     },
     "execution_count": 6,
     "metadata": {},
     "output_type": "execute_result"
    }
   ],
   "source": [
    "device = 'cuda' if torch.cuda.is_available() else 'cpu'\n",
    "time_steps = []\n",
    "csbm = CSBMhom(n=n, classes=classes, dimensions=dimensions)\n",
    "edge_index_0 = torch.tensor([csbm.edge_sources, csbm.edge_targets], dtype=torch.long)\n",
    "edge_index_0"
   ]
  }
 ],
 "metadata": {
  "kernelspec": {
   "display_name": "Python 3 (ipykernel)",
   "language": "python",
   "name": "python3"
  },
  "language_info": {
   "codemirror_mode": {
    "name": "ipython",
    "version": 3
   },
   "file_extension": ".py",
   "mimetype": "text/x-python",
   "name": "python",
   "nbconvert_exporter": "python",
   "pygments_lexer": "ipython3",
   "version": "3.9.17"
  }
 },
 "nbformat": 4,
 "nbformat_minor": 5
}
