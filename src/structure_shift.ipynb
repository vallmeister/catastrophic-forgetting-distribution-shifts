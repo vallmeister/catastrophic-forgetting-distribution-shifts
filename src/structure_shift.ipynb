{
 "cells": [
  {
   "cell_type": "code",
   "execution_count": 1,
   "id": "21b60ae5-8291-45b6-8ab1-cfa0f65d892f",
   "metadata": {
    "tags": []
   },
   "outputs": [],
   "source": [
    "import matplotlib.pyplot as plt\n",
    "import numpy as np\n",
    "import math\n",
    "import sys\n",
    "from MultiClassCSBM import MultiClassCSBM\n",
    "from CSBMhet import CSBMhet\n",
    "from CSBMhom import CSBMhom\n",
    "from metrics import mmd_rbf, total_variation_distance\n",
    "\n",
    "import torch\n",
    "from sklearn.manifold import TSNE\n",
    "from torch_geometric.nn import Node2Vec"
   ]
  },
  {
   "cell_type": "code",
   "execution_count": 2,
   "id": "08810134-f78c-4960-99d0-6785eaa9614f",
   "metadata": {
    "tags": []
   },
   "outputs": [],
   "source": [
    "dimensions = 8\n",
    "gamma = 2 * dimensions\n",
    "n = 100\n",
    "classes = 4\n",
    "training_time = 1"
   ]
  },
  {
   "cell_type": "code",
   "execution_count": 3,
   "id": "db8436fe-ddd8-47c1-b97e-0bfd8859c249",
   "metadata": {
    "tags": []
   },
   "outputs": [],
   "source": [
    "device = 'cuda' if torch.cuda.is_available() else 'cpu'"
   ]
  },
  {
   "cell_type": "code",
   "execution_count": 4,
   "id": "18438ee0-ab38-4217-ab37-6e9170722a65",
   "metadata": {
    "tags": []
   },
   "outputs": [],
   "source": [
    "def train(model, loader, optimizer):\n",
    "    model.train()\n",
    "    total_loss = 0\n",
    "    for pos_rw, neg_rw in loader:\n",
    "        optimizer.zero_grad()\n",
    "        loss = model.loss(pos_rw.to(device), neg_rw.to(device))\n",
    "        loss.backward()\n",
    "        optimizer.step()\n",
    "        total_loss += loss.item()\n",
    "    return total_loss / len(loader)"
   ]
  },
  {
   "cell_type": "code",
   "execution_count": 5,
   "id": "f6a7ea5b-ed24-4513-8f16-62563020bef2",
   "metadata": {
    "tags": []
   },
   "outputs": [],
   "source": [
    "@torch.no_grad()\n",
    "def test(model, data):\n",
    "    model.eval()\n",
    "    z = model()\n",
    "    acc = model.test(\n",
    "        train_z=z[data.train_mask],\n",
    "        train_y=data.y[data.train_mask],\n",
    "        test_z=z[data.test_mask],\n",
    "        test_y=data.y[data.test_mask],\n",
    "        max_iter=150,\n",
    "    )\n",
    "    return acc"
   ]
  },
  {
   "cell_type": "code",
   "execution_count": 6,
   "id": "73ec4454-8ecf-4856-95d5-f2327d7350c9",
   "metadata": {},
   "outputs": [],
   "source": [
    "def model_training(csbm):\n",
    "    data = csbm.data\n",
    "    model = Node2Vec(\n",
    "    data.edge_index,\n",
    "    embedding_dim=128,\n",
    "    walk_length=20,\n",
    "    context_size=10,\n",
    "    walks_per_node=10,\n",
    "    num_negative_samples=1,\n",
    "    p=1.0,\n",
    "    q=1.0,\n",
    "    sparse=True).to(device)\n",
    "\n",
    "    num_workers = 4 if sys.platform == 'linux' else 0\n",
    "    loader = model.loader(batch_size=128, shuffle=True, num_workers=num_workers)\n",
    "    optimizer = torch.optim.SparseAdam(list(model.parameters()), lr=0.01)\n",
    "    accuracy = 0\n",
    "    for epoch in range(training_time):\n",
    "        loss = train(model, loader, optimizer)\n",
    "        acc = test(model, data)\n",
    "        accuracy = max(acc, accuracy)\n",
    "    return model.embedding.weight.detach().numpy()"
   ]
  },
  {
   "cell_type": "code",
   "execution_count": 7,
   "id": "33ba0d6d-f7c3-43cf-afa2-2f6de4323d16",
   "metadata": {
    "tags": []
   },
   "outputs": [
    {
     "ename": "IndexError",
     "evalue": "The shape of the mask [100] at index 0 does not match the shape of the indexed tensor [200, 128] at index 0",
     "output_type": "error",
     "traceback": [
      "\u001b[1;31m---------------------------------------------------------------------------\u001b[0m",
      "\u001b[1;31mIndexError\u001b[0m                                Traceback (most recent call last)",
      "Cell \u001b[1;32mIn[7], line 13\u001b[0m\n\u001b[0;32m     11\u001b[0m \u001b[38;5;28;01mfor\u001b[39;00m t \u001b[38;5;129;01min\u001b[39;00m \u001b[38;5;28mrange\u001b[39m(\u001b[38;5;241m10\u001b[39m):\n\u001b[0;32m     12\u001b[0m     time_steps\u001b[38;5;241m.\u001b[39mappend(t)\n\u001b[1;32m---> 13\u001b[0m     embedding_hom \u001b[38;5;241m=\u001b[39m \u001b[43mmodel_training\u001b[49m\u001b[43m(\u001b[49m\u001b[43mcsbm_hom\u001b[49m\u001b[43m)\u001b[49m\n\u001b[0;32m     14\u001b[0m     mmds_hom\u001b[38;5;241m.\u001b[39mappend(mmd_rbf(initial_embedding_hom, embedding_hom, gamma))\n\u001b[0;32m     15\u001b[0m     embedding_het \u001b[38;5;241m=\u001b[39m model_training(csbm_het)\n",
      "Cell \u001b[1;32mIn[6], line 20\u001b[0m, in \u001b[0;36mmodel_training\u001b[1;34m(csbm)\u001b[0m\n\u001b[0;32m     18\u001b[0m \u001b[38;5;28;01mfor\u001b[39;00m epoch \u001b[38;5;129;01min\u001b[39;00m \u001b[38;5;28mrange\u001b[39m(training_time):\n\u001b[0;32m     19\u001b[0m     loss \u001b[38;5;241m=\u001b[39m train(model, loader, optimizer)\n\u001b[1;32m---> 20\u001b[0m     acc \u001b[38;5;241m=\u001b[39m \u001b[43mtest\u001b[49m\u001b[43m(\u001b[49m\u001b[43mmodel\u001b[49m\u001b[43m,\u001b[49m\u001b[43m \u001b[49m\u001b[43mdata\u001b[49m\u001b[43m)\u001b[49m\n\u001b[0;32m     21\u001b[0m     accuracy \u001b[38;5;241m=\u001b[39m \u001b[38;5;28mmax\u001b[39m(acc, accuracy)\n\u001b[0;32m     22\u001b[0m \u001b[38;5;28;01mreturn\u001b[39;00m model\u001b[38;5;241m.\u001b[39membedding\u001b[38;5;241m.\u001b[39mweight\u001b[38;5;241m.\u001b[39mdetach()\u001b[38;5;241m.\u001b[39mnumpy()\n",
      "File \u001b[1;32mD:\\Users\\Productivity\\anaconda3\\envs\\new\\lib\\site-packages\\torch\\utils\\_contextlib.py:115\u001b[0m, in \u001b[0;36mcontext_decorator.<locals>.decorate_context\u001b[1;34m(*args, **kwargs)\u001b[0m\n\u001b[0;32m    112\u001b[0m \u001b[38;5;129m@functools\u001b[39m\u001b[38;5;241m.\u001b[39mwraps(func)\n\u001b[0;32m    113\u001b[0m \u001b[38;5;28;01mdef\u001b[39;00m \u001b[38;5;21mdecorate_context\u001b[39m(\u001b[38;5;241m*\u001b[39margs, \u001b[38;5;241m*\u001b[39m\u001b[38;5;241m*\u001b[39mkwargs):\n\u001b[0;32m    114\u001b[0m     \u001b[38;5;28;01mwith\u001b[39;00m ctx_factory():\n\u001b[1;32m--> 115\u001b[0m         \u001b[38;5;28;01mreturn\u001b[39;00m func(\u001b[38;5;241m*\u001b[39margs, \u001b[38;5;241m*\u001b[39m\u001b[38;5;241m*\u001b[39mkwargs)\n",
      "Cell \u001b[1;32mIn[5], line 6\u001b[0m, in \u001b[0;36mtest\u001b[1;34m(model, data)\u001b[0m\n\u001b[0;32m      3\u001b[0m model\u001b[38;5;241m.\u001b[39meval()\n\u001b[0;32m      4\u001b[0m z \u001b[38;5;241m=\u001b[39m model()\n\u001b[0;32m      5\u001b[0m acc \u001b[38;5;241m=\u001b[39m model\u001b[38;5;241m.\u001b[39mtest(\n\u001b[1;32m----> 6\u001b[0m     train_z\u001b[38;5;241m=\u001b[39m\u001b[43mz\u001b[49m\u001b[43m[\u001b[49m\u001b[43mdata\u001b[49m\u001b[38;5;241;43m.\u001b[39;49m\u001b[43mtrain_mask\u001b[49m\u001b[43m]\u001b[49m,\n\u001b[0;32m      7\u001b[0m     train_y\u001b[38;5;241m=\u001b[39mdata\u001b[38;5;241m.\u001b[39my[data\u001b[38;5;241m.\u001b[39mtrain_mask],\n\u001b[0;32m      8\u001b[0m     test_z\u001b[38;5;241m=\u001b[39mz[data\u001b[38;5;241m.\u001b[39mtest_mask],\n\u001b[0;32m      9\u001b[0m     test_y\u001b[38;5;241m=\u001b[39mdata\u001b[38;5;241m.\u001b[39my[data\u001b[38;5;241m.\u001b[39mtest_mask],\n\u001b[0;32m     10\u001b[0m     max_iter\u001b[38;5;241m=\u001b[39m\u001b[38;5;241m150\u001b[39m,\n\u001b[0;32m     11\u001b[0m )\n\u001b[0;32m     12\u001b[0m \u001b[38;5;28;01mreturn\u001b[39;00m acc\n",
      "\u001b[1;31mIndexError\u001b[0m: The shape of the mask [100] at index 0 does not match the shape of the indexed tensor [200, 128] at index 0"
     ]
    }
   ],
   "source": [
    "time_steps = []\n",
    "mmds_hom = []\n",
    "mmds_het = []\n",
    "mmds_const = []\n",
    "csbm_hom = CSBMhom(n=n, dimensions=dimensions, classes=classes)\n",
    "csbm_het = CSBMhet(n=n, dimensions=dimensions, classes=classes)\n",
    "csbm_const = MultiClassCSBM(n=n, dimensions=dimensions, classes=classes)\n",
    "initial_embedding_hom = model_training(csbm_hom)\n",
    "initial_embeddings_het = model_training(csbm_het)\n",
    "initial_embeddings_const = model_training(csbm_const)\n",
    "for t in range(10):\n",
    "    time_steps.append(t)\n",
    "    embedding_hom = model_training(csbm_hom)\n",
    "    mmds_hom.append(mmd_rbf(initial_embedding_hom, embedding_hom, gamma))\n",
    "    embedding_het = model_training(csbm_het)\n",
    "    mmds_het.append(mmd_rbf(initial_embeddings_het, embedding_het, gamma))\n",
    "    embedding_const = model_training(csbm_const)\n",
    "    mmds_const.append(mmd_rbf(initial_embeddings_const, embedding_const, gamma))\n",
    "    csbm_hom.evolve()\n",
    "    csbm_het.evolve()\n",
    "    csbm_const.evolve()\n",
    "\n",
    "# plot\n",
    "plt.figure(figsize=(12, 6))\n",
    "\n",
    "plt.plot(time_steps, mmds_hom, marker='o', linestyle='-', color='b', label='CSBM-Hom')\n",
    "plt.plot(time_steps, mmds_het, marker='o', linestyle='-', color='r', label='CSBM-Het')\n",
    "plt.plot(time_steps, mmds_const, marker='o', linestyle='-', color='black', label='Const. CSBM')\n",
    "\n",
    "plt.title('Graph structure shift')\n",
    "plt.xlabel('Time Steps')\n",
    "plt.ylabel('MMD')\n",
    "plt.grid(True)\n",
    "plt.legend(loc='lower right')\n",
    "plt.savefig('structure_shift.pdf', format='pdf')\n",
    "plt.show()\n",
    "plt.close()"
   ]
  }
 ],
 "metadata": {
  "kernelspec": {
   "display_name": "Python 3 (ipykernel)",
   "language": "python",
   "name": "python3"
  },
  "language_info": {
   "codemirror_mode": {
    "name": "ipython",
    "version": 3
   },
   "file_extension": ".py",
   "mimetype": "text/x-python",
   "name": "python",
   "nbconvert_exporter": "python",
   "pygments_lexer": "ipython3",
   "version": "3.9.17"
  }
 },
 "nbformat": 4,
 "nbformat_minor": 5
}
