{
 "cells": [
  {
   "cell_type": "markdown",
   "id": "2a4cf76c-c4dc-47b9-a1a3-a83d8470782c",
   "metadata": {},
   "source": [
    "# Structure-shift"
   ]
  },
  {
   "cell_type": "markdown",
   "id": "88e5f5cf-16c6-457c-aa10-634a493dc0e9",
   "metadata": {},
   "source": [
    "We compare the following CSBMs and how their node2vec encoding changes:\n",
    "- Constant CSBM\n",
    "- CSBM-Hom\n",
    "- CSBM-Het\n",
    "- CSBM-Struct"
   ]
  },
  {
   "cell_type": "markdown",
   "id": "e044eea5-4896-4c6d-ba90-b6f0db5a936e",
   "metadata": {},
   "source": [
    "We find the following assumptions useful:\n",
    "- We compare nodes within the same embedding\n",
    "- We compare the embeddings of the t-th chunk of nodes against the 1st chunk\n",
    "- We use the same loader and optimizer for each epoch"
   ]
  },
  {
   "cell_type": "code",
   "execution_count": 7,
   "id": "02707779-e50b-4dc3-b7c8-9855e7174840",
   "metadata": {
    "tags": []
   },
   "outputs": [],
   "source": [
    "import matplotlib.pyplot as plt\n",
    "import numpy as np\n",
    "import sys\n",
    "from csbm import MultiClassCSBM, StructureCSBM\n",
    "from CSBMhet import CSBMhet\n",
    "from metrics import mmd_linear, mmd_max_rbf\n",
    "\n",
    "import torch\n",
    "from torch_geometric.nn import Node2Vec"
   ]
  },
  {
   "cell_type": "code",
   "execution_count": 8,
   "id": "c95f9dc7-1253-496d-b9e7-f755810ebcfd",
   "metadata": {
    "tags": []
   },
   "outputs": [
    {
     "name": "stdout",
     "output_type": "stream",
     "text": [
      "cuda\n"
     ]
    }
   ],
   "source": [
    "n = 160\n",
    "training_time = 150\n",
    "T = 10\n",
    "\n",
    "device = 'cuda' if torch.cuda.is_available() else 'cpu'\n",
    "print(device)"
   ]
  },
  {
   "cell_type": "code",
   "execution_count": 9,
   "id": "87ddc712-074b-411f-b2fa-ab5244103e68",
   "metadata": {
    "tags": []
   },
   "outputs": [],
   "source": [
    "csbm_zero = MultiClassCSBM(n =10*n, q_hom=0.05, q_het=0.01)\n",
    "csbm_constant = MultiClassCSBM(n=n, q_hom=0.05, q_het=0.01)\n",
    "csbm_het = CSBMhet(n=n, q_hom=0.05, q_het=0.01)\n",
    "csbm_struct = StructureCSBM(n=n, q_hom=0.5, q_het=0.1)\n",
    "csbms = [csbm_constant, csbm_het, csbm_struct]\n",
    "names = {csbm_zero: 'CSBM-Zero',\n",
    "         csbm_constant: 'CSBM-Const',\n",
    "         csbm_het: 'CSBM-Het',\n",
    "         csbm_struct: 'CSBM-Struct'}"
   ]
  },
  {
   "cell_type": "code",
   "execution_count": 10,
   "id": "67805636-606a-4b88-b29c-49cfa0ad650a",
   "metadata": {
    "tags": []
   },
   "outputs": [
    {
     "name": "stdout",
     "output_type": "stream",
     "text": [
      "CSBM-Const            2803 edges\n",
      "CSBM-Het             97217 edges\n",
      "CSBM-Struct          63451 edges\n",
      "CSBM-Zero            28874 edges\n"
     ]
    }
   ],
   "source": [
    "time_steps = list(range(T))\n",
    "for t in range(2, T + 1):\n",
    "    for csbm in csbms:\n",
    "        csbm.evolve()\n",
    "csbms.append(csbm_zero)\n",
    "for csbm in csbms:\n",
    "        print(f'{names[csbm]}'.ljust(12) + f'{len(csbm.get_data().edge_index[0])} edges'.rjust(20))"
   ]
  },
  {
   "cell_type": "code",
   "execution_count": 11,
   "id": "62401467-cc7d-4832-a5f7-a2f78be7f820",
   "metadata": {
    "tags": []
   },
   "outputs": [],
   "source": [
    "def get_node_embeddings(csbm):\n",
    "    data = csbm.get_data()\n",
    "    model = Node2Vec(\n",
    "    data.edge_index,\n",
    "    embedding_dim=128,\n",
    "    walk_length=80,\n",
    "    context_size=10,\n",
    "    walks_per_node=10,\n",
    "    num_negative_samples=1,\n",
    "    p=1.0,\n",
    "    q=2.0).to(device)\n",
    "    \n",
    "    num_workers = 4 if sys.platform == 'linux' else 0\n",
    "    loader = model.loader(batch_size=32, shuffle=True, num_workers=num_workers)\n",
    "    optimizer = torch.optim.Adam(list(model.parameters()), lr=0.01)\n",
    "\n",
    "    N = len(csbm.X)\n",
    "    train_mask = torch.zeros(n, dtype=torch.bool)\n",
    "    train_mask[:int(0.5 * n)] = 1\n",
    "    train_mask = train_mask.repeat(N // n)\n",
    "    test_mask = torch.zeros(n, dtype=torch.bool)\n",
    "    test_mask[-int(0.5 * n):] = 1\n",
    "    test_mask = test_mask.repeat(N // n)\n",
    "    \n",
    "    def train():\n",
    "        model.train()\n",
    "        total_loss = 0\n",
    "        for pos_rw, neg_rw in loader:\n",
    "            optimizer.zero_grad()\n",
    "            loss = model.loss(pos_rw.to(device), neg_rw.to(device))\n",
    "            loss.backward()\n",
    "            optimizer.step()\n",
    "            total_loss += loss.item()\n",
    "        return total_loss / len(loader)\n",
    "    \n",
    "    @torch.no_grad()\n",
    "    def test():\n",
    "        model.eval()\n",
    "        z = model()\n",
    "        acc = model.test(\n",
    "            train_z=z[train_mask],\n",
    "            train_y=data.y[train_mask],\n",
    "            test_z=z[test_mask],\n",
    "            test_y=data.y[test_mask],\n",
    "            max_iter=150,\n",
    "        )\n",
    "        return acc\n",
    "    max_loss = 0\n",
    "    max_acc = 0\n",
    "    for epoch in range(training_time):\n",
    "        loss = train()\n",
    "        max_loss = max(max_loss, loss)\n",
    "        acc = test()\n",
    "        max_acc = max(acc, max_acc)\n",
    "    print(f'{names[csbm]}'.ljust(12) + f'Loss: {max_loss:.3f}, Acc: {max_acc:.4f}')\n",
    "    return model.embedding.weight.cpu().detach().numpy()"
   ]
  },
  {
   "cell_type": "code",
   "execution_count": 12,
   "id": "1b735061-cba2-41d3-8d46-4f18d482ee26",
   "metadata": {},
   "outputs": [
    {
     "name": "stdout",
     "output_type": "stream",
     "text": [
      "CSBM-Const  Loss: 4.313, Acc: 0.1000\n"
     ]
    },
    {
     "ename": "KeyboardInterrupt",
     "evalue": "",
     "output_type": "error",
     "traceback": [
      "\u001b[1;31m---------------------------------------------------------------------------\u001b[0m",
      "\u001b[1;31mKeyboardInterrupt\u001b[0m                         Traceback (most recent call last)",
      "Cell \u001b[1;32mIn[12], line 3\u001b[0m\n\u001b[0;32m      1\u001b[0m embeddings \u001b[38;5;241m=\u001b[39m []\n\u001b[0;32m      2\u001b[0m \u001b[38;5;28;01mfor\u001b[39;00m csbm \u001b[38;5;129;01min\u001b[39;00m csbms:\n\u001b[1;32m----> 3\u001b[0m     embeddings\u001b[38;5;241m.\u001b[39mappend(\u001b[43mget_node_embeddings\u001b[49m\u001b[43m(\u001b[49m\u001b[43mcsbm\u001b[49m\u001b[43m)\u001b[49m)\n\u001b[0;32m      4\u001b[0m emb_const, emb_het, emb_struct, emb_zero \u001b[38;5;241m=\u001b[39m embeddings\n",
      "Cell \u001b[1;32mIn[11], line 51\u001b[0m, in \u001b[0;36mget_node_embeddings\u001b[1;34m(csbm)\u001b[0m\n\u001b[0;32m     49\u001b[0m max_acc \u001b[38;5;241m=\u001b[39m \u001b[38;5;241m0\u001b[39m\n\u001b[0;32m     50\u001b[0m \u001b[38;5;28;01mfor\u001b[39;00m epoch \u001b[38;5;129;01min\u001b[39;00m \u001b[38;5;28mrange\u001b[39m(training_time):\n\u001b[1;32m---> 51\u001b[0m     loss \u001b[38;5;241m=\u001b[39m \u001b[43mtrain\u001b[49m\u001b[43m(\u001b[49m\u001b[43m)\u001b[49m\n\u001b[0;32m     52\u001b[0m     max_loss \u001b[38;5;241m=\u001b[39m \u001b[38;5;28mmax\u001b[39m(max_loss, loss)\n\u001b[0;32m     53\u001b[0m     acc \u001b[38;5;241m=\u001b[39m test()\n",
      "Cell \u001b[1;32mIn[11], line 28\u001b[0m, in \u001b[0;36mget_node_embeddings.<locals>.train\u001b[1;34m()\u001b[0m\n\u001b[0;32m     26\u001b[0m model\u001b[38;5;241m.\u001b[39mtrain()\n\u001b[0;32m     27\u001b[0m total_loss \u001b[38;5;241m=\u001b[39m \u001b[38;5;241m0\u001b[39m\n\u001b[1;32m---> 28\u001b[0m \u001b[38;5;28;01mfor\u001b[39;00m pos_rw, neg_rw \u001b[38;5;129;01min\u001b[39;00m loader:\n\u001b[0;32m     29\u001b[0m     optimizer\u001b[38;5;241m.\u001b[39mzero_grad()\n\u001b[0;32m     30\u001b[0m     loss \u001b[38;5;241m=\u001b[39m model\u001b[38;5;241m.\u001b[39mloss(pos_rw\u001b[38;5;241m.\u001b[39mto(device), neg_rw\u001b[38;5;241m.\u001b[39mto(device))\n",
      "File \u001b[1;32mD:\\Users\\Productivity\\anaconda3\\envs\\cudanew\\lib\\site-packages\\torch\\utils\\data\\dataloader.py:630\u001b[0m, in \u001b[0;36m_BaseDataLoaderIter.__next__\u001b[1;34m(self)\u001b[0m\n\u001b[0;32m    627\u001b[0m \u001b[38;5;28;01mif\u001b[39;00m \u001b[38;5;28mself\u001b[39m\u001b[38;5;241m.\u001b[39m_sampler_iter \u001b[38;5;129;01mis\u001b[39;00m \u001b[38;5;28;01mNone\u001b[39;00m:\n\u001b[0;32m    628\u001b[0m     \u001b[38;5;66;03m# TODO(https://github.com/pytorch/pytorch/issues/76750)\u001b[39;00m\n\u001b[0;32m    629\u001b[0m     \u001b[38;5;28mself\u001b[39m\u001b[38;5;241m.\u001b[39m_reset()  \u001b[38;5;66;03m# type: ignore[call-arg]\u001b[39;00m\n\u001b[1;32m--> 630\u001b[0m data \u001b[38;5;241m=\u001b[39m \u001b[38;5;28;43mself\u001b[39;49m\u001b[38;5;241;43m.\u001b[39;49m\u001b[43m_next_data\u001b[49m\u001b[43m(\u001b[49m\u001b[43m)\u001b[49m\n\u001b[0;32m    631\u001b[0m \u001b[38;5;28mself\u001b[39m\u001b[38;5;241m.\u001b[39m_num_yielded \u001b[38;5;241m+\u001b[39m\u001b[38;5;241m=\u001b[39m \u001b[38;5;241m1\u001b[39m\n\u001b[0;32m    632\u001b[0m \u001b[38;5;28;01mif\u001b[39;00m \u001b[38;5;28mself\u001b[39m\u001b[38;5;241m.\u001b[39m_dataset_kind \u001b[38;5;241m==\u001b[39m _DatasetKind\u001b[38;5;241m.\u001b[39mIterable \u001b[38;5;129;01mand\u001b[39;00m \\\n\u001b[0;32m    633\u001b[0m         \u001b[38;5;28mself\u001b[39m\u001b[38;5;241m.\u001b[39m_IterableDataset_len_called \u001b[38;5;129;01mis\u001b[39;00m \u001b[38;5;129;01mnot\u001b[39;00m \u001b[38;5;28;01mNone\u001b[39;00m \u001b[38;5;129;01mand\u001b[39;00m \\\n\u001b[0;32m    634\u001b[0m         \u001b[38;5;28mself\u001b[39m\u001b[38;5;241m.\u001b[39m_num_yielded \u001b[38;5;241m>\u001b[39m \u001b[38;5;28mself\u001b[39m\u001b[38;5;241m.\u001b[39m_IterableDataset_len_called:\n",
      "File \u001b[1;32mD:\\Users\\Productivity\\anaconda3\\envs\\cudanew\\lib\\site-packages\\torch\\utils\\data\\dataloader.py:674\u001b[0m, in \u001b[0;36m_SingleProcessDataLoaderIter._next_data\u001b[1;34m(self)\u001b[0m\n\u001b[0;32m    672\u001b[0m \u001b[38;5;28;01mdef\u001b[39;00m \u001b[38;5;21m_next_data\u001b[39m(\u001b[38;5;28mself\u001b[39m):\n\u001b[0;32m    673\u001b[0m     index \u001b[38;5;241m=\u001b[39m \u001b[38;5;28mself\u001b[39m\u001b[38;5;241m.\u001b[39m_next_index()  \u001b[38;5;66;03m# may raise StopIteration\u001b[39;00m\n\u001b[1;32m--> 674\u001b[0m     data \u001b[38;5;241m=\u001b[39m \u001b[38;5;28;43mself\u001b[39;49m\u001b[38;5;241;43m.\u001b[39;49m\u001b[43m_dataset_fetcher\u001b[49m\u001b[38;5;241;43m.\u001b[39;49m\u001b[43mfetch\u001b[49m\u001b[43m(\u001b[49m\u001b[43mindex\u001b[49m\u001b[43m)\u001b[49m  \u001b[38;5;66;03m# may raise StopIteration\u001b[39;00m\n\u001b[0;32m    675\u001b[0m     \u001b[38;5;28;01mif\u001b[39;00m \u001b[38;5;28mself\u001b[39m\u001b[38;5;241m.\u001b[39m_pin_memory:\n\u001b[0;32m    676\u001b[0m         data \u001b[38;5;241m=\u001b[39m _utils\u001b[38;5;241m.\u001b[39mpin_memory\u001b[38;5;241m.\u001b[39mpin_memory(data, \u001b[38;5;28mself\u001b[39m\u001b[38;5;241m.\u001b[39m_pin_memory_device)\n",
      "File \u001b[1;32mD:\\Users\\Productivity\\anaconda3\\envs\\cudanew\\lib\\site-packages\\torch\\utils\\data\\_utils\\fetch.py:54\u001b[0m, in \u001b[0;36m_MapDatasetFetcher.fetch\u001b[1;34m(self, possibly_batched_index)\u001b[0m\n\u001b[0;32m     52\u001b[0m \u001b[38;5;28;01melse\u001b[39;00m:\n\u001b[0;32m     53\u001b[0m     data \u001b[38;5;241m=\u001b[39m \u001b[38;5;28mself\u001b[39m\u001b[38;5;241m.\u001b[39mdataset[possibly_batched_index]\n\u001b[1;32m---> 54\u001b[0m \u001b[38;5;28;01mreturn\u001b[39;00m \u001b[38;5;28;43mself\u001b[39;49m\u001b[38;5;241;43m.\u001b[39;49m\u001b[43mcollate_fn\u001b[49m\u001b[43m(\u001b[49m\u001b[43mdata\u001b[49m\u001b[43m)\u001b[49m\n",
      "File \u001b[1;32mD:\\Users\\Productivity\\anaconda3\\envs\\cudanew\\lib\\site-packages\\torch_geometric\\nn\\models\\node2vec.py:140\u001b[0m, in \u001b[0;36mNode2Vec.sample\u001b[1;34m(self, batch)\u001b[0m\n\u001b[0;32m    138\u001b[0m \u001b[38;5;28;01mif\u001b[39;00m \u001b[38;5;129;01mnot\u001b[39;00m \u001b[38;5;28misinstance\u001b[39m(batch, Tensor):\n\u001b[0;32m    139\u001b[0m     batch \u001b[38;5;241m=\u001b[39m torch\u001b[38;5;241m.\u001b[39mtensor(batch)\n\u001b[1;32m--> 140\u001b[0m \u001b[38;5;28;01mreturn\u001b[39;00m \u001b[38;5;28mself\u001b[39m\u001b[38;5;241m.\u001b[39mpos_sample(batch), \u001b[38;5;28;43mself\u001b[39;49m\u001b[38;5;241;43m.\u001b[39;49m\u001b[43mneg_sample\u001b[49m\u001b[43m(\u001b[49m\u001b[43mbatch\u001b[49m\u001b[43m)\u001b[49m\n",
      "File \u001b[1;32mD:\\Users\\Productivity\\anaconda3\\envs\\cudanew\\lib\\site-packages\\torch_geometric\\nn\\models\\node2vec.py:134\u001b[0m, in \u001b[0;36mNode2Vec.neg_sample\u001b[1;34m(self, batch)\u001b[0m\n\u001b[0;32m    132\u001b[0m \u001b[38;5;28;01mfor\u001b[39;00m j \u001b[38;5;129;01min\u001b[39;00m \u001b[38;5;28mrange\u001b[39m(num_walks_per_rw):\n\u001b[0;32m    133\u001b[0m     walks\u001b[38;5;241m.\u001b[39mappend(rw[:, j:j \u001b[38;5;241m+\u001b[39m \u001b[38;5;28mself\u001b[39m\u001b[38;5;241m.\u001b[39mcontext_size])\n\u001b[1;32m--> 134\u001b[0m \u001b[38;5;28;01mreturn\u001b[39;00m \u001b[43mtorch\u001b[49m\u001b[38;5;241;43m.\u001b[39;49m\u001b[43mcat\u001b[49m\u001b[43m(\u001b[49m\u001b[43mwalks\u001b[49m\u001b[43m,\u001b[49m\u001b[43m \u001b[49m\u001b[43mdim\u001b[49m\u001b[38;5;241;43m=\u001b[39;49m\u001b[38;5;241;43m0\u001b[39;49m\u001b[43m)\u001b[49m\n",
      "\u001b[1;31mKeyboardInterrupt\u001b[0m: "
     ]
    }
   ],
   "source": [
    "embeddings = []\n",
    "for csbm in csbms:\n",
    "    embeddings.append(get_node_embeddings(csbm))\n",
    "emb_const, emb_het, emb_struct, emb_zero = embeddings"
   ]
  },
  {
   "cell_type": "code",
   "execution_count": null,
   "id": "2c97c7df-ffae-447d-a3be-107c31b9b058",
   "metadata": {
    "tags": []
   },
   "outputs": [],
   "source": [
    "def get_rbf_mmd(embedding):\n",
    "    differences = []\n",
    "    for t in range(T):\n",
    "        start = t * n\n",
    "        end = start + n\n",
    "        differences.append(mmd_max_rbf(embedding[:n], embedding[start:end]))\n",
    "    return differences"
   ]
  },
  {
   "cell_type": "code",
   "execution_count": null,
   "id": "8d474229-ad27-474f-b37d-de63d763e205",
   "metadata": {},
   "outputs": [],
   "source": [
    "mmds_rbf_const = get_rbf_mmd(emb_const)\n",
    "mmds_rbf_het = get_rbf_mmd(emb_het)\n",
    "mmds_rbf_struct = get_rbf_mmd(emb_struct)\n",
    "mmds_rbf_zero = get_rbf_mmd(emb_zero)"
   ]
  },
  {
   "cell_type": "code",
   "execution_count": null,
   "id": "554774f3-39dc-427e-9745-5a2ad391c3e7",
   "metadata": {},
   "outputs": [],
   "source": [
    "# plot\n",
    "plt.figure(figsize=(9, 6))\n",
    "\n",
    "plt.plot(time_steps, mmds_rbf_const, marker='o', linestyle='-', color='black', label='CSBM-Const')\n",
    "plt.plot(time_steps, mmds_rbf_zero, marker='o', linestyle='-', color='gray', label='CSBM-Zero')\n",
    "plt.plot(time_steps, mmds_rbf_het, marker='o', linestyle='-', color='orange', label='CSBM-Het')\n",
    "plt.plot(time_steps, mmds_rbf_struct, marker='o', linestyle='-', color='blue', label='CSBM-Struct')\n",
    "\n",
    "plt.title(r'Graph structure-shift for different CSBMs')\n",
    "plt.xlabel('Time Steps')\n",
    "plt.ylabel(r'$MMD^{2}$ with RBF-kernel')\n",
    "plt.grid(True)\n",
    "plt.legend(loc='lower right')\n",
    "plt.savefig('structure_shift_rbf.pdf', format='pdf')\n",
    "plt.show()\n",
    "plt.close()"
   ]
  },
  {
   "cell_type": "code",
   "execution_count": null,
   "id": "78e6aada-ee15-49df-a083-f126c9738d0f",
   "metadata": {
    "tags": []
   },
   "outputs": [],
   "source": [
    "for csbm in csbms:\n",
    "    print('-' * 10 + names[csbm] + '-' * 10)\n",
    "    print(f'|V|= {csbm.get_data().num_nodes}, |E|= {csbm.get_data().num_edges}, |E|/|V| = {(csbm.get_data().num_edges / csbm.get_data().num_nodes):.1f}')\n",
    "    print(f'Possible edges: {(100 * csbm.get_data().num_edges / csbm.get_data().num_nodes ** 2):.2f}%\\n')"
   ]
  }
 ],
 "metadata": {
  "kernelspec": {
   "display_name": "Python 3 (ipykernel)",
   "language": "python",
   "name": "python3"
  },
  "language_info": {
   "codemirror_mode": {
    "name": "ipython",
    "version": 3
   },
   "file_extension": ".py",
   "mimetype": "text/x-python",
   "name": "python",
   "nbconvert_exporter": "python",
   "pygments_lexer": "ipython3",
   "version": "3.9.18"
  }
 },
 "nbformat": 4,
 "nbformat_minor": 5
}
