


import numpy as np
import os
import pickle
import torch

from csbm import MultiClassCSBM, FeatureCSBM, StructureCSBM
from CSBMhet import CSBMhet


torch.set_printoptions(precision=3)
np.set_printoptions(precision=3)

n = 50

csbm = MultiClassCSBM(n=n)
csbm_zero = MultiClassCSBM(n=10*n)
csbm_het = CSBMhet(n=n)
csbm_struct = StructureCSBM(n=n)


csbm_data_list = [csbm.ge]


for i in range(9):
    csbm.evolve()
    csbm_het.evolve()
    csbm_struct.evolve()





os.makedirs('./csbm/', exist_ok=True)
with open('./csbm/csbm_const.pkl', 'wb') as file:
    pickle.dump(csbm, file)
with open('./csbm/csbm_zero.pkl', 'wb') as file:
    pickle.dump(csbm_zero, file)
with open('./csbm/csbm_het.pkl', 'wb') as file:
    pickle.dump(csbm_het, file)
with open('./csbm/csbm_struct.pkl', 'wb') as file:
    pickle.dump(csbm_struct, file)
