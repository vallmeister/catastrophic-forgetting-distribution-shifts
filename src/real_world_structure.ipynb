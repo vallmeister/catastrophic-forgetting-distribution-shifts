{
 "cells": [
  {
   "cell_type": "markdown",
   "id": "38e3a51e-bc3f-4d96-acca-3596ef2bc37d",
   "metadata": {},
   "source": [
    "# Structure shift of real-world datasets"
   ]
  },
  {
   "cell_type": "code",
   "execution_count": 1,
   "id": "298e5de0-1206-4fe5-9f6b-e3af4f9d3e1b",
   "metadata": {},
   "outputs": [],
   "source": [
    "import torch\n",
    "import torch_geometric\n",
    "\n",
    "from datasets import get_ogbn_arxiv_tasks, get_elliptic_temporal_tasks, get_ogbn_arxiv_tasks\n",
    "from measures import mmd_max_rbf\n",
    "from node2vec_embedding import get_node2vec_embedding"
   ]
  },
  {
   "cell_type": "code",
   "execution_count": 2,
   "id": "074bd074-aab3-47d7-91a1-99e701392217",
   "metadata": {},
   "outputs": [
    {
     "data": {
      "text/plain": [
       "tensor([[     0,      2,      4,  ..., 201921, 201480, 201954],\n",
       "        [     1,      3,      5,  ..., 202042, 201368, 201756]])"
      ]
     },
     "execution_count": 2,
     "metadata": {},
     "output_type": "execute_result"
    }
   ],
   "source": [
    "elliptic = get_elliptic_temporal_tasks()[-1]\n",
    "elliptic.edge_index"
   ]
  },
  {
   "cell_type": "code",
   "execution_count": null,
   "id": "9b83831d-e12f-43dd-8300-1e5486ceec57",
   "metadata": {},
   "outputs": [],
   "source": [
    "embedding = get_node2vec_embedding(elliptic)"
   ]
  },
  {
   "cell_type": "code",
   "execution_count": null,
   "id": "ce658a16-b598-4c1c-a4d4-cfc682889f0e",
   "metadata": {},
   "outputs": [],
   "source": [
    "x = embedding[elliptic.t == 0]\n",
    "structure_shifts = []\n",
    "for task in range(10):\n",
    "    z = embedding[elliptic.t == task]\n",
    "    structure_shifts.append(mmd_max_rbf(x, z))\n",
    "print(f'{[format(f, '.3f') for f in structure_shifts]}')"
   ]
  }
 ],
 "metadata": {
  "kernelspec": {
   "display_name": "Python 3 (ipykernel)",
   "language": "python",
   "name": "python3"
  },
  "language_info": {
   "codemirror_mode": {
    "name": "ipython",
    "version": 3
   },
   "file_extension": ".py",
   "mimetype": "text/x-python",
   "name": "python",
   "nbconvert_exporter": "python",
   "pygments_lexer": "ipython3",
   "version": "3.9.18"
  }
 },
 "nbformat": 4,
 "nbformat_minor": 5
}
