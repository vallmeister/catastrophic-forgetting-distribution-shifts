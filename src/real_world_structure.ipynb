{
 "cells": [
  {
   "cell_type": "markdown",
   "id": "38e3a51e-bc3f-4d96-acca-3596ef2bc37d",
   "metadata": {},
   "source": [
    "# Structure shift of real-world datasets"
   ]
  },
  {
   "cell_type": "code",
   "execution_count": 1,
   "id": "298e5de0-1206-4fe5-9f6b-e3af4f9d3e1b",
   "metadata": {},
   "outputs": [],
   "source": [
    "import torch\n",
    "\n",
    "from datasets import get_dblp, get_elliptic, get_elliptic_temporal, get_elliptic_temporal_as_list, get_ogbn_arxiv"
   ]
  },
  {
   "cell_type": "code",
   "execution_count": 2,
   "id": "cc5ffc4f-8ba8-4781-9925-d49c67e93df5",
   "metadata": {},
   "outputs": [],
   "source": [
    "# dblp = get_dblp()\n",
    "# ogbn = get_ogbn_arxiv()"
   ]
  },
  {
   "cell_type": "code",
   "execution_count": 3,
   "id": "a05ffb3b-f7a9-4594-9145-723db6aab56c",
   "metadata": {},
   "outputs": [],
   "source": [
    "elliptic = get_elliptic()\n",
    "elliptic_temporal = get_elliptic_temporal(1)\n",
    "x = elliptic_temporal.x\n",
    "y = elliptic_temporal.y\n",
    "edges = elliptic_temporal.edge_index\n",
    "\n",
    "for i in range(2, 50):\n",
    "    elliptic_temporal = get_elliptic_temporal(i)\n",
    "    prev  = len(x)\n",
    "    x = torch.cat((x, elliptic_temporal.x))\n",
    "    y = torch.cat((y, elliptic_temporal.y))\n",
    "    \n",
    "    edges = torch.cat((edges, elliptic_temporal.edge_index + prev), 1)"
   ]
  },
  {
   "cell_type": "code",
   "execution_count": 4,
   "id": "c1c0c788-412f-4b25-80c8-56df1d9dd4a5",
   "metadata": {},
   "outputs": [
    {
     "name": "stdout",
     "output_type": "stream",
     "text": [
      "True\n",
      "True\n",
      "True\n",
      "Data(x=[203769, 165], edge_index=[2, 234355], y=[203769], train_mask=[203769], test_mask=[203769])\n"
     ]
    },
    {
     "name": "stderr",
     "output_type": "stream",
     "text": [
      "D:\\Users\\Productivity\\anaconda3\\envs\\cudanew\\lib\\site-packages\\torch_geometric\\data\\in_memory_dataset.py:284: UserWarning: It is not recommended to directly access the internal storage format `data` of an 'InMemoryDataset'. If you are absolutely certain what you are doing, access the internal storage via `InMemoryDataset._data` instead to suppress this warning. Alternatively, you can access stacked individual attributes of every graph via `dataset.{attr_name}`.\n",
      "  warnings.warn(msg)\n"
     ]
    }
   ],
   "source": [
    "from collections import Counter\n",
    "\n",
    "print(torch.equal(x, elliptic.x))\n",
    "print(torch.equal(y, elliptic.y))\n",
    "print(torch.equal(edges, elliptic.edge_index))\n",
    "print(elliptic.data)"
   ]
  },
  {
   "cell_type": "code",
   "execution_count": 7,
   "id": "822872c3-7048-45d4-bee2-eb8b027dc497",
   "metadata": {},
   "outputs": [
    {
     "name": "stdout",
     "output_type": "stream",
     "text": [
      "True\n",
      "True\n",
      "True\n"
     ]
    }
   ],
   "source": [
    "elliptic_list = get_elliptic_temporal_as_list()\n",
    "data = elliptic_list[-1]\n",
    "print(torch.equal(data.x, elliptic.x))\n",
    "print(torch.equal(data.y, elliptic.y))\n",
    "print(torch.equal(data.edge_index, elliptic.edge_index))"
   ]
  }
 ],
 "metadata": {
  "kernelspec": {
   "display_name": "Python 3 (ipykernel)",
   "language": "python",
   "name": "python3"
  },
  "language_info": {
   "codemirror_mode": {
    "name": "ipython",
    "version": 3
   },
   "file_extension": ".py",
   "mimetype": "text/x-python",
   "name": "python",
   "nbconvert_exporter": "python",
   "pygments_lexer": "ipython3",
   "version": "3.9.18"
  }
 },
 "nbformat": 4,
 "nbformat_minor": 5
}
