{
 "cells": [
  {
   "cell_type": "markdown",
   "id": "38e3a51e-bc3f-4d96-acca-3596ef2bc37d",
   "metadata": {},
   "source": [
    "# Structure shift of real-world datasets"
   ]
  },
  {
   "cell_type": "code",
   "execution_count": 4,
   "id": "298e5de0-1206-4fe5-9f6b-e3af4f9d3e1b",
   "metadata": {},
   "outputs": [],
   "source": [
    "import torch\n",
    "import torch_geometric\n",
    "\n",
    "from datasets import get_dblp_tasks, get_elliptic_temporal_tasks, get_ogbn_arxiv_tasks\n",
    "from measures import mmd_max_rbf\n",
    "from node2vec_embedding import get_node2vec_embedding"
   ]
  },
  {
   "cell_type": "code",
   "execution_count": 2,
   "id": "074bd074-aab3-47d7-91a1-99e701392217",
   "metadata": {},
   "outputs": [
    {
     "data": {
      "text/plain": [
       "tensor([[     0,      2,      4,  ..., 201921, 201480, 201954],\n",
       "        [     1,      3,      5,  ..., 202042, 201368, 201756]])"
      ]
     },
     "execution_count": 2,
     "metadata": {},
     "output_type": "execute_result"
    }
   ],
   "source": [
    "dblp = get_dblp_tasks()[-1]\n",
    "elliptic = get_elliptic_temporal_tasks()[-1]\n",
    "ogbn = get_ogbn_arxiv_tasks()[-1]"
   ]
  },
  {
   "cell_type": "code",
   "execution_count": 3,
   "id": "9b83831d-e12f-43dd-8300-1e5486ceec57",
   "metadata": {},
   "outputs": [
    {
     "ename": "KeyboardInterrupt",
     "evalue": "",
     "output_type": "error",
     "traceback": [
      "\u001b[1;31m---------------------------------------------------------------------------\u001b[0m",
      "\u001b[1;31mKeyboardInterrupt\u001b[0m                         Traceback (most recent call last)",
      "Cell \u001b[1;32mIn[3], line 1\u001b[0m\n\u001b[1;32m----> 1\u001b[0m embedding \u001b[38;5;241m=\u001b[39m \u001b[43mget_node2vec_embedding\u001b[49m\u001b[43m(\u001b[49m\u001b[43melliptic\u001b[49m\u001b[43m)\u001b[49m\n",
      "File \u001b[1;32mD:\\Users\\Productivity\\develop\\catastrophic-forgetting-distribution-shifts\\src\\node2vec_embedding.py:64\u001b[0m, in \u001b[0;36mget_node2vec_embedding\u001b[1;34m(data)\u001b[0m\n\u001b[0;32m     62\u001b[0m curr_acc \u001b[38;5;241m=\u001b[39m \u001b[38;5;241m0\u001b[39m\n\u001b[0;32m     63\u001b[0m \u001b[38;5;28;01mfor\u001b[39;00m epoch \u001b[38;5;129;01min\u001b[39;00m \u001b[38;5;28mrange\u001b[39m(\u001b[38;5;241m150\u001b[39m):\n\u001b[1;32m---> 64\u001b[0m     \u001b[43mtrain\u001b[49m\u001b[43m(\u001b[49m\u001b[43m)\u001b[49m\n\u001b[0;32m     65\u001b[0m     acc \u001b[38;5;241m=\u001b[39m test()\n\u001b[0;32m     66\u001b[0m     curr_acc \u001b[38;5;241m=\u001b[39m \u001b[38;5;28mmax\u001b[39m(curr_acc, acc)\n",
      "File \u001b[1;32mD:\\Users\\Productivity\\develop\\catastrophic-forgetting-distribution-shifts\\src\\node2vec_embedding.py:46\u001b[0m, in \u001b[0;36mget_node2vec_embedding.<locals>.train\u001b[1;34m()\u001b[0m\n\u001b[0;32m     44\u001b[0m     loss\u001b[38;5;241m.\u001b[39mbackward()\n\u001b[0;32m     45\u001b[0m     optimizer\u001b[38;5;241m.\u001b[39mstep()\n\u001b[1;32m---> 46\u001b[0m     total_loss \u001b[38;5;241m+\u001b[39m\u001b[38;5;241m=\u001b[39m \u001b[43mloss\u001b[49m\u001b[38;5;241;43m.\u001b[39;49m\u001b[43mitem\u001b[49m\u001b[43m(\u001b[49m\u001b[43m)\u001b[49m\n\u001b[0;32m     47\u001b[0m \u001b[38;5;28;01mreturn\u001b[39;00m total_loss \u001b[38;5;241m/\u001b[39m \u001b[38;5;28mlen\u001b[39m(loader)\n",
      "\u001b[1;31mKeyboardInterrupt\u001b[0m: "
     ]
    }
   ],
   "source": [
    "dbl_emb = get_node2vec_embedding(dblp)\n",
    "elliptic_emb = get_node2vec_embedding(elliptic)\n",
    "ogbn_emb = get_node2vec_embedding(ogbn)"
   ]
  },
  {
   "cell_type": "code",
   "execution_count": 8,
   "id": "ce658a16-b598-4c1c-a4d4-cfc682889f0e",
   "metadata": {},
   "outputs": [],
   "source": [
    "x = embedding[dblp.node_year <= 2004]\n",
    "structure_shifts = [0]\n",
    "for task in range(2005, 2016):\n",
    "    z = embedding[dblp.node_year == task]\n",
    "    structure_shifts.append(mmd_max_rbf(x, z))\n",
    "print(f'DBLP:\\t{[format(f, '.2f')structure_shifts]}')"
   ]
  },
  {
   "cell_type": "code",
   "execution_count": null,
   "id": "0f660e18-3779-4231-a4fe-a66d9878cb84",
   "metadata": {},
   "outputs": [],
   "source": [
    "get_structure_shift()"
   ]
  }
 ],
 "metadata": {
  "kernelspec": {
   "display_name": "Python 3 (ipykernel)",
   "language": "python",
   "name": "python3"
  },
  "language_info": {
   "codemirror_mode": {
    "name": "ipython",
    "version": 3
   },
   "file_extension": ".py",
   "mimetype": "text/x-python",
   "name": "python",
   "nbconvert_exporter": "python",
   "pygments_lexer": "ipython3",
   "version": "3.9.18"
  }
 },
 "nbformat": 4,
 "nbformat_minor": 5
}
