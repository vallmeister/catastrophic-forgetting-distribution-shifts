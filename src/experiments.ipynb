{
 "cells": [
  {
   "cell_type": "markdown",
   "id": "ee0ac914-68c6-4185-8a56-84b81f1a5477",
   "metadata": {},
   "source": [
    "# Running experiments from .yaml and saving results in .csv"
   ]
  },
  {
   "cell_type": "code",
   "execution_count": 1,
   "id": "7f0983ac-087b-4ae3-b13b-4ee0d1b6b8e7",
   "metadata": {},
   "outputs": [],
   "source": [
    "import yaml\n",
    "import csv\n",
    "import torch\n",
    "import numpy as np"
   ]
  },
  {
   "cell_type": "code",
   "execution_count": 2,
   "id": "0d74d2bd-77d9-4293-b84a-7a411737ba06",
   "metadata": {},
   "outputs": [],
   "source": [
    "import torch.nn.functional as F\n",
    "from torch_geometric.nn import GCNConv\n",
    "\n",
    "class GCN(torch.nn.Module):\n",
    "    def __init__(self):\n",
    "        super().__init__()\n",
    "        self.conv1 = GCNConv(128, 128)\n",
    "        self.conv2 = GCNConv(128, 16)\n",
    "\n",
    "    def forward(self, data):\n",
    "        x, edge_index = data.x, data.edge_index\n",
    "\n",
    "        x = self.conv1(x, edge_index)\n",
    "        x = F.relu(x)\n",
    "        x = F.dropout(x, training=self.training)\n",
    "        x = self.conv2(x, edge_index)\n",
    "\n",
    "        return F.log_softmax(x, dim=1)"
   ]
  },
  {
   "cell_type": "code",
   "execution_count": 3,
   "id": "015702e9-0f2b-484c-bfa0-031e1eada838",
   "metadata": {},
   "outputs": [
    {
     "name": "stdout",
     "output_type": "stream",
     "text": [
      "cuda\n",
      "base_ ./csbm_base/\n",
      "AP: 0.49   AF: 0.11\n",
      "AP: 0.47   AF: 0.09\n",
      "\n",
      "zero_ ./csbm_zero/\n",
      "AP: 0.28   AF: 0.00\n",
      "AP: 0.34   AF: 0.00\n",
      "\n",
      "feat_ ./csbm_feat/\n",
      "AP: 0.27   AF: 0.24\n",
      "AP: 0.31   AF: 0.17\n",
      "\n",
      "struct_ ./csbm_struct/\n",
      "AP: 0.25   AF: 0.07\n",
      "AP: 0.25   AF: 0.06\n",
      "\n",
      "hom_ ./csbm_hom/\n",
      "AP: 0.46   AF: 0.15\n",
      "AP: 0.49   AF: 0.11\n",
      "\n",
      "class_ ./csbm_class/\n",
      "AP: 0.56   AF: 0.06\n",
      "AP: 0.53   AF: 0.07\n",
      "\n"
     ]
    }
   ],
   "source": [
    "from measures import Result\n",
    "\n",
    "\n",
    "device = torch.device('cuda' if torch.cuda.is_available() else 'cpu')\n",
    "print(device)\n",
    "torch.set_printoptions(precision=2)\n",
    "np.set_printoptions(precision=2)\n",
    "\n",
    "with open('experiments.yaml', 'r') as yaml_file:\n",
    "    experiments = yaml.safe_load(yaml_file)\n",
    "\n",
    "with open('results.csv', 'w', newline='') as csv_file:\n",
    "    fieldnames = ['Dataset', 'AP', 'AF']\n",
    "    writer = csv.DictWriter(csv_file, fieldnames=fieldnames)\n",
    "    writer.writeheader()\n",
    "\n",
    "    for experiment in experiments['experiments']:\n",
    "        print(experiment['name'], experiment['directory'])\n",
    "        for i in range(10):\n",
    "            dataset = torch.load(experiment['directory'] + experiment['name'] + f'{i}.pt')\n",
    "            result = Result(dataset, GCN().to(device), [dataset.t == t for t in dataset.t.unique()])\n",
    "            result.learn()\n",
    "            ap = result.get_average_accuracy()\n",
    "            af = 0 if experiment['name'] == 'zero_' else result.get_average_forgetting_measure()\n",
    "            writer.writerow({'Dataset': f'{experiment[\"name\"]}', 'AP': f'{ap}', 'AF': f'{af}'})\n",
    "            print(f'AP: {ap:.2f}'.ljust(10) + f' AF: {af:.2f}')\n",
    "        print()"
   ]
  },
  {
   "cell_type": "code",
   "execution_count": 4,
   "id": "99296cd2-fd13-4b60-815b-e8cd5cb8265d",
   "metadata": {},
   "outputs": [
    {
     "name": "stdout",
     "output_type": "stream",
     "text": [
      "           AP    AF\n",
      "Dataset            \n",
      "base_   0.480 0.103\n",
      "class_  0.547 0.064\n",
      "feat_   0.288 0.206\n",
      "hom_    0.475 0.128\n",
      "struct_ 0.250 0.064\n",
      "zero_   0.312 0.000\n"
     ]
    },
    {
     "name": "stderr",
     "output_type": "stream",
     "text": [
      "C:\\Users\\Produktivität\\AppData\\Local\\Temp\\ipykernel_4488\\2627822054.py:1: DeprecationWarning: \n",
      "Pyarrow will become a required dependency of pandas in the next major release of pandas (pandas 3.0),\n",
      "(to allow more performant data types, such as the Arrow string type, and better interoperability with other libraries)\n",
      "but was not found to be installed on your system.\n",
      "If this would cause problems for you,\n",
      "please provide us feedback at https://github.com/pandas-dev/pandas/issues/54466\n",
      "        \n",
      "  import pandas as pd\n"
     ]
    }
   ],
   "source": [
    "import pandas as pd\n",
    "\n",
    "pd.set_option('display.float_format', lambda x: f'{x:.3f}')\n",
    "performance = pd.read_csv('results.csv')\n",
    "print(performance.groupby('Dataset').mean())"
   ]
  }
 ],
 "metadata": {
  "kernelspec": {
   "display_name": "Python 3 (ipykernel)",
   "language": "python",
   "name": "python3"
  },
  "language_info": {
   "codemirror_mode": {
    "name": "ipython",
    "version": 3
   },
   "file_extension": ".py",
   "mimetype": "text/x-python",
   "name": "python",
   "nbconvert_exporter": "python",
   "pygments_lexer": "ipython3",
   "version": "3.9.18"
  }
 },
 "nbformat": 4,
 "nbformat_minor": 5
}
