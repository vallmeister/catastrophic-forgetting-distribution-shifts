{
 "cells": [
  {
   "cell_type": "markdown",
   "id": "c59c52b3-e927-46b5-ba1c-d6204958e125",
   "metadata": {},
   "source": [
    "# Testing basic GCN on our modified real-world tasks"
   ]
  },
  {
   "cell_type": "code",
   "execution_count": 12,
   "id": "5d0c0902-af2f-45ac-928a-ba70c01d38ca",
   "metadata": {},
   "outputs": [],
   "source": [
    "import torch\n",
    "import torch_geometric"
   ]
  },
  {
   "cell_type": "code",
   "execution_count": 2,
   "id": "acc908d9-8fc0-44ba-a4fa-5e8442fcaea7",
   "metadata": {},
   "outputs": [
    {
     "name": "stderr",
     "output_type": "stream",
     "text": [
      "D:\\Users\\Productivity\\anaconda3\\envs\\cudanew\\lib\\site-packages\\torch_geometric\\data\\in_memory_dataset.py:284: UserWarning: It is not recommended to directly access the internal storage format `data` of an 'InMemoryDataset'. If you are absolutely certain what you are doing, access the internal storage via `InMemoryDataset._data` instead to suppress this warning. Alternatively, you can access stacked individual attributes of every graph via `dataset.{attr_name}`.\n",
      "  warnings.warn(msg)\n"
     ]
    }
   ],
   "source": [
    "dblp = torch.load('./data/real-world/dblp_tasks.pt')\n",
    "elliptic = torch.load('./data/real-world/elliptic_tasks.pt')\n",
    "ogbn = torch.load('./data/real-world/ogbn_tasks.pt')"
   ]
  },
  {
   "cell_type": "code",
   "execution_count": 3,
   "id": "8ac2e51e-0d1c-4a8c-9ab7-8c04364fedf6",
   "metadata": {},
   "outputs": [],
   "source": [
    "import torch.nn.functional as F\n",
    "from torch_geometric.nn import GCNConv\n",
    "\n",
    "\n",
    "class GCN(torch.nn.Module):\n",
    "    def __init__(self, input_dim, output_dim):\n",
    "        super().__init__()\n",
    "        self.conv1 = GCNConv(input_dim, 128)\n",
    "        self.conv2 = GCNConv(128, output_dim)\n",
    "\n",
    "    def forward(self, data):\n",
    "        x, edge_index = data.x, data.edge_index\n",
    "\n",
    "        x = self.conv1(x, edge_index)\n",
    "        x = F.relu(x)\n",
    "        x = F.dropout(x, training=self.training)\n",
    "        x = self.conv2(x, edge_index)\n",
    "\n",
    "        return F.log_softmax(x, dim=1)"
   ]
  },
  {
   "cell_type": "code",
   "execution_count": 4,
   "id": "879d9b80-b378-4a37-919f-e83b45249adf",
   "metadata": {},
   "outputs": [],
   "source": [
    "from measures import Result\n",
    "from datasets import get_mask"
   ]
  },
  {
   "cell_type": "code",
   "execution_count": 5,
   "id": "68edc329-a4d7-4627-aa91-eabc5be6a52f",
   "metadata": {},
   "outputs": [
    {
     "name": "stdout",
     "output_type": "stream",
     "text": [
      "cuda\n"
     ]
    }
   ],
   "source": [
    "device = torch.device('cuda' if torch.cuda.is_available() else 'cpu')\n",
    "print(device)\n",
    "torch.set_printoptions(precision=3)\n",
    "\n",
    "dblp_result = Result(dblp, GCN(len(dblp[0].x[0]), 44), device)\n",
    "dblp_result.learn()\n",
    "print(20 * '-')\n",
    "print(f'DBLP\\tAP:{dblp_result.get_average_accuracy():.3f}\\tAF:{dblp_result.get_average_forgetting_measure():.3f}\\n')\n",
    "print(dblp_result.get_result_matrix())\n",
    "\n",
    "print(20 * '-')\n",
    "elliptic_result = Result(elliptic, GCN(len(elliptic[0].x[0]), 2), device)\n",
    "elliptic_result.learn()\n",
    "print(f'Elliptic\\tAP:{elliptic_result.get_average_accuracy():.3f}\\tAF:{elliptic_result.get_average_forgetting_measure():.3f}\\n')\n",
    "print(elliptic_result.get_result_matrix())\n",
    "\n",
    "print(20 * '-')\n",
    "ogbn_result = Result(ogbn, GCN(len(ogbn[0].x[0]), len(torch.unique(ogbn[0].y))), device)\n",
    "ogbn_result.learn()\n",
    "print(f'OGBN-arXiv\\tAP:{ogbn_result.get_average_accuracy():.3f}\\tAF:{ogbn_result.get_average_forgetting_measure():.3f}\\n')\n",
    "print(ogbn_result.get_result_matrix())"
   ]
  }
 ],
 "metadata": {
  "kernelspec": {
   "display_name": "Python 3 (ipykernel)",
   "language": "python",
   "name": "python3"
  },
  "language_info": {
   "codemirror_mode": {
    "name": "ipython",
    "version": 3
   },
   "file_extension": ".py",
   "mimetype": "text/x-python",
   "name": "python",
   "nbconvert_exporter": "python",
   "pygments_lexer": "ipython3",
   "version": "3.9.18"
  }
 },
 "nbformat": 4,
 "nbformat_minor": 5
}
