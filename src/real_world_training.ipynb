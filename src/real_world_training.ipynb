{
 "cells": [
  {
   "cell_type": "markdown",
   "id": "c59c52b3-e927-46b5-ba1c-d6204958e125",
   "metadata": {},
   "source": [
    "# Testing basic GCN on our modified real-world tasks"
   ]
  },
  {
   "cell_type": "code",
   "execution_count": 1,
   "id": "5d0c0902-af2f-45ac-928a-ba70c01d38ca",
   "metadata": {},
   "outputs": [],
   "source": [
    "import torch\n",
    "import torch_geometric\n",
    "\n",
    "from datasets import get_dblp_tasks, get_elliptic_temporal_tasks, get_ogbn_arxiv_tasks, get_dblp, get_ogbn_arxiv"
   ]
  },
  {
   "cell_type": "code",
   "execution_count": 2,
   "id": "acc908d9-8fc0-44ba-a4fa-5e8442fcaea7",
   "metadata": {},
   "outputs": [
    {
     "name": "stderr",
     "output_type": "stream",
     "text": [
      "D:\\Users\\Productivity\\anaconda3\\envs\\cudanew\\lib\\site-packages\\torch_geometric\\data\\in_memory_dataset.py:284: UserWarning: It is not recommended to directly access the internal storage format `data` of an 'InMemoryDataset'. If you are absolutely certain what you are doing, access the internal storage via `InMemoryDataset._data` instead to suppress this warning. Alternatively, you can access stacked individual attributes of every graph via `dataset.{attr_name}`.\n",
      "  warnings.warn(msg)\n"
     ]
    }
   ],
   "source": [
    "#dblp = get_dblp_tasks()\n",
    "#elliptic = get_elliptic_temporal_tasks()\n",
    "#ogbn = get_ogbn_arxiv_tasks()\n",
    "ogbn = get_ogbn_arxiv_tasks()"
   ]
  },
  {
   "cell_type": "code",
   "execution_count": 3,
   "id": "8ac2e51e-0d1c-4a8c-9ab7-8c04364fedf6",
   "metadata": {},
   "outputs": [],
   "source": [
    "import torch.nn.functional as F\n",
    "from torch_geometric.nn import GCNConv\n",
    "\n",
    "\n",
    "class GCN(torch.nn.Module):\n",
    "    def __init__(self, input_dim, output_dim):\n",
    "        super().__init__()\n",
    "        self.conv1 = GCNConv(input_dim, 128)\n",
    "        self.conv2 = GCNConv(128, output_dim)\n",
    "\n",
    "    def forward(self, data):\n",
    "        x, edge_index = data.x, data.edge_index\n",
    "\n",
    "        x = self.conv1(x, edge_index)\n",
    "        x = F.relu(x)\n",
    "        x = F.dropout(x, training=self.training)\n",
    "        x = self.conv2(x, edge_index)\n",
    "\n",
    "        return F.log_softmax(x, dim=1)"
   ]
  },
  {
   "cell_type": "code",
   "execution_count": 4,
   "id": "879d9b80-b378-4a37-919f-e83b45249adf",
   "metadata": {},
   "outputs": [],
   "source": [
    "from measures import Result\n",
    "from datasets import get_mask"
   ]
  },
  {
   "cell_type": "code",
   "execution_count": 5,
   "id": "68edc329-a4d7-4627-aa91-eabc5be6a52f",
   "metadata": {},
   "outputs": [
    {
     "name": "stdout",
     "output_type": "stream",
     "text": [
      "cuda\n"
     ]
    }
   ],
   "source": [
    "device = torch.device('cuda' if torch.cuda.is_available() else 'cpu')\n",
    "print(device)\n",
    "torch.set_printoptions(precision=3)\n",
    "\n",
    "# dblp_result = Result(dblp, GCN(len(dblp[0].x[0]), 44), device)\n",
    "# dblp_result.learn()\n",
    "# print(f'DBLP\\tAP:{dblp_result.get_average_accuracy():.2f}\\tAF:{dblp_result.get_average_forgetting_measure():.2f}\\n')\n",
    "# print(dblp_result.get_result_matrix())\n",
    "\n",
    "# elliptic_result = Result(elliptic, GCN(len(elliptic[0].x[0]), 2), device)\n",
    "# elliptic_result.learn()\n",
    "# print(f'Elliptic\\tAP:{elliptic_result.get_average_accuracy():.2f}\\tAF:{elliptic_result.get_average_forgetting_measure():.3f}\\n')\n",
    "# print(elliptic_result.get_result_matrix())\n",
    "\n",
    "ogbn_result = Result(ogbn, GCN(len(ogbn[0].x[0]), len(torch.unique(ogbn[0].y))), device)"
   ]
  },
  {
   "cell_type": "code",
   "execution_count": 6,
   "id": "041b9c25-e48f-47c3-adf4-786f02ee65dd",
   "metadata": {},
   "outputs": [
    {
     "data": {
      "text/plain": [
       "torch.Size([23836, 128])"
      ]
     },
     "execution_count": 6,
     "metadata": {},
     "output_type": "execute_result"
    }
   ],
   "source": [
    "ogbn[1].x.size()"
   ]
  },
  {
   "cell_type": "code",
   "execution_count": 7,
   "id": "d2bf35f0-3210-42ea-9c8a-6a7e43fbdad3",
   "metadata": {},
   "outputs": [
    {
     "data": {
      "text/plain": [
       "torch.Size([17401])"
      ]
     },
     "execution_count": 7,
     "metadata": {},
     "output_type": "execute_result"
    }
   ],
   "source": [
    "ogbn[0].y.size()"
   ]
  },
  {
   "cell_type": "code",
   "execution_count": 8,
   "id": "c45ccc69-a98f-431b-844f-0782e0f60906",
   "metadata": {},
   "outputs": [
    {
     "data": {
      "text/plain": [
       "tensor(10440)"
      ]
     },
     "execution_count": 8,
     "metadata": {},
     "output_type": "execute_result"
    }
   ],
   "source": [
    "ogbn[0].train_mask.sum()"
   ]
  },
  {
   "cell_type": "code",
   "execution_count": 9,
   "id": "ac84637e-4729-4c69-9944-11dabff11e6e",
   "metadata": {},
   "outputs": [],
   "source": [
    "ogbn_result.learn()"
   ]
  },
  {
   "cell_type": "code",
   "execution_count": 10,
   "id": "24eef68a-d405-44c3-9af5-de9da2cc05b1",
   "metadata": {},
   "outputs": [
    {
     "data": {
      "text/plain": [
       "tensor([[0.568, 0.502, 0.508, 0.491, 0.482, 0.447, 0.453, 0.433, 0.403, 0.388],\n",
       "        [0.523, 0.554, 0.530, 0.507, 0.489, 0.464, 0.463, 0.459, 0.444, 0.431],\n",
       "        [0.520, 0.524, 0.557, 0.524, 0.520, 0.504, 0.509, 0.500, 0.470, 0.444],\n",
       "        [0.512, 0.520, 0.522, 0.553, 0.531, 0.520, 0.524, 0.522, 0.497, 0.482],\n",
       "        [0.517, 0.507, 0.509, 0.540, 0.552, 0.534, 0.544, 0.545, 0.518, 0.504],\n",
       "        [0.506, 0.490, 0.498, 0.533, 0.531, 0.555, 0.552, 0.557, 0.536, 0.528],\n",
       "        [0.498, 0.484, 0.493, 0.525, 0.525, 0.541, 0.563, 0.561, 0.540, 0.529],\n",
       "        [0.482, 0.471, 0.470, 0.508, 0.509, 0.530, 0.550, 0.569, 0.563, 0.541],\n",
       "        [0.463, 0.458, 0.441, 0.494, 0.495, 0.506, 0.541, 0.553, 0.571, 0.550],\n",
       "        [0.455, 0.444, 0.433, 0.454, 0.474, 0.485, 0.510, 0.530, 0.555, 0.546]])"
      ]
     },
     "execution_count": 10,
     "metadata": {},
     "output_type": "execute_result"
    }
   ],
   "source": [
    "ogbn_result.get_result_matrix()"
   ]
  },
  {
   "cell_type": "code",
   "execution_count": 11,
   "id": "0487ba9a-b7f7-48ba-8afd-64c37da7c2d4",
   "metadata": {},
   "outputs": [
    {
     "data": {
      "text/plain": [
       "0.0785408185587989"
      ]
     },
     "execution_count": 11,
     "metadata": {},
     "output_type": "execute_result"
    }
   ],
   "source": [
    "ogbn_result.get_average_forgetting_measure()"
   ]
  }
 ],
 "metadata": {
  "kernelspec": {
   "display_name": "Python 3 (ipykernel)",
   "language": "python",
   "name": "python3"
  },
  "language_info": {
   "codemirror_mode": {
    "name": "ipython",
    "version": 3
   },
   "file_extension": ".py",
   "mimetype": "text/x-python",
   "name": "python",
   "nbconvert_exporter": "python",
   "pygments_lexer": "ipython3",
   "version": "3.9.18"
  }
 },
 "nbformat": 4,
 "nbformat_minor": 5
}
