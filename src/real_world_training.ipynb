{
 "cells": [
  {
   "cell_type": "markdown",
   "id": "c59c52b3-e927-46b5-ba1c-d6204958e125",
   "metadata": {},
   "source": [
    "# Testing basic GCN on our modified real-world tasks"
   ]
  },
  {
   "cell_type": "code",
   "execution_count": 4,
   "id": "5d0c0902-af2f-45ac-928a-ba70c01d38ca",
   "metadata": {},
   "outputs": [],
   "source": [
    "import torch\n",
    "import torch_geometric\n",
    "\n",
    "from datasets import get_dblp_tasks, get_elliptic_temporal_tasks, get_ogbn_arxiv_tasks"
   ]
  },
  {
   "cell_type": "code",
   "execution_count": null,
   "id": "acc908d9-8fc0-44ba-a4fa-5e8442fcaea7",
   "metadata": {},
   "outputs": [],
   "source": [
    "dblp = get_dblp_tasks()\n",
    "elliptic = get_elliptic_temporal_tasks()\n",
    "ogbn = get_ogbn_arxiv_tasks()"
   ]
  },
  {
   "cell_type": "code",
   "execution_count": 5,
   "id": "8ac2e51e-0d1c-4a8c-9ab7-8c04364fedf6",
   "metadata": {},
   "outputs": [],
   "source": [
    "import torch.nn.functional as F\n",
    "from torch_geometric.nn import GCNConv\n",
    "\n",
    "\n",
    "class GCN(torch.nn.Module):\n",
    "    def __init__(self, input_dim, output_dim):\n",
    "        super().__init__()\n",
    "        self.conv1 = GCNConv(input_dim, 128)\n",
    "        self.conv2 = GCNConv(128, output_dim)\n",
    "\n",
    "    def forward(self, data):\n",
    "        x, edge_index = data.x, data.edge_index\n",
    "\n",
    "        x = self.conv1(x, edge_index)\n",
    "        x = F.relu(x)\n",
    "        x = F.dropout(x, training=self.training)\n",
    "        x = self.conv2(x, edge_index)\n",
    "\n",
    "        return F.log_softmax(x, dim=1)"
   ]
  },
  {
   "cell_type": "code",
   "execution_count": 6,
   "id": "879d9b80-b378-4a37-919f-e83b45249adf",
   "metadata": {},
   "outputs": [],
   "source": [
    "from measures import Result"
   ]
  },
  {
   "cell_type": "code",
   "execution_count": null,
   "id": "68edc329-a4d7-4627-aa91-eabc5be6a52f",
   "metadata": {},
   "outputs": [],
   "source": [
    "device = torch.device('cuda' if torch.cuda.is_available() else 'cpu')\n",
    "print(device)\n",
    "\n",
    "dblp_result = Result(dblp, GCN(len(dblp[0].x[0]), 44), device)\n",
    "dblp_result.learn()\n",
    "print(f'DBLP\\tAP:{dblp_result.get_average_accuracy():.2f}\\tAF:{dblp_result.get_average_forgetting_measure():.2f}\\n')\n",
    "print(dblp_result.get_result_matrix())\n",
    "\n",
    "elliptic_result = Result(elliptic, GCN(len(elliptic[0].x[0]), 2), device)\n",
    "elliptic_result.learn()\n",
    "print(f'Elliptic\\tAP:{elliptic_result.get_average_accuracy():.2f}\\tAF:{elliptic_result.get_average_forgetting_measure():.2f}\\n')\n",
    "print(elliptic_result.get_result_matrix())\n",
    "\n",
    "ogbn_result = Result(ogbn, GCN(len(ogbn[0].x[0]), torch.unique(ogbn[0].y)), device)"
   ]
  }
 ],
 "metadata": {
  "kernelspec": {
   "display_name": "Python 3 (ipykernel)",
   "language": "python",
   "name": "python3"
  },
  "language_info": {
   "codemirror_mode": {
    "name": "ipython",
    "version": 3
   },
   "file_extension": ".py",
   "mimetype": "text/x-python",
   "name": "python",
   "nbconvert_exporter": "python",
   "pygments_lexer": "ipython3",
   "version": "3.9.18"
  }
 },
 "nbformat": 4,
 "nbformat_minor": 5
}
