{
 "cells": [
  {
   "cell_type": "code",
   "execution_count": 1,
   "id": "23a19cc6-1de6-4e2c-9127-6b46856a7960",
   "metadata": {
    "tags": []
   },
   "outputs": [],
   "source": [
    "import matplotlib.pyplot as plt\n",
    "import numpy as np\n",
    "import math\n",
    "from collections import Counter\n",
    "from MultiClassCSBM import MultiClassCSBM\n",
    "from CSBMFeat import CSBMFeat\n",
    "from CSBMCl import CSBMCl\n",
    "from metrics import mmd_rbf, total_variation_distance"
   ]
  },
  {
   "cell_type": "code",
   "execution_count": 2,
   "id": "7e746c11-9203-49f8-bb69-be36461a7de1",
   "metadata": {},
   "outputs": [],
   "source": [
    "dimensions = 100\n",
    "gamma = 2 * dimensions\n",
    "n = 200\n",
    "classes = 20"
   ]
  },
  {
   "cell_type": "code",
   "execution_count": 3,
   "id": "fb1b9b0e-2b99-430a-91ed-427bfdef7856",
   "metadata": {
    "tags": []
   },
   "outputs": [],
   "source": [
    "def get_pairwise_mean_distance(csbm):\n",
    "    means = csbm.means\n",
    "    c = csbm.classes\n",
    "    distance = 0\n",
    "    count = 0\n",
    "    for i in range(c):\n",
    "        for j in range(c):\n",
    "            if i == j:\n",
    "                continue\n",
    "            distance += np.linalg.norm(means[i] - means[j])\n",
    "            count += 1\n",
    "    return distance / count"
   ]
  },
  {
   "cell_type": "code",
   "execution_count": 4,
   "id": "fabb2451-9fa1-4794-bd32-95d470ffeffc",
   "metadata": {
    "tags": []
   },
   "outputs": [],
   "source": [
    "def get_mean_initialiation_distance(csbm):\n",
    "    means = csbm.means\n",
    "    init = csbm.initial_means\n",
    "    c = csbm.classes\n",
    "    distance = 0\n",
    "    count = 0\n",
    "    for i in range(c):\n",
    "            distance += np.linalg.norm(means[i] - init[i])\n",
    "            count += 1\n",
    "    return distance / count"
   ]
  },
  {
   "cell_type": "code",
   "execution_count": 5,
   "id": "fafa646a-1041-4250-82e3-209cbb7d4fca",
   "metadata": {
    "tags": []
   },
   "outputs": [],
   "source": [
    "def get_pairwise_neighbor_mean_distance(csbm):\n",
    "    means = csbm.means\n",
    "    c = csbm.classes\n",
    "    distance = 0\n",
    "    count = 0\n",
    "    for i in range(c):\n",
    "            distance += np.linalg.norm(means[i] - means[(i + 1) % c])\n",
    "            count += 1\n",
    "    return distance / count"
   ]
  },
  {
   "cell_type": "code",
   "execution_count": 6,
   "id": "534f9f3f-7a7d-4d18-8db7-26d617dc7b94",
   "metadata": {
    "tags": []
   },
   "outputs": [],
   "source": [
    "def get_pairwise_non_neighbor_mean_distance(csbm):\n",
    "    means = csbm.means\n",
    "    c = csbm.classes\n",
    "    distance = 0\n",
    "    count = 0\n",
    "    for i in range(c):\n",
    "        for j in range(c):\n",
    "            if i == j or abs(i - j) == 1 or abs(i - j) == c - 1:\n",
    "                continue\n",
    "            distance += np.linalg.norm(means[i] - means[j])\n",
    "            count += 1\n",
    "    return distance / count"
   ]
  },
  {
   "cell_type": "code",
   "execution_count": 7,
   "id": "45d3f0ea-311b-4f41-8448-f8b6f3bae1c5",
   "metadata": {
    "tags": []
   },
   "outputs": [],
   "source": [
    "def mmd_per_class(csbm):\n",
    "    result = 0\n",
    "    X = csbm.X[:n]\n",
    "    y_1 = csbm.y[:n]\n",
    "    Z = csbm.X[-n:]\n",
    "    y_2 = csbm.y[-n:]\n",
    "    for c in range(classes):\n",
    "        result += mmd_rbf(X[y_1==c], Z[y_2==c], gamma)\n",
    "    return result / classes"
   ]
  },
  {
   "cell_type": "code",
   "execution_count": 8,
   "id": "ed6f6d61-9182-4bb0-b876-e20ad0c5846a",
   "metadata": {
    "tags": []
   },
   "outputs": [],
   "source": [
    "# initialize\n",
    "time_steps = np.arange(0, 21)\n",
    "mean_distance_from_initialization = []\n",
    "mean_pairwise_distance_all = []\n",
    "mean_pairwise_distance_neighbors = []\n",
    "mean_pairwise_distance_non_neighbors = [] \n",
    "mmd_from_first_to_tth_nodes_high = []\n",
    "mmd_from_first_to_tth_nodes_low = []\n",
    "\n",
    "# simulate\n",
    "csbm_feat_high = CSBMFeat(n=n, dimensions=dimensions, sigma_square=0.1, classes=classes)\n",
    "csbm_feat_low = CSBMFeat(n=n, dimensions=dimensions, sigma_square=1e-20, classes=classes)\n",
    "for _ in range(21):\n",
    "    mmd_from_first_to_tth_nodes_high.append(mmd_per_class(csbm_feat_high))\n",
    "    mmd_from_first_to_tth_nodes_low.append(mmd_per_class(csbm_feat_low))\n",
    "    mean_pairwise_distance_all.append(get_pairwise_mean_distance(csbm_feat_high))\n",
    "    mean_distance_from_initialization.append(get_mean_initialiation_distance(csbm_feat_high))\n",
    "    mean_pairwise_distance_neighbors.append(get_pairwise_neighbor_mean_distance(csbm_feat_high))\n",
    "    mean_pairwise_distance_non_neighbors.append(get_pairwise_non_neighbor_mean_distance(csbm_feat_high))\n",
    "    csbm_feat_high.evolve()\n",
    "    csbm_feat_low.evolve()\n",
    "\n",
    "# plot\n",
    "plt.figure(figsize=(12, 6))\n",
    "plt.title(r'Feature-shift over time for different $\\sigma^{2}$')\n",
    "\n",
    "plt.plot(time_steps, mmd_from_first_to_tth_nodes_high, marker='o', linestyle='-', color='b', label=r'$\\sigma^{2}=0.1$')\n",
    "plt.plot(time_steps, mmd_from_first_to_tth_nodes_low, marker='o', linestyle='-', color='r', label=r'$\\sigma^{2}=1e-20$')\n",
    "plt.xlabel('Time Steps')\n",
    "plt.ylabel('Feature-shift')\n",
    "plt.grid(True)\n",
    "plt.legend(loc='center right')\n",
    "plt.savefig('feature_shift.pdf', format='pdf')\n",
    "#plt.show()\n",
    "plt.close()"
   ]
  },
  {
   "cell_type": "code",
   "execution_count": 9,
   "id": "61efea89-6b9b-4cab-89bb-1a18d9f720fc",
   "metadata": {
    "tags": []
   },
   "outputs": [],
   "source": [
    "plt.figure(figsize=(12, 6))\n",
    "\n",
    "plt.plot(time_steps, mean_pairwise_distance_all, marker='o', linestyle='-', color='b', label='Average pairwise mean-distances')\n",
    "plt.plot(time_steps, mean_pairwise_distance_neighbors, marker='o', linestyle='-', color='green', label='Average pairwise mean-distances of neighboring classes')\n",
    "plt.plot(time_steps, mean_pairwise_distance_non_neighbors, marker='o', linestyle='-', color='gray', label='Average pairwise mean-distances of non-neighboring classes')\n",
    "plt.plot(time_steps, mean_distance_from_initialization, marker='s', linestyle='-', color='r', label='Average mean distance from initialization')\n",
    "plt.axhline(y=math.sqrt(2), color='black', linestyle='--', label=r'$\\sqrt{2}$')\n",
    "\n",
    "plt.title('Evolution of class means')\n",
    "plt.xlabel('Time Steps')\n",
    "plt.ylabel('Mean distance')\n",
    "plt.grid(True)\n",
    "plt.legend(loc='lower right')\n",
    "plt.savefig('class_means.pdf', format='pdf')\n",
    "#plt.show()\n",
    "plt.close()"
   ]
  },
  {
   "cell_type": "code",
   "execution_count": 10,
   "id": "8a55cd14-87f5-4aa9-805c-e72be71c6952",
   "metadata": {
    "tags": []
   },
   "outputs": [],
   "source": [
    "time_steps = []\n",
    "tvs = []\n",
    "csbm = CSBMCl(n=n, classes=classes)\n",
    "initial_distribution = csbm.p\n",
    "for t in range(15):\n",
    "    time_steps.append(t)\n",
    "    tvs.append(total_variation_distance(initial_distribution, csbm.p))\n",
    "    csbm.evolve()\n",
    "\n",
    "plt.figure(figsize=(12, 6))\n",
    "plt.title('Class label shift over time')\n",
    "plt.plot(time_steps, tvs, marker='o', linestyle='-', color='b')\n",
    "plt.xlabel('Time Steps')\n",
    "plt.ylabel('Class-label shift')\n",
    "plt.grid(True)\n",
    "plt.savefig('class_label_shift.pdf', format='pdf')\n",
    "#plt.show()\n",
    "plt.close()"
   ]
  }
 ],
 "metadata": {
  "kernelspec": {
   "display_name": "Python 3 (ipykernel)",
   "language": "python",
   "name": "python3"
  },
  "language_info": {
   "codemirror_mode": {
    "name": "ipython",
    "version": 3
   },
   "file_extension": ".py",
   "mimetype": "text/x-python",
   "name": "python",
   "nbconvert_exporter": "python",
   "pygments_lexer": "ipython3",
   "version": "3.9.17"
  }
 },
 "nbformat": 4,
 "nbformat_minor": 5
}
