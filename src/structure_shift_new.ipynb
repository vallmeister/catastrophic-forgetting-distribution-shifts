{
 "cells": [
  {
   "cell_type": "markdown",
   "id": "2a4cf76c-c4dc-47b9-a1a3-a83d8470782c",
   "metadata": {},
   "source": [
    "# Structure-shift"
   ]
  },
  {
   "cell_type": "markdown",
   "id": "88e5f5cf-16c6-457c-aa10-634a493dc0e9",
   "metadata": {},
   "source": [
    "We compare the following CSBMs and how their node2vec encoding changes:\n",
    "- Constant CSBM\n",
    "- CSBM-Hom\n",
    "- CSBM-Het\n",
    "- CSBM-Struct"
   ]
  },
  {
   "cell_type": "markdown",
   "id": "e044eea5-4896-4c6d-ba90-b6f0db5a936e",
   "metadata": {},
   "source": [
    "We find the following assumptions useful:\n",
    "- We compare nodes within the same embedding\n",
    "- We compare the embeddings of the t-th chunk of nodes against the 1st chunk\n",
    "- We use the same loader and optimizer for each epoch"
   ]
  },
  {
   "cell_type": "code",
   "execution_count": 1,
   "id": "02707779-e50b-4dc3-b7c8-9855e7174840",
   "metadata": {
    "tags": []
   },
   "outputs": [],
   "source": [
    "import matplotlib.pyplot as plt\n",
    "import numpy as np\n",
    "import sys\n",
    "from csbm import MultiClassCSBM, StructureCSBM\n",
    "from CSBMhet import CSBMhet\n",
    "from metrics import mmd_linear, mmd_max_rbf\n",
    "\n",
    "import torch\n",
    "from torch_geometric.nn import Node2Vec"
   ]
  },
  {
   "cell_type": "code",
   "execution_count": 2,
   "id": "c95f9dc7-1253-496d-b9e7-f755810ebcfd",
   "metadata": {
    "tags": []
   },
   "outputs": [
    {
     "name": "stdout",
     "output_type": "stream",
     "text": [
      "cuda\n"
     ]
    }
   ],
   "source": [
    "n = 800\n",
    "training_time = 50\n",
    "T = 10\n",
    "\n",
    "device = 'cuda' if torch.cuda.is_available() else 'cpu'\n",
    "print(device)"
   ]
  },
  {
   "cell_type": "code",
   "execution_count": 3,
   "id": "87ddc712-074b-411f-b2fa-ab5244103e68",
   "metadata": {
    "tags": []
   },
   "outputs": [],
   "source": [
    "csbm_zero = MultiClassCSBM(n =10*n)\n",
    "csbm_constant = MultiClassCSBM(n=n)\n",
    "csbm_het = CSBMhet(n=n)\n",
    "csbm_struct = StructureCSBM(n=n)\n",
    "csbms = [csbm_constant, csbm_het, csbm_struct]\n",
    "names = {csbm_zero: 'CSBM-Zero',\n",
    "         csbm_constant: 'CSBM-Const',\n",
    "         csbm_het: 'CSBM-Het',\n",
    "         csbm_struct: 'CSBM-Struct'}"
   ]
  },
  {
   "cell_type": "code",
   "execution_count": 4,
   "id": "67805636-606a-4b88-b29c-49cfa0ad650a",
   "metadata": {
    "tags": []
   },
   "outputs": [
    {
     "name": "stdout",
     "output_type": "stream",
     "text": [
      "CSBM-Const  |t=02|          1457 edges\n",
      "CSBM-Het    |t=02|          3634 edges\n",
      "CSBM-Struct |t=02|         18028 edges\n",
      "CSBM-Const  |t=03|          2187 edges\n",
      "CSBM-Het    |t=03|          9630 edges\n",
      "CSBM-Struct |t=03|         31334 edges\n",
      "CSBM-Const  |t=04|          2854 edges\n",
      "CSBM-Het    |t=04|         19844 edges\n",
      "CSBM-Struct |t=04|         46488 edges\n",
      "CSBM-Const  |t=05|          3629 edges\n",
      "CSBM-Het    |t=05|         35626 edges\n",
      "CSBM-Struct |t=05|         63153 edges\n",
      "CSBM-Const  |t=06|          4362 edges\n",
      "CSBM-Het    |t=06|         58399 edges\n",
      "CSBM-Struct |t=06|         80814 edges\n",
      "CSBM-Const  |t=07|          5115 edges\n",
      "CSBM-Het    |t=07|         89314 edges\n",
      "CSBM-Struct |t=07|         99465 edges\n",
      "CSBM-Const  |t=08|          5826 edges\n",
      "CSBM-Het    |t=08|        129217 edges\n",
      "CSBM-Struct |t=08|        119040 edges\n",
      "CSBM-Const  |t=09|          6559 edges\n",
      "CSBM-Het    |t=09|        179624 edges\n",
      "CSBM-Struct |t=09|        139351 edges\n",
      "CSBM-Const  |t=10|          7347 edges\n",
      "CSBM-Het    |t=10|        241993 edges\n",
      "CSBM-Struct |t=10|        160291 edges\n"
     ]
    }
   ],
   "source": [
    "time_steps = list(range(T))\n",
    "for t in range(2, T + 1):\n",
    "    for csbm in csbms:\n",
    "        csbm.evolve()\n",
    "        print(f'{names[csbm]}'.ljust(12) + f'|t={t:02d}|'.ljust(5) + f'{len(csbm.data.edge_index[0])} edges'.rjust(20))"
   ]
  },
  {
   "cell_type": "code",
   "execution_count": 5,
   "id": "62401467-cc7d-4832-a5f7-a2f78be7f820",
   "metadata": {
    "tags": []
   },
   "outputs": [],
   "source": [
    "def get_node_embeddings(csbm):\n",
    "    data = csbm.data\n",
    "    model = Node2Vec(\n",
    "    data.edge_index,\n",
    "    embedding_dim=128,\n",
    "    walk_length=100,\n",
    "    context_size=50,\n",
    "    walks_per_node=10,\n",
    "    num_negative_samples=1,\n",
    "    p=1.0,\n",
    "    q=1.0).to(device)\n",
    "    \n",
    "    num_workers = 4 if sys.platform == 'linux' else 0\n",
    "    loader = model.loader(batch_size=64, shuffle=True, num_workers=num_workers)\n",
    "    optimizer = torch.optim.Adam(list(model.parameters()), lr=0.01)\n",
    "\n",
    "    N = len(csbm.X)\n",
    "    train_mask = torch.zeros(n, dtype=torch.bool)\n",
    "    train_mask[:int(0.8 * n)] = 1\n",
    "    train_mask = train_mask.repeat(N // n)\n",
    "    test_mask = torch.zeros(n, dtype=torch.bool)\n",
    "    test_mask[-int(0.1 * n):] = 1\n",
    "    test_mask = test_mask.repeat(N // n)\n",
    "    \n",
    "    def train():\n",
    "        model.train()\n",
    "        total_loss = 0\n",
    "        for pos_rw, neg_rw in loader:\n",
    "            optimizer.zero_grad()\n",
    "            loss = model.loss(pos_rw.to(device), neg_rw.to(device))\n",
    "            loss.backward()\n",
    "            optimizer.step()\n",
    "            total_loss += loss.item()\n",
    "        return total_loss / len(loader)\n",
    "    \n",
    "    @torch.no_grad()\n",
    "    def test():\n",
    "        model.eval()\n",
    "        z = model()\n",
    "        acc = model.test(\n",
    "            train_z=z[train_mask],\n",
    "            train_y=data.y[train_mask],\n",
    "            test_z=z[test_mask],\n",
    "            test_y=data.y[test_mask],\n",
    "            max_iter=150,\n",
    "        )\n",
    "        return acc\n",
    "    max_loss = 0\n",
    "    max_acc = 0\n",
    "    for epoch in range(training_time):\n",
    "        loss = train()\n",
    "        max_loss = max(max_loss, loss)\n",
    "        acc = test()\n",
    "        max_acc = max(acc, max_acc)\n",
    "    print(f'Loss: {max_loss:.3f}, Acc: {max_acc:.4f}')\n",
    "    return model.embedding.weight.cpu().detach().numpy()"
   ]
  },
  {
   "cell_type": "code",
   "execution_count": null,
   "id": "1b735061-cba2-41d3-8d46-4f18d482ee26",
   "metadata": {},
   "outputs": [],
   "source": [
    "embeddings = []\n",
    "for csbm in csbms:\n",
    "    embeddings.append(get_node_embeddings(csbm))\n",
    "emb_const, emb_het, emb_struct = embeddings\n",
    "emb_zero = get_node_embeddings(csbm_zero)"
   ]
  },
  {
   "cell_type": "code",
   "execution_count": null,
   "id": "c51f3cc6-c3a0-4f36-9f46-4cd18835f4ac",
   "metadata": {
    "tags": []
   },
   "outputs": [],
   "source": [
    "def get_linear_mmd(embedding):\n",
    "    differences = []\n",
    "    for t in range(T):\n",
    "        start = t * n\n",
    "        end = start + n\n",
    "        differences.append(mmd_linear(embedding[:n], embedding[start:end]))\n",
    "    return differences"
   ]
  },
  {
   "cell_type": "code",
   "execution_count": null,
   "id": "2c97c7df-ffae-447d-a3be-107c31b9b058",
   "metadata": {
    "tags": []
   },
   "outputs": [],
   "source": [
    "def get_rbf_mmd(embedding):\n",
    "    differences = []\n",
    "    for t in range(T):\n",
    "        start = t * n\n",
    "        end = start + n\n",
    "        differences.append(mmd_max_rbf(embedding[:n], embedding[start:end]))\n",
    "    return differences"
   ]
  },
  {
   "cell_type": "code",
   "execution_count": null,
   "id": "8d474229-ad27-474f-b37d-de63d763e205",
   "metadata": {},
   "outputs": [],
   "source": [
    "mmds_linear_const = get_linear_mmd(emb_const)\n",
    "mmds_linear_het = get_linear_mmd(emb_het)\n",
    "mmds_linear_struct = get_linear_mmd(emb_struct)\n",
    "mmds_linear_zero = get_linear_mmd(emb_zero)\n",
    "\n",
    "mmds_rbf_const = get_rbf_mmd(emb_const)\n",
    "mmds_rbf_het = get_rbf_mmd(emb_het)\n",
    "mmds_rbf_struct = get_rbf_mmd(emb_struct)\n",
    "mmds_rbf_zero = get_rbf_mmd(emb_zero)"
   ]
  },
  {
   "cell_type": "code",
   "execution_count": null,
   "id": "30c4a4ed-82a8-4ee5-8099-5c1d9dcf6f4d",
   "metadata": {},
   "outputs": [],
   "source": [
    "# plot\n",
    "plt.figure(figsize=(12, 6))\n",
    "\n",
    "plt.plot(time_steps, mmds_linear_const, marker='o', linestyle='-', color='black', label='CSBM-Const')\n",
    "plt.plot(time_steps, mmds_linear_zero, marker='o', linestyle='-', color='gray', label='CSBM-Zero')\n",
    "plt.plot(time_steps, mmds_linear_het, marker='o', linestyle='-', color='orange', label='CSBM-Het')\n",
    "plt.plot(time_steps, mmds_linear_struct, marker='o', linestyle='-', color='blue', label='CSBM-Struct')\n",
    "\n",
    "plt.title(r'Graph structure-shift for different CSBMs')\n",
    "plt.xlabel('Time Steps')\n",
    "plt.ylabel(r'$MMD^{2}$ with linear kernel')\n",
    "plt.grid(True)\n",
    "plt.legend(loc='lower right')\n",
    "plt.savefig('structure_shift_linear.pdf', format='pdf')\n",
    "plt.show()\n",
    "plt.close()"
   ]
  },
  {
   "cell_type": "code",
   "execution_count": null,
   "id": "554774f3-39dc-427e-9745-5a2ad391c3e7",
   "metadata": {},
   "outputs": [],
   "source": [
    "# plot\n",
    "plt.figure(figsize=(12, 6))\n",
    "\n",
    "plt.plot(time_steps, mmds_rbf_const, marker='o', linestyle='-', color='black', label='CSBM-Const')\n",
    "plt.plot(time_steps, mmds_rbf_zero, marker='o', linestyle='-', color='gray', label='CSBM-Zero')\n",
    "plt.plot(time_steps, mmds_rbf_het, marker='o', linestyle='-', color='orange', label='CSBM-Het')\n",
    "plt.plot(time_steps, mmds_rbf_struct, marker='o', linestyle='-', color='blue', label='CSBM-Struct')\n",
    "\n",
    "plt.title(r'Graph structure-shift for different CSBMs')\n",
    "plt.xlabel('Time Steps')\n",
    "plt.ylabel(r'$MMD^{2}$ with RBF-kernel')\n",
    "plt.grid(True)\n",
    "plt.legend(loc='lower right')\n",
    "plt.savefig('structure_shift_rbf.pdf', format='pdf')\n",
    "plt.show()\n",
    "plt.close()"
   ]
  },
  {
   "cell_type": "code",
   "execution_count": null,
   "id": "78e6aada-ee15-49df-a083-f126c9738d0f",
   "metadata": {
    "tags": []
   },
   "outputs": [],
   "source": [
    "csbms.append(csbm_zero)\n",
    "for csbm in csbms:\n",
    "    print('-' * 10 + names[csbm] + '-' * 10)\n",
    "    print(f'|V|= {csbm.data.num_nodes}, |E|= {csbm.data.num_edges}, |E|/|V| = {(csbm.data.num_edges / csbm.data.num_nodes):.1f}')\n",
    "    print(f'Possible edges: {(100 * csbm.data.num_edges / csbm.data.num_nodes ** 2):.2f}%\\n')"
   ]
  }
 ],
 "metadata": {
  "kernelspec": {
   "display_name": "Python 3 (ipykernel)",
   "language": "python",
   "name": "python3"
  },
  "language_info": {
   "codemirror_mode": {
    "name": "ipython",
    "version": 3
   },
   "file_extension": ".py",
   "mimetype": "text/x-python",
   "name": "python",
   "nbconvert_exporter": "python",
   "pygments_lexer": "ipython3",
   "version": "3.9.18"
  }
 },
 "nbformat": 4,
 "nbformat_minor": 5
}
