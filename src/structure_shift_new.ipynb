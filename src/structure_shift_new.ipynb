{
 "cells": [
  {
   "cell_type": "markdown",
   "id": "2a4cf76c-c4dc-47b9-a1a3-a83d8470782c",
   "metadata": {},
   "source": [
    "# Structure-shift"
   ]
  },
  {
   "cell_type": "markdown",
   "id": "88e5f5cf-16c6-457c-aa10-634a493dc0e9",
   "metadata": {},
   "source": [
    "We compare the following CSBMs and how their node2vec encoding changes:\n",
    "- Constant CSBM\n",
    "- CSBM-Hom\n",
    "- CSBM-Het\n",
    "- CSBM-Struct"
   ]
  },
  {
   "cell_type": "markdown",
   "id": "e044eea5-4896-4c6d-ba90-b6f0db5a936e",
   "metadata": {},
   "source": [
    "We find the following assumptions useful:\n",
    "- We compare nodes within the same embedding\n",
    "- We compare the embeddings of the t-th chunk of nodes against the 1st chunk\n",
    "- We use the same loader and optimizer for each epoch"
   ]
  },
  {
   "cell_type": "code",
   "execution_count": 1,
   "id": "02707779-e50b-4dc3-b7c8-9855e7174840",
   "metadata": {
    "tags": []
   },
   "outputs": [],
   "source": [
    "import matplotlib.pyplot as plt\n",
    "import numpy as np\n",
    "import sys\n",
    "from csbms import MultiClassCSBM, StructureCSBM\n",
    "from CSBMhet import CSBMhet\n",
    "from CSBMhom import CSBMhom\n",
    "from metrics import mmd_linear, mmd_max_rbf\n",
    "\n",
    "import torch\n",
    "from torch_geometric.nn import Node2Vec"
   ]
  },
  {
   "cell_type": "code",
   "execution_count": 2,
   "id": "c95f9dc7-1253-496d-b9e7-f755810ebcfd",
   "metadata": {
    "tags": []
   },
   "outputs": [
    {
     "name": "stdout",
     "output_type": "stream",
     "text": [
      "cuda\n"
     ]
    }
   ],
   "source": [
    "n = 500\n",
    "training_time = 20\n",
    "T = 10\n",
    "\n",
    "device = 'cuda' if torch.cuda.is_available() else 'cpu'\n",
    "print(device)"
   ]
  },
  {
   "cell_type": "code",
   "execution_count": 3,
   "id": "87ddc712-074b-411f-b2fa-ab5244103e68",
   "metadata": {
    "tags": []
   },
   "outputs": [],
   "source": [
    "csbm_zero = MultiClassCSBM(n =10*n)\n",
    "csbm_constant = MultiClassCSBM(n=n)\n",
    "csbm_hom = CSBMhom(n=n)\n",
    "csbm_het = CSBMhet(n=n)\n",
    "csbm_struct = StructureCSBM(n=n)\n",
    "csbms = [csbm_constant, csbm_hom, csbm_het, csbm_struct]"
   ]
  },
  {
   "cell_type": "code",
   "execution_count": 4,
   "id": "67805636-606a-4b88-b29c-49cfa0ad650a",
   "metadata": {
    "tags": []
   },
   "outputs": [],
   "source": [
    "time_steps = list(range(T))\n",
    "for _ in range(T - 1):\n",
    "    for csbm in csbms:\n",
    "        csbm.evolve()"
   ]
  },
  {
   "cell_type": "code",
   "execution_count": 5,
   "id": "62401467-cc7d-4832-a5f7-a2f78be7f820",
   "metadata": {
    "tags": []
   },
   "outputs": [],
   "source": [
    "def get_node_embeddings(csbm):\n",
    "    data = csbm.data\n",
    "    model = Node2Vec(\n",
    "    data.edge_index,\n",
    "    embedding_dim=32,\n",
    "    walk_length=20,\n",
    "    context_size=10,\n",
    "    walks_per_node=10,\n",
    "    num_negative_samples=1,\n",
    "    p=1.0,\n",
    "    q=1.0).to(device)\n",
    "    \n",
    "    num_workers = 4 if sys.platform == 'linux' else 0\n",
    "    loader = model.loader(batch_size=4, shuffle=True, num_workers=num_workers)\n",
    "    optimizer = torch.optim.Adam(list(model.parameters()), lr=0.01)\n",
    "    \n",
    "    def train():\n",
    "        model.train()\n",
    "        total_loss = 0\n",
    "        for pos_rw, neg_rw in loader:\n",
    "            optimizer.zero_grad()\n",
    "            loss = model.loss(pos_rw.to(device), neg_rw.to(device))\n",
    "            loss.backward()\n",
    "            optimizer.step()\n",
    "            total_loss += loss.item()\n",
    "        return total_loss / len(loader)\n",
    "    \n",
    "    @torch.no_grad()\n",
    "    def test():\n",
    "        model.eval()\n",
    "        z = model()\n",
    "        acc = model.test(\n",
    "            train_z=z[data.train_mask],\n",
    "            train_y=data.y[data.train_mask],\n",
    "            test_z=z[data.test_mask],\n",
    "            test_y=data.y[data.test_mask],\n",
    "            max_iter=150,\n",
    "        )\n",
    "        return acc\n",
    "    max_loss = 0\n",
    "    max_acc = 0\n",
    "    for epoch in range(training_time):\n",
    "        loss = train()\n",
    "        max_loss = max(max_loss, loss)\n",
    "        acc = test()\n",
    "        max_acc = max(acc, max_acc)\n",
    "    print(f'Loss: {max_loss:.4f}, Acc: {max_acc:.4f}')\n",
    "    return model.embedding.weight.cpu().detach().numpy()"
   ]
  },
  {
   "cell_type": "code",
   "execution_count": null,
   "id": "1b735061-cba2-41d3-8d46-4f18d482ee26",
   "metadata": {},
   "outputs": [
    {
     "name": "stdout",
     "output_type": "stream",
     "text": [
      "Loss: 1.2440, Acc: 1.0000\n"
     ]
    }
   ],
   "source": [
    "embeddings = []\n",
    "for csbm in csbms:\n",
    "    embeddings.append(get_node_embeddings(csbm))\n",
    "emb_const, emb_hom, emb_het, emb_struct = embeddings\n",
    "emb_zero = get_node_embeddings(csbm_zero)"
   ]
  },
  {
   "cell_type": "code",
   "execution_count": null,
   "id": "c51f3cc6-c3a0-4f36-9f46-4cd18835f4ac",
   "metadata": {
    "tags": []
   },
   "outputs": [],
   "source": [
    "def get_linear_mmd(embedding):\n",
    "    differences = []\n",
    "    for t in range(T):\n",
    "        start = t * n\n",
    "        end = start + n\n",
    "        differences.append(mmd_linear(embedding[:n], embedding[start:end]))\n",
    "    return differences"
   ]
  },
  {
   "cell_type": "code",
   "execution_count": null,
   "id": "2c97c7df-ffae-447d-a3be-107c31b9b058",
   "metadata": {
    "tags": []
   },
   "outputs": [],
   "source": [
    "def get_rbf_mmd(embedding):\n",
    "    differences = []\n",
    "    for t in range(T):\n",
    "        start = t * n\n",
    "        end = start + n\n",
    "        differences.append(mmd_max_rbf(embedding[:n], embedding[start:end]))\n",
    "    return differences"
   ]
  },
  {
   "cell_type": "code",
   "execution_count": null,
   "id": "8d474229-ad27-474f-b37d-de63d763e205",
   "metadata": {},
   "outputs": [],
   "source": [
    "mmds_linear_const = get_linear_mmd(emb_const)\n",
    "mmds_linear_hom = get_linear_mmd(emb_hom)\n",
    "mmds_linear_het = get_linear_mmd(emb_het)\n",
    "mmds_linear_struct = get_linear_mmd(emb_struct)\n",
    "mmds_linear_zero = get_linear_mmd(emb_zero)\n",
    "\n",
    "mmds_rbf_const = get_rbf_mmd(emb_const)\n",
    "mmds_rbf_hom = get_rbf_mmd(emb_hom)\n",
    "mmds_rbf_het = get_rbf_mmd(emb_het)\n",
    "mmds_rbf_struct = get_rbf_mmd(emb_struct)\n",
    "mmds_rbf_zero = get_rbf_mmd(emb_zero)"
   ]
  },
  {
   "cell_type": "code",
   "execution_count": null,
   "id": "30c4a4ed-82a8-4ee5-8099-5c1d9dcf6f4d",
   "metadata": {},
   "outputs": [],
   "source": [
    "# plot\n",
    "plt.figure(figsize=(12, 6))\n",
    "\n",
    "plt.plot(time_steps, mmds_linear_const, marker='o', linestyle='-', color='black', label='CSBM-Const')\n",
    "plt.plot(time_steps, mmds_linear_zero, marker='o', linestyle='-', color='gray', label='CSBM-Zero')\n",
    "plt.plot(time_steps, mmds_linear_hom, marker='o', linestyle='-', color='r', label='CSBM-Hom')\n",
    "plt.plot(time_steps, mmds_linear_het, marker='o', linestyle='-', color='orange', label='CSBM-Het')\n",
    "plt.plot(time_steps, mmds_linear_struct, marker='o', linestyle='-', color='blue', label='CSBM-Struct')\n",
    "\n",
    "plt.title(r'Graph structure-shift for different CSBMs')\n",
    "plt.xlabel('Time Steps')\n",
    "plt.ylabel(r'$MMD^{2}$ with linear kernel')\n",
    "plt.grid(True)\n",
    "plt.legend(loc='lower right')\n",
    "plt.savefig('structure_shift_linear.pdf', format='pdf')\n",
    "plt.show()\n",
    "plt.close()"
   ]
  },
  {
   "cell_type": "code",
   "execution_count": null,
   "id": "554774f3-39dc-427e-9745-5a2ad391c3e7",
   "metadata": {},
   "outputs": [],
   "source": [
    "# plot\n",
    "plt.figure(figsize=(12, 6))\n",
    "\n",
    "plt.plot(time_steps, mmds_rbf_const, marker='o', linestyle='-', color='black', label='CSBM-Const')\n",
    "plt.plot(time_steps, mmds_rbf_zero, marker='o', linestyle='-', color='gray', label='CSBM-Zero')\n",
    "plt.plot(time_steps, mmds_rbf_hom, marker='o', linestyle='-', color='r', label='CSBM-Hom')\n",
    "plt.plot(time_steps, mmds_rbf_het, marker='o', linestyle='-', color='orange', label='CSBM-Het')\n",
    "plt.plot(time_steps, mmds_rbf_struct, marker='o', linestyle='-', color='blue', label='CSBM-Struct')\n",
    "\n",
    "plt.title(r'Graph structure-shift for different CSBMs')\n",
    "plt.xlabel('Time Steps')\n",
    "plt.ylabel(r'$MMD^{2}$ with RBF-kernel')\n",
    "plt.grid(True)\n",
    "plt.legend(loc='lower right')\n",
    "plt.savefig('structure_shift_rbf.pdf', format='pdf')\n",
    "plt.show()\n",
    "plt.close()"
   ]
  },
  {
   "cell_type": "code",
   "execution_count": null,
   "id": "574c250e-5d5b-41a3-b7ef-74fdb52f2cd1",
   "metadata": {
    "tags": []
   },
   "outputs": [],
   "source": [
    "fig, axes = plt.subplots(nrows=1, ncols=4, figsize=(20, 6))\n",
    "fig.suptitle(r'Graph structure-shift for different CSBMs')\n",
    "\n",
    "coefficiencts = np.polyfit(time_steps, mmds_linear_const, 1)\n",
    "poly = np.poly1d(coefficiencts)\n",
    "y_fit = poly(time_steps)\n",
    "axes[0].plot(time_steps, mmds_linear_const, marker='o', linestyle='-', color='black', label='CSBM-Const')\n",
    "axes[0].plot(time_steps, y_fit, marker='o', linestyle='-', color='gray')\n",
    "\n",
    "coefficiencts = np.polyfit(time_steps, mmds_linear_hom, 1)\n",
    "poly = np.poly1d(coefficiencts)\n",
    "y_fit = poly(time_steps)\n",
    "axes[1].plot(time_steps, mmds_linear_hom, marker='o', linestyle='-', color='red', label='CSBM-Hom')\n",
    "axes[1].plot(time_steps, y_fit, marker='o', linestyle='-', color='gray')\n",
    "\n",
    "coefficiencts = np.polyfit(time_steps, mmds_linear_het, 1)\n",
    "poly = np.poly1d(coefficiencts)\n",
    "y_fit = poly(time_steps)\n",
    "axes[2].plot(time_steps, mmds_linear_het, marker='o', linestyle='-', color='orange', label='CSBM-Het')\n",
    "axes[2].plot(time_steps, y_fit, marker='o', linestyle='-', color='gray')\n",
    "\n",
    "coefficiencts = np.polyfit(time_steps, mmds_linear_struct, 1)\n",
    "poly = np.poly1d(coefficiencts)\n",
    "y_fit = poly(time_steps)\n",
    "axes[3].plot(time_steps, mmds_linear_struct, marker='o', linestyle='-', color='b', label='CSBM-Struct')\n",
    "axes[3].plot(time_steps, y_fit, marker='o', linestyle='-', color='gray')\n",
    "\n",
    "for ax in axes:\n",
    "    ax.set_xlabel('Time steps')\n",
    "    ax.set_ylabel('MMD with linear kernel')\n",
    "    ax.legend(loc='upper left')\n",
    "    ax.grid(True)\n",
    "plt.savefig('structure_shift_separate_linear.pdf', format='pdf')\n",
    "plt.show()\n",
    "plt.close()"
   ]
  },
  {
   "cell_type": "code",
   "execution_count": null,
   "id": "78e6aada-ee15-49df-a083-f126c9738d0f",
   "metadata": {
    "tags": []
   },
   "outputs": [],
   "source": [
    "for csbm in csbms:\n",
    "    print(f'|V|= {csbm.data.num_nodes}, |E|= {csbm.data.num_edges}, |E|/|V| = {(csbm.data.num_edges / csbm.data.num_nodes):.1f}')\n",
    "    print(f'Possible edges: {(100 * csbm.data.num_edges / csbm.data.num_nodes ** 2):.2f}%')"
   ]
  },
  {
   "cell_type": "code",
   "execution_count": null,
   "id": "a9f099c7-3c93-4ff1-8542-5bb1bb994ca9",
   "metadata": {
    "jp-MarkdownHeadingCollapsed": true
   },
   "outputs": [],
   "source": [
    "train = 0.8\n",
    "validation = 0.1\n",
    "test = 0.1\n",
    "n = 10\n",
    "cycles = 2\n",
    "test_mask = torch.zeros(n, dtype=torch.int)\n",
    "test_mask[-int(test * n):]  = 1\n",
    "test_mask = test_mask.repeat(cycles)\n",
    "print(test_mask)"
   ]
  }
 ],
 "metadata": {
  "kernelspec": {
   "display_name": "Python 3 (ipykernel)",
   "language": "python",
   "name": "python3"
  },
  "language_info": {
   "codemirror_mode": {
    "name": "ipython",
    "version": 3
   },
   "file_extension": ".py",
   "mimetype": "text/x-python",
   "name": "python",
   "nbconvert_exporter": "python",
   "pygments_lexer": "ipython3",
   "version": "3.9.18"
  }
 },
 "nbformat": 4,
 "nbformat_minor": 5
}
