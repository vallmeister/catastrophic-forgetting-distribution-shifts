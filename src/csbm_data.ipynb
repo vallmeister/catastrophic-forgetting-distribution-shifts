{
 "cells": [
  {
   "cell_type": "markdown",
   "id": "e5f7226c-cdfc-419b-8715-7873af2e806e",
   "metadata": {},
   "source": [
    "# Creating, saving and loading datasets with CSBMs"
   ]
  },
  {
   "cell_type": "code",
   "execution_count": 1,
   "id": "a703347a-575c-4248-9fcb-0e1f8090e37c",
   "metadata": {},
   "outputs": [],
   "source": [
    "import os\n",
    "import torch\n",
    "\n",
    "from csbm import MultiClassCSBM, FeatureCSBM, StructureCSBM, ClassCSBM, HomophilyCSBM"
   ]
  },
  {
   "cell_type": "code",
   "execution_count": 2,
   "id": "ff98809e-4eeb-4987-b2e1-c4346e5e635b",
   "metadata": {},
   "outputs": [],
   "source": [
    "n = 5000\n",
    "\n",
    "os.makedirs('./data/csbm/', exist_ok=True)"
   ]
  },
  {
   "cell_type": "code",
   "execution_count": 3,
   "id": "f39af54f-f76a-4626-a2f5-09aac641bc93",
   "metadata": {},
   "outputs": [],
   "source": [
    "for i in range(10):\n",
    "    base_csbm = MultiClassCSBM(n=n)\n",
    "    base_data = [base_csbm.get_data()]\n",
    "    \n",
    "    zero_csbm = MultiClassCSBM(n=10*n)\n",
    "    zero_data = [zero_csbm.get_data()]\n",
    "    \n",
    "    feat_csbm = FeatureCSBM(n=n)\n",
    "    feat_data = [feat_csbm.get_data()]\n",
    "    \n",
    "    struct_csbm = StructureCSBM(n=n)\n",
    "    struct_data = [struct_csbm.get_data()]\n",
    "    \n",
    "    hom_csbm = HomophilyCSBM(n=n)\n",
    "    hom_data = [hom_csbm.get_data()]\n",
    "    \n",
    "    class_csbm = ClassCSBM(n=n)\n",
    "    class_data = [class_csbm.get_data()]\n",
    "\n",
    "    for _ in range(9):\n",
    "        base_csbm.evolve()\n",
    "        base_data.append(base_csbm.get_data())\n",
    "\n",
    "        feat_csbm.evolve()\n",
    "        feat_data.append(feat_csbm.get_data())\n",
    "\n",
    "        struct_csbm.evolve()\n",
    "        struct_data.append(struct_csbm.get_data())\n",
    "\n",
    "        hom_csbm.evolve()\n",
    "        hom_data.append(hom_csbm.get_data())\n",
    "\n",
    "        class_csbm.evolve()\n",
    "        class_data.append(class_csbm.get_data())\n",
    "        \n",
    "    \n",
    "    torch.save(base_data, f'./data/csbm/base_{i}.pt')\n",
    "    torch.save(zero_data, f'./data/csbm/zero_{i}.pt')\n",
    "    torch.save(feat_data, f'./data/csbm/feat_{i}.pt')\n",
    "    torch.save(struct_data, f'./data/csbm/struct_{i}.pt')\n",
    "    torch.save(hom_data, f'./data/csbm/hom_{i}.pt')\n",
    "    torch.save(class_data, f'./data/csbm/class_{i}.pt')"
   ]
  }
 ],
 "metadata": {
  "kernelspec": {
   "display_name": "Python 3 (ipykernel)",
   "language": "python",
   "name": "python3"
  },
  "language_info": {
   "codemirror_mode": {
    "name": "ipython",
    "version": 3
   },
   "file_extension": ".py",
   "mimetype": "text/x-python",
   "name": "python",
   "nbconvert_exporter": "python",
   "pygments_lexer": "ipython3",
   "version": "3.9.18"
  }
 },
 "nbformat": 4,
 "nbformat_minor": 5
}
