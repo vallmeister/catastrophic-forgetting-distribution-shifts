{
 "cells": [
  {
   "cell_type": "markdown",
   "id": "e5f7226c-cdfc-419b-8715-7873af2e806e",
   "metadata": {},
   "source": [
    "# Creating, saving and loading datasets with CSBMs"
   ]
  },
  {
   "cell_type": "code",
   "execution_count": 1,
   "id": "a703347a-575c-4248-9fcb-0e1f8090e37c",
   "metadata": {},
   "outputs": [],
   "source": [
    "import os\n",
    "import torch\n",
    "\n",
    "from csbm import MultiClassCSBM, FeatureCSBM, StructureCSBM, ClassCSBM, HomophilyCSBM"
   ]
  },
  {
   "cell_type": "code",
   "execution_count": 2,
   "id": "ff98809e-4eeb-4987-b2e1-c4346e5e635b",
   "metadata": {},
   "outputs": [],
   "source": [
    "n = 5000\n",
    "\n",
    "os.makedirs('./data/csbm/', exist_ok=True)"
   ]
  },
  {
   "cell_type": "code",
   "execution_count": 3,
   "id": "f39af54f-f76a-4626-a2f5-09aac641bc93",
   "metadata": {},
   "outputs": [
    {
     "name": "stdout",
     "output_type": "stream",
     "text": [
      "Class labels drawn after 0:00:00.000997\n",
      "Node features generated after 0:00:06.225738\n",
      "start: 0\tend: 5000\n",
      "Edges of 0th node generated\n",
      "Edges of 2500th node generated\n"
     ]
    },
    {
     "ename": "KeyboardInterrupt",
     "evalue": "",
     "output_type": "error",
     "traceback": [
      "\u001b[1;31m---------------------------------------------------------------------------\u001b[0m",
      "\u001b[1;31mKeyboardInterrupt\u001b[0m                         Traceback (most recent call last)",
      "Cell \u001b[1;32mIn[3], line 2\u001b[0m\n\u001b[0;32m      1\u001b[0m \u001b[38;5;28;01mfor\u001b[39;00m i \u001b[38;5;129;01min\u001b[39;00m \u001b[38;5;28mrange\u001b[39m(\u001b[38;5;241m10\u001b[39m):\n\u001b[1;32m----> 2\u001b[0m     base_csbm \u001b[38;5;241m=\u001b[39m \u001b[43mMultiClassCSBM\u001b[49m\u001b[43m(\u001b[49m\u001b[43mn\u001b[49m\u001b[38;5;241;43m=\u001b[39;49m\u001b[43mn\u001b[49m\u001b[43m)\u001b[49m\n\u001b[0;32m      3\u001b[0m     base_data \u001b[38;5;241m=\u001b[39m [base_csbm\u001b[38;5;241m.\u001b[39mget_data()]\n\u001b[0;32m      5\u001b[0m     zero_csbm \u001b[38;5;241m=\u001b[39m MultiClassCSBM(n\u001b[38;5;241m=\u001b[39m\u001b[38;5;241m10\u001b[39m\u001b[38;5;241m*\u001b[39mn)\n",
      "File \u001b[1;32mD:\\Users\\Productivity\\develop\\catastrophic-forgetting-distribution-shifts\\src\\csbm.py:33\u001b[0m, in \u001b[0;36mMultiClassCSBM.__init__\u001b[1;34m(self, n, class_distribution, means, q_hom, q_het, sigma_square, classes, dimensions)\u001b[0m\n\u001b[0;32m     31\u001b[0m \u001b[38;5;28mself\u001b[39m\u001b[38;5;241m.\u001b[39mdraw_node_features()\n\u001b[0;32m     32\u001b[0m prev \u001b[38;5;241m=\u001b[39m datetime\u001b[38;5;241m.\u001b[39mdatetime\u001b[38;5;241m.\u001b[39mnow()\n\u001b[1;32m---> 33\u001b[0m \u001b[38;5;28;43mself\u001b[39;49m\u001b[38;5;241;43m.\u001b[39;49m\u001b[43mgenerate_edges\u001b[49m\u001b[43m(\u001b[49m\u001b[43m)\u001b[49m\n\u001b[0;32m     34\u001b[0m \u001b[38;5;28mprint\u001b[39m(\u001b[38;5;124m'\u001b[39m\u001b[38;5;124medges generated\u001b[39m\u001b[38;5;124m'\u001b[39m, datetime\u001b[38;5;241m.\u001b[39mdatetime\u001b[38;5;241m.\u001b[39mnow() \u001b[38;5;241m-\u001b[39m prev)\n",
      "File \u001b[1;32mD:\\Users\\Productivity\\develop\\catastrophic-forgetting-distribution-shifts\\src\\csbm.py:82\u001b[0m, in \u001b[0;36mMultiClassCSBM.generate_edges\u001b[1;34m(self)\u001b[0m\n\u001b[0;32m     80\u001b[0m     \u001b[38;5;28;01mif\u001b[39;00m i \u001b[38;5;241m==\u001b[39m j:\n\u001b[0;32m     81\u001b[0m         \u001b[38;5;28;01mcontinue\u001b[39;00m\n\u001b[1;32m---> 82\u001b[0m     \u001b[38;5;28;43mself\u001b[39;49m\u001b[38;5;241;43m.\u001b[39;49m\u001b[43mset_edge\u001b[49m\u001b[43m(\u001b[49m\u001b[43mi\u001b[49m\u001b[43m,\u001b[49m\u001b[43m \u001b[49m\u001b[43mj\u001b[49m\u001b[43m,\u001b[49m\u001b[43m \u001b[49m\u001b[43mq_hom\u001b[49m\u001b[43m,\u001b[49m\u001b[43m \u001b[49m\u001b[43mq_het\u001b[49m\u001b[43m)\u001b[49m\n\u001b[0;32m     83\u001b[0m \u001b[38;5;28;01mif\u001b[39;00m i \u001b[38;5;241m%\u001b[39m \u001b[38;5;241m2500\u001b[39m \u001b[38;5;241m==\u001b[39m \u001b[38;5;241m0\u001b[39m:\n\u001b[0;32m     84\u001b[0m     \u001b[38;5;28mprint\u001b[39m(\u001b[38;5;124mf\u001b[39m\u001b[38;5;124m'\u001b[39m\u001b[38;5;124mEdges of \u001b[39m\u001b[38;5;132;01m{\u001b[39;00mi\u001b[38;5;132;01m}\u001b[39;00m\u001b[38;5;124mth node generated\u001b[39m\u001b[38;5;124m'\u001b[39m)\n",
      "File \u001b[1;32mD:\\Users\\Productivity\\develop\\catastrophic-forgetting-distribution-shifts\\src\\csbm.py:88\u001b[0m, in \u001b[0;36mMultiClassCSBM.set_edge\u001b[1;34m(self, u, v, p, q)\u001b[0m\n\u001b[0;32m     87\u001b[0m \u001b[38;5;28;01mdef\u001b[39;00m \u001b[38;5;21mset_edge\u001b[39m(\u001b[38;5;28mself\u001b[39m, u, v, p, q):\n\u001b[1;32m---> 88\u001b[0m     \u001b[38;5;28;01mif\u001b[39;00m \u001b[38;5;28;43mself\u001b[39;49m\u001b[38;5;241;43m.\u001b[39;49m\u001b[43my\u001b[49m\u001b[43m[\u001b[49m\u001b[43mu\u001b[49m\u001b[43m]\u001b[49m\u001b[43m \u001b[49m\u001b[38;5;241;43m==\u001b[39;49m\u001b[43m \u001b[49m\u001b[38;5;28;43mself\u001b[39;49m\u001b[38;5;241;43m.\u001b[39;49m\u001b[43my\u001b[49m\u001b[43m[\u001b[49m\u001b[43mv\u001b[49m\u001b[43m]\u001b[49m \u001b[38;5;129;01mand\u001b[39;00m np\u001b[38;5;241m.\u001b[39mrandom\u001b[38;5;241m.\u001b[39mbinomial(\u001b[38;5;241m1\u001b[39m, p):\n\u001b[0;32m     89\u001b[0m         \u001b[38;5;28mself\u001b[39m\u001b[38;5;241m.\u001b[39medge_sources\u001b[38;5;241m.\u001b[39mappend(u)\n\u001b[0;32m     90\u001b[0m         \u001b[38;5;28mself\u001b[39m\u001b[38;5;241m.\u001b[39medge_targets\u001b[38;5;241m.\u001b[39mappend(v)\n",
      "\u001b[1;31mKeyboardInterrupt\u001b[0m: "
     ]
    }
   ],
   "source": [
    "for i in range(10):\n",
    "    base_csbm = MultiClassCSBM(n=n)\n",
    "    base_data = [base_csbm.get_data()]\n",
    "    \n",
    "    zero_csbm = MultiClassCSBM(n=10*n)\n",
    "    zero_data = [zero_csbm.get_data()]\n",
    "    \n",
    "    feat_csbm = FeatureCSBM(n=n)\n",
    "    feat_data = [feat_csbm.get_data()]\n",
    "    \n",
    "    struct_csbm = StructureCSBM(n=n)\n",
    "    struct_data = [struct_csbm.get_data()]\n",
    "    \n",
    "    hom_csbm = HomophilyCSBM(n=n)\n",
    "    hom_data = [hom_csbm.get_data()]\n",
    "    \n",
    "    class_csbm = ClassCSBM(n=n)\n",
    "    class_data = [class_csbm.get_data()]\n",
    "\n",
    "    for _ in range(9):\n",
    "        base_csbm.evolve()\n",
    "        base_data.append(base_csbm.get_data())\n",
    "\n",
    "        feat_csbm.evolve()\n",
    "        feat_data.append(feat_csbm.get_data())\n",
    "\n",
    "        struct_csbm.evolve()\n",
    "        struct_data.append(struct_csbm.get_data())\n",
    "\n",
    "        hom_csbm.evolve()\n",
    "        hom_data.append(hom_csbm.get_data())\n",
    "\n",
    "        class_csbm.evolve()\n",
    "        class_data.append(class_csbm.get_data())\n",
    "        \n",
    "    \n",
    "    torch.save(base_data, f'./data/csbm/base_{i}.pt')\n",
    "    torch.save(zero_data, f'./data/csbm/zero_{i}.pt')\n",
    "    torch.save(feat_data, f'./data/csbm/feat_{i}.pt')\n",
    "    torch.save(struct_data, f'./data/csbm/struct_{i}.pt')\n",
    "    torch.save(hom_data, f'./data/csbm/hom_{i}.pt')\n",
    "    torch.save(class_data, f'./data/csbm/class_{i}.pt')"
   ]
  }
 ],
 "metadata": {
  "kernelspec": {
   "display_name": "Python 3 (ipykernel)",
   "language": "python",
   "name": "python3"
  },
  "language_info": {
   "codemirror_mode": {
    "name": "ipython",
    "version": 3
   },
   "file_extension": ".py",
   "mimetype": "text/x-python",
   "name": "python",
   "nbconvert_exporter": "python",
   "pygments_lexer": "ipython3",
   "version": "3.9.18"
  }
 },
 "nbformat": 4,
 "nbformat_minor": 5
}
