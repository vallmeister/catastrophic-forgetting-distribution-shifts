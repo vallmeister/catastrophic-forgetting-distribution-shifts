{
 "cells": [
  {
   "cell_type": "markdown",
   "id": "e5f7226c-cdfc-419b-8715-7873af2e806e",
   "metadata": {},
   "source": [
    "# Creating, saving and loading datasets with CSBMs"
   ]
  },
  {
   "cell_type": "code",
   "execution_count": 1,
   "id": "a703347a-575c-4248-9fcb-0e1f8090e37c",
   "metadata": {},
   "outputs": [],
   "source": [
    "import multiprocessing\n",
    "import os\n",
    "import torch\n",
    "import numpy as np\n",
    "\n",
    "from csbm import MultiClassCSBM, FeatureCSBM, StructureCSBM, ClassCSBM, HomophilyCSBM"
   ]
  },
  {
   "cell_type": "code",
   "execution_count": 2,
   "id": "05c3b5ee-414b-4b7b-8686-d83fe4b0e201",
   "metadata": {},
   "outputs": [],
   "source": [
    "np.set_printoptions(precision=2, suppress=True)\n",
    "torch.set_printoptions(precision=3)\n",
    "csbm = MultiClassCSBM(n=100, classes=2, sigma_square=0.1)\n",
    "csbm_f = FeatureCSBM(n=100, classes=2, sigma_square=0.1)"
   ]
  },
  {
   "cell_type": "code",
   "execution_count": 3,
   "id": "85404156-590d-406e-b457-acdead29d6bd",
   "metadata": {},
   "outputs": [
    {
     "name": "stdout",
     "output_type": "stream",
     "text": [
      "0.0412\n",
      "0.0406\n",
      "\n",
      "0.0402\n",
      "0.0415\n",
      "\n",
      "0.0407\n",
      "0.0418\n",
      "\n",
      "0.0403\n",
      "0.0409\n",
      "\n",
      "0.0407\n",
      "0.0426\n",
      "\n",
      "0.0402\n",
      "0.0446\n",
      "\n",
      "0.0407\n",
      "0.0494\n",
      "\n",
      "0.0402\n",
      "0.0585\n",
      "\n",
      "0.0403\n",
      "0.0635\n",
      "\n",
      "0.0402\n",
      "0.0663\n",
      "\n"
     ]
    }
   ],
   "source": [
    "for _ in range(10):\n",
    "    csbm.evolve()\n",
    "    print(f'{csbm.get_per_class_feature_shift_mmd_with_rbf_kernel():.4f}')\n",
    "    csbm_f.evolve()\n",
    "    print(f'{csbm_f.get_per_class_feature_shift_mmd_with_rbf_kernel():.4f}')\n",
    "    print()"
   ]
  },
  {
   "cell_type": "code",
   "execution_count": 4,
   "id": "f965a750-01eb-4815-a19a-9ffc211b356c",
   "metadata": {},
   "outputs": [],
   "source": [
    "from measures import mmd_max_rbf, mmd_rbf"
   ]
  },
  {
   "cell_type": "code",
   "execution_count": 5,
   "id": "810ac972-8608-4307-886b-7a93201c009a",
   "metadata": {},
   "outputs": [
    {
     "name": "stdout",
     "output_type": "stream",
     "text": [
      "Control:\t0.0000\n",
      "Feature:\t0.0000\n",
      "\n",
      "Control:\t0.0412\n",
      "Feature:\t0.0406\n",
      "\n",
      "Control:\t0.0402\n",
      "Feature:\t0.0415\n",
      "\n",
      "Control:\t0.0407\n",
      "Feature:\t0.0418\n",
      "\n",
      "Control:\t0.0403\n",
      "Feature:\t0.0409\n",
      "\n",
      "Control:\t0.0407\n",
      "Feature:\t0.0426\n",
      "\n",
      "Control:\t0.0402\n",
      "Feature:\t0.0446\n",
      "\n",
      "Control:\t0.0407\n",
      "Feature:\t0.0494\n",
      "\n",
      "Control:\t0.0402\n",
      "Feature:\t0.0585\n",
      "\n",
      "Control:\t0.0403\n",
      "Feature:\t0.0635\n",
      "\n"
     ]
    }
   ],
   "source": [
    "for i in range(10):\n",
    "    mmd = 0\n",
    "    mmd_f = 0\n",
    "    for c in range(csbm.classes):\n",
    "        x = csbm.x[(csbm.t == 0) & (csbm.y == c)]\n",
    "        z = csbm.x[(csbm.t == i) & (csbm.y == c)]\n",
    "        \n",
    "        x_f = csbm_f.x[(csbm_f.t == 0) & (csbm_f.y == c)]\n",
    "        z_f = csbm_f.x[(csbm_f.t == i) & (csbm_f.y == c)]\n",
    "        \n",
    "        mmd += mmd_max_rbf(x, z)\n",
    "        mmd_f += mmd_max_rbf(x_f, z_f)\n",
    "    mmd /= csbm.classes\n",
    "    mmd_f /= csbm_f.classes\n",
    "    print(f'Control:\\t{mmd:.4f}')\n",
    "    print(f'Feature:\\t{mmd_f:.4f}\\n')"
   ]
  }
 ],
 "metadata": {
  "kernelspec": {
   "display_name": "Python 3 (ipykernel)",
   "language": "python",
   "name": "python3"
  },
  "language_info": {
   "codemirror_mode": {
    "name": "ipython",
    "version": 3
   },
   "file_extension": ".py",
   "mimetype": "text/x-python",
   "name": "python",
   "nbconvert_exporter": "python",
   "pygments_lexer": "ipython3",
   "version": "3.9.18"
  }
 },
 "nbformat": 4,
 "nbformat_minor": 5
}
