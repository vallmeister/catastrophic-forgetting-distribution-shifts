{
 "cells": [
  {
   "cell_type": "markdown",
   "id": "e5f7226c-cdfc-419b-8715-7873af2e806e",
   "metadata": {},
   "source": [
    "# Creating, saving and loading datasets with CSBMs"
   ]
  },
  {
   "cell_type": "code",
   "execution_count": 1,
   "id": "a703347a-575c-4248-9fcb-0e1f8090e37c",
   "metadata": {},
   "outputs": [],
   "source": [
    "import multiprocessing\n",
    "import os\n",
    "import torch\n",
    "\n",
    "from csbm import MultiClassCSBM, FeatureCSBM, StructureCSBM, ClassCSBM, HomophilyCSBM"
   ]
  },
  {
   "cell_type": "code",
   "execution_count": 2,
   "id": "ff98809e-4eeb-4987-b2e1-c4346e5e635b",
   "metadata": {},
   "outputs": [],
   "source": [
    "n = 50\n",
    "\n",
    "os.makedirs('./data/csbm/', exist_ok=True)"
   ]
  },
  {
   "cell_type": "code",
   "execution_count": 3,
   "id": "701fcc5f-039b-4607-a9a5-4d22247e4bdf",
   "metadata": {},
   "outputs": [],
   "source": [
    "def create_static_csbm(idx):\n",
    "    zero_csbm = MultiClassCSBM(n=10*n)\n",
    "    zero_data = [zero_csbm.get_data()]\n",
    "    torch.save(zero_data, f'./data/csbm/zero_{idx:02d}.pt')\n",
    "    print(f'Done with static_{idx}')"
   ]
  },
  {
   "cell_type": "code",
   "execution_count": 4,
   "id": "6ccd7c6e-fc6e-4610-97e9-9568267d07c9",
   "metadata": {},
   "outputs": [],
   "source": [
    "def create_evolving_csbm(csbm, name):\n",
    "    data_list = [csbm.get_data()]\n",
    "    for _ in range(9):\n",
    "        csbm.evolve()\n",
    "        data_list.append(csbm.get_data())\n",
    "    torch.save(data_list, f'./data/csbm/{name}.pt')\n",
    "    print('Done saving')"
   ]
  },
  {
   "cell_type": "code",
   "execution_count": 5,
   "id": "f39af54f-f76a-4626-a2f5-09aac641bc93",
   "metadata": {},
   "outputs": [
    {
     "name": "stdout",
     "output_type": "stream",
     "text": [
      "Edges generated after 0:00:00.062486\n",
      "Edges generated after 0:00:00.069996\n",
      "0\n",
      "Edges generated after 0:00:00.062484\n",
      "Edges generated after 0:00:00.078833\n",
      "1\n",
      "Edges generated after 0:00:00.063391\n",
      "Edges generated after 0:00:00.062485\n",
      "2\n",
      "Edges generated after 0:00:00.062485\n",
      "Edges generated after 0:00:00.062485\n",
      "3\n",
      "Edges generated after 0:00:00.076495\n",
      "Edges generated after 0:00:00.066644\n",
      "4\n",
      "Edges generated after 0:00:00.054300\n",
      "Edges generated after 0:00:00.078107\n",
      "5\n",
      "Edges generated after 0:00:00.065216\n",
      "Edges generated after 0:00:00.062486\n",
      "6\n",
      "Edges generated after 0:00:00.078106\n",
      "Edges generated after 0:00:00.062486\n",
      "7\n",
      "Edges generated after 0:00:00.062483\n",
      "Edges generated after 0:00:00.065974\n",
      "8\n",
      "Edges generated after 0:00:00.062484\n",
      "Edges generated after 0:00:00.062484\n",
      "9\n"
     ]
    }
   ],
   "source": [
    "for i in range(10):\n",
    "    p0 = multiprocessing.Process(target=create_static_csbm, args=(i, ))\n",
    "    \n",
    "    base_csbm = MultiClassCSBM(n=n)\n",
    "    p1 = multiprocessing.Process(target=create_evolving_csbm, args=(base_csbm, f'base_{i:02d}'))\n",
    "    \n",
    "    p0.start()\n",
    "    p1.start()\n",
    "    \n",
    "    p0.join()\n",
    "    p1.join()\n",
    "    \n",
    "    \n",
    "    feat_csbm = FeatureCSBM(n=n)\n",
    "    p2 = multiprocessing.Process(target=create_evolving_csbm, args=(feat_csbm, f'feat_{i:02d}'))\n",
    "    struct_csbm = StructureCSBM(n=n)\n",
    "    p3 = multiprocessing.Process(target=create_evolving_csbm, args=(struct_csbm, f'struct_{i:02d}'))\n",
    "    \n",
    "    p2.start()\n",
    "    p3.start()\n",
    "    p2.join()\n",
    "    p3.join()\n",
    "    \n",
    "    hom_csbm = HomophilyCSBM(n=n)\n",
    "    p4 = multiprocessing.Process(target=create_evolving_csbm, args=(hom_csbm, f'hom_{i:02d}'))\n",
    "    p4.start()\n",
    "    p4.join()\n",
    "\n",
    "    print(i)\n",
    "    # class_csbm = ClassCSBM(n=n)\n",
    "    # p5 = multiprocessing.Process(target=create_evolving_csbm, args=(class_csbm, f'class_{i:02d}'))\n",
    "    # p5.start()"
   ]
  }
 ],
 "metadata": {
  "kernelspec": {
   "display_name": "Python 3 (ipykernel)",
   "language": "python",
   "name": "python3"
  },
  "language_info": {
   "codemirror_mode": {
    "name": "ipython",
    "version": 3
   },
   "file_extension": ".py",
   "mimetype": "text/x-python",
   "name": "python",
   "nbconvert_exporter": "python",
   "pygments_lexer": "ipython3",
   "version": "3.9.18"
  }
 },
 "nbformat": 4,
 "nbformat_minor": 5
}
