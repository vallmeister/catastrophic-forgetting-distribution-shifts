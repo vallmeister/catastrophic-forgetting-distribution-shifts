{
 "cells": [
  {
   "cell_type": "markdown",
   "id": "e5f7226c-cdfc-419b-8715-7873af2e806e",
   "metadata": {},
   "source": [
    "# Creating, saving and loading datasets with CSBMs"
   ]
  },
  {
   "cell_type": "code",
   "execution_count": 2,
   "id": "a703347a-575c-4248-9fcb-0e1f8090e37c",
   "metadata": {},
   "outputs": [],
   "source": [
    "import torch\n",
    "\n",
    "from csbm import MultiClassCSBM"
   ]
  },
  {
   "cell_type": "code",
   "execution_count": 2,
   "id": "5fc4ccb4-99d1-41dd-90fd-4da2e343f4ff",
   "metadata": {},
   "outputs": [],
   "source": [
    "torch.set_printoptions(precision=3)\n",
    "csbm = MultiClassCSBM(n=8, classes=2, dimensions=4)\n",
    "data_list = [csbm.data]\n",
    "for i in range(4):\n",
    "    csbm.evolve()\n",
    "    data_list.append(csbm.data)"
   ]
  },
  {
   "cell_type": "markdown",
   "id": "c8ecf80d-3175-4558-bcb9-f420fc0c8065",
   "metadata": {},
   "source": [
    "## Simply by hand"
   ]
  }
 ],
 "metadata": {
  "kernelspec": {
   "display_name": "Python 3 (ipykernel)",
   "language": "python",
   "name": "python3"
  },
  "language_info": {
   "codemirror_mode": {
    "name": "ipython",
    "version": 3
   },
   "file_extension": ".py",
   "mimetype": "text/x-python",
   "name": "python",
   "nbconvert_exporter": "python",
   "pygments_lexer": "ipython3",
   "version": "3.9.18"
  }
 },
 "nbformat": 4,
 "nbformat_minor": 5
}
