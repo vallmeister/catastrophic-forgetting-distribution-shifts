{
 "cells": [
  {
   "cell_type": "markdown",
   "id": "e5f7226c-cdfc-419b-8715-7873af2e806e",
   "metadata": {},
   "source": [
    "# Creating, saving and loading datasets with CSBMs"
   ]
  },
  {
   "cell_type": "code",
   "execution_count": 1,
   "id": "a703347a-575c-4248-9fcb-0e1f8090e37c",
   "metadata": {},
   "outputs": [],
   "source": [
    "import numpy as np\n",
    "import os\n",
    "import torch\n",
    "\n",
    "from csbm import MultiClassCSBM, FeatureCSBM, StructureCSBM, ClassCSBM, HomophilyCSBM"
   ]
  },
  {
   "cell_type": "code",
   "execution_count": 2,
   "id": "5fc4ccb4-99d1-41dd-90fd-4da2e343f4ff",
   "metadata": {},
   "outputs": [],
   "source": [
    "n = 200"
   ]
  },
  {
   "cell_type": "code",
   "execution_count": 3,
   "id": "ff98809e-4eeb-4987-b2e1-c4346e5e635b",
   "metadata": {},
   "outputs": [],
   "source": [
    "os.makedirs('./csbm_base/', exist_ok=True)\n",
    "os.makedirs('./csbm_zero/', exist_ok=True)\n",
    "os.makedirs('./csbm_feat/', exist_ok=True)\n",
    "os.makedirs('./csbm_struct/', exist_ok=True)\n",
    "os.makedirs('./csbm_hom/', exist_ok=True)\n",
    "os.makedirs('./csbm_class/', exist_ok=True)"
   ]
  },
  {
   "cell_type": "code",
   "execution_count": 4,
   "id": "f39af54f-f76a-4626-a2f5-09aac641bc93",
   "metadata": {},
   "outputs": [
    {
     "name": "stdout",
     "output_type": "stream",
     "text": [
      "0\n",
      "1\n",
      "2\n",
      "3\n",
      "4\n",
      "5\n",
      "6\n",
      "7\n",
      "8\n",
      "9\n"
     ]
    }
   ],
   "source": [
    "for i in range(10):\n",
    "    base_csbm = MultiClassCSBM(n=n).generate_data(10)\n",
    "    zero_csbm = MultiClassCSBM(n=10*n).generate_data()\n",
    "    feat_csbm = FeatureCSBM(n=n).generate_data(10)\n",
    "    struct_csbm = StructureCSBM(n=n).generate_data(10)\n",
    "    hom_csbm = HomophilyCSBM(n=n).generate_data(10)\n",
    "    class_csbm = ClassCSBM(n=n).generate_data(10)\n",
    "    \n",
    "    torch.save(base_csbm, f'./csbm_base/base_{i}.pt')\n",
    "    torch.save(zero_csbm, f'./csbm_zero/zero_{i}.pt')\n",
    "    torch.save(feat_csbm, f'./csbm_feat/feat_{i}.pt')\n",
    "    torch.save(struct_csbm, f'./csbm_struct/struct_{i}.pt')\n",
    "    torch.save(hom_csbm, f'./csbm_hom/hom_{i}.pt')\n",
    "    torch.save(class_csbm, f'./csbm_class/class_{i}.pt')"
   ]
  }
 ],
 "metadata": {
  "kernelspec": {
   "display_name": "Python 3 (ipykernel)",
   "language": "python",
   "name": "python3"
  },
  "language_info": {
   "codemirror_mode": {
    "name": "ipython",
    "version": 3
   },
   "file_extension": ".py",
   "mimetype": "text/x-python",
   "name": "python",
   "nbconvert_exporter": "python",
   "pygments_lexer": "ipython3",
   "version": "3.9.18"
  }
 },
 "nbformat": 4,
 "nbformat_minor": 5
}
