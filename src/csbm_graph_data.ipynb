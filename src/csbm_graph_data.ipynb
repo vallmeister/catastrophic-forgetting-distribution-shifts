{
 "cells": [
  {
   "cell_type": "markdown",
   "id": "e5f7226c-cdfc-419b-8715-7873af2e806e",
   "metadata": {},
   "source": [
    "# Creating, saving and loading datasets with CSBMs"
   ]
  },
  {
   "cell_type": "code",
   "execution_count": 2,
   "id": "a703347a-575c-4248-9fcb-0e1f8090e37c",
   "metadata": {},
   "outputs": [],
   "source": [
    "import numpy as np\n",
    "import os\n",
    "import torch\n",
    "\n",
    "from csbm import MultiClassCSBM, FeatureCSBM, StructureCSBM, ClassLabelCSBM, HomophilyCSBM"
   ]
  },
  {
   "cell_type": "code",
   "execution_count": 3,
   "id": "5fc4ccb4-99d1-41dd-90fd-4da2e343f4ff",
   "metadata": {},
   "outputs": [],
   "source": [
    "torch.set_printoptions(precision=3)\n",
    "np.set_printoptions(precision=3)\n",
    "\n",
    "n = 50\n",
    "\n",
    "csbm_base = MultiClassCSBM(n=n)\n",
    "csbm_zero = MultiClassCSBM(n=10*n)\n",
    "csbm_feat = FeatureCSBM(n=n)\n",
    "csbm_struct = StructureCSBM(n=n)\n",
    "csbm_hom = HomophilyCSBM(n=n)\n",
    "csbm_class = ClassLabelCSBM(n=n)"
   ]
  },
  {
   "cell_type": "code",
   "execution_count": 5,
   "id": "c97304cb-c987-40be-8053-7ae1c34782f1",
   "metadata": {},
   "outputs": [],
   "source": [
    "base_dl = [csbm_base.get_data()]\n",
    "zero_dl = [csbm_zero.get_data()]\n",
    "feat_dl = [csbm_struct.get_data()]\n",
    "struct_dl = [csbm_struct.get_data()]\n",
    "hom_dl = [csbm_hom.get_data()]\n",
    "class_dl = [csbm_class.get_data()]"
   ]
  },
  {
   "cell_type": "code",
   "execution_count": 6,
   "id": "5a037cc6-53aa-417f-8cbe-2cc569679232",
   "metadata": {},
   "outputs": [],
   "source": [
    "for i in range(9):\n",
    "    csbm_base.evolve()\n",
    "    base_dl.append(csbm_base.get_data())\n",
    "    \n",
    "    csbm_feat.evolve()\n",
    "    feat_dl.append(csbm_feat.get_data())\n",
    "    \n",
    "    csbm_struct.evolve()\n",
    "    struct_dl.append(csbm_struct.get_data())\n",
    "\n",
    "    csbm_hom.evolve()\n",
    "    hom_dl.append(csbm_hom.get_data())\n",
    "\n",
    "    csbm_class.evolve()\n",
    "    class_dl.append(csbm_class.get_data())"
   ]
  },
  {
   "cell_type": "code",
   "execution_count": 6,
   "id": "db2b718a-468a-4af0-92f9-ab451cfb8a33",
   "metadata": {},
   "outputs": [],
   "source": [
    "os.makedirs('./csbm/', exist_ok=True)\n",
    "\n",
    "torch.save(base_dl, './csbm/csbm_base.pt')\n",
    "torch.save(zero_dl, './csbm/csbm_zero.pt')\n",
    "torch.save(feat_dl, './csbm/csbm_feat.pt')\n",
    "torch.save(csbm_struct_data_list, './csbm/csbm_struct.pt')"
   ]
  }
 ],
 "metadata": {
  "kernelspec": {
   "display_name": "Python 3 (ipykernel)",
   "language": "python",
   "name": "python3"
  },
  "language_info": {
   "codemirror_mode": {
    "name": "ipython",
    "version": 3
   },
   "file_extension": ".py",
   "mimetype": "text/x-python",
   "name": "python",
   "nbconvert_exporter": "python",
   "pygments_lexer": "ipython3",
   "version": "3.9.18"
  }
 },
 "nbformat": 4,
 "nbformat_minor": 5
}
