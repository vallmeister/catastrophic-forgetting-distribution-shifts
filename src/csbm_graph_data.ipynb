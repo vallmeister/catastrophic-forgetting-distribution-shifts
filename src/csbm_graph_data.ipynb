{
 "cells": [
  {
   "cell_type": "markdown",
   "id": "e5f7226c-cdfc-419b-8715-7873af2e806e",
   "metadata": {},
   "source": [
    "# Creating, saving and loading datasets with CSBMs"
   ]
  },
  {
   "cell_type": "code",
   "execution_count": 1,
   "id": "a703347a-575c-4248-9fcb-0e1f8090e37c",
   "metadata": {},
   "outputs": [],
   "source": [
    "import numpy as np\n",
    "import os\n",
    "import torch\n",
    "\n",
    "from csbm import MultiClassCSBM, FeatureCSBM, StructureCSBM, ClassCSBM, HomophilyCSBM"
   ]
  },
  {
   "cell_type": "code",
   "execution_count": 5,
   "id": "5fc4ccb4-99d1-41dd-90fd-4da2e343f4ff",
   "metadata": {},
   "outputs": [],
   "source": [
    "n = 50"
   ]
  },
  {
   "cell_type": "code",
   "execution_count": 3,
   "id": "ff98809e-4eeb-4987-b2e1-c4346e5e635b",
   "metadata": {},
   "outputs": [],
   "source": [
    "os.makedirs('./csbm_base/', exist_ok=True)\n",
    "os.makedirs('./csbm_zero/', exist_ok=True)\n",
    "os.makedirs('./csbm_feat/', exist_ok=True)\n",
    "os.makedirs('./csbm_struct/', exist_ok=True)\n",
    "os.makedirs('./csbm_hom/', exist_ok=True)\n",
    "os.makedirs('./csbm_class/', exist_ok=True)"
   ]
  },
  {
   "cell_type": "code",
   "execution_count": 4,
   "id": "f39af54f-f76a-4626-a2f5-09aac641bc93",
   "metadata": {},
   "outputs": [],
   "source": [
    "for i in range(10):\n",
    "    csbm_base = MultiClassCSBM(n=n)\n",
    "    csbm_zero = MultiClassCSBM(n=10*n)\n",
    "    csbm_feat = FeatureCSBM(n=n)\n",
    "    csbm_struct = StructureCSBM(n=n)\n",
    "    csbm_hom = HomophilyCSBM(n=n)\n",
    "    csbm_class = ClassCSBM(n=n)\n",
    "\n",
    "    base_dl = [csbm_base.get_data()]\n",
    "    zero_dl = [csbm_zero.get_data()]\n",
    "    feat_dl = [csbm_struct.get_data()]\n",
    "    struct_dl = [csbm_struct.get_data()]\n",
    "    hom_dl = [csbm_hom.get_data()]\n",
    "    class_dl = [csbm_class.get_data()]\n",
    "\n",
    "    for t in range(9):\n",
    "        csbm_base.evolve()\n",
    "        base_dl.append(csbm_base.get_data())\n",
    "        \n",
    "        csbm_feat.evolve()\n",
    "        feat_dl.append(csbm_feat.get_data())\n",
    "        \n",
    "        csbm_struct.evolve()\n",
    "        struct_dl.append(csbm_struct.get_data())\n",
    "    \n",
    "        csbm_hom.evolve()\n",
    "        hom_dl.append(csbm_hom.get_data())\n",
    "    \n",
    "        csbm_class.evolve()\n",
    "        class_dl.append(csbm_class.get_data())\n",
    "\n",
    "    torch.save(base_dl, f'./csbm_base/base_{i}.pt')\n",
    "    torch.save(zero_dl, f'./csbm_zero/zero_{i}.pt')\n",
    "    torch.save(feat_dl, f'./csbm_feat/feat_{i}.pt')\n",
    "    torch.save(struct_dl, f'./csbm_struct/struct_{i}.pt')\n",
    "    torch.save(hom_dl, f'./csbm_hom/hom_{i}.pt')\n",
    "    torch.save(class_dl, f'./csbm_class/class_{i}.pt')"
   ]
  }
 ],
 "metadata": {
  "kernelspec": {
   "display_name": "Python 3 (ipykernel)",
   "language": "python",
   "name": "python3"
  },
  "language_info": {
   "codemirror_mode": {
    "name": "ipython",
    "version": 3
   },
   "file_extension": ".py",
   "mimetype": "text/x-python",
   "name": "python",
   "nbconvert_exporter": "python",
   "pygments_lexer": "ipython3",
   "version": "3.9.18"
  }
 },
 "nbformat": 4,
 "nbformat_minor": 5
}
