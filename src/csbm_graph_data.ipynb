{
 "cells": [
  {
   "cell_type": "markdown",
   "id": "e5f7226c-cdfc-419b-8715-7873af2e806e",
   "metadata": {},
   "source": [
    "# Creating, saving and loading datasets with CSBMs"
   ]
  },
  {
   "cell_type": "code",
   "execution_count": 1,
   "id": "a703347a-575c-4248-9fcb-0e1f8090e37c",
   "metadata": {},
   "outputs": [],
   "source": [
    "import numpy as np\n",
    "import os\n",
    "import pickle\n",
    "import torch\n",
    "\n",
    "from csbm import MultiClassCSBM, FeatureCSBM, StructureCSBM\n",
    "from CSBMhet import CSBMhet"
   ]
  },
  {
   "cell_type": "code",
   "execution_count": 2,
   "id": "5fc4ccb4-99d1-41dd-90fd-4da2e343f4ff",
   "metadata": {},
   "outputs": [],
   "source": [
    "torch.set_printoptions(precision=3)\n",
    "np.set_printoptions(precision=3)\n",
    "\n",
    "n = 50\n",
    "\n",
    "csbm = MultiClassCSBM(n=n)\n",
    "csbm_zero = MultiClassCSBM(n=10*n)\n",
    "csbm_het = CSBMhet(n=n)\n",
    "csbm_struct = StructureCSBM(n=n)"
   ]
  },
  {
   "cell_type": "code",
   "execution_count": 3,
   "id": "5a037cc6-53aa-417f-8cbe-2cc569679232",
   "metadata": {},
   "outputs": [],
   "source": [
    "for i in range(9):\n",
    "    csbm.evolve()\n",
    "    csbm_het.evolve()\n",
    "    csbm_struct.evolve()"
   ]
  },
  {
   "cell_type": "markdown",
   "id": "c8ecf80d-3175-4558-bcb9-f420fc0c8065",
   "metadata": {},
   "source": [
    "## Simply by hand"
   ]
  },
  {
   "cell_type": "code",
   "execution_count": 4,
   "id": "db2b718a-468a-4af0-92f9-ab451cfb8a33",
   "metadata": {},
   "outputs": [],
   "source": [
    "os.makedirs('./csbm/', exist_ok=True)\n",
    "with open('./csbm/csbm_const.pkl', 'wb') as file:\n",
    "    pickle.dump(csbm, file)\n",
    "with open('./csbm/csbm_zero.pkl', 'wb') as file:\n",
    "    pickle.dump(csbm_zero, file)\n",
    "with open('./csbm/csbm_het.pkl', 'wb') as file:\n",
    "    pickle.dump(csbm_het, file)\n",
    "with open('./csbm/csbm_struct.pkl', 'wb') as file:\n",
    "    pickle.dump(csbm_struct, file)"
   ]
  }
 ],
 "metadata": {
  "kernelspec": {
   "display_name": "Python 3 (ipykernel)",
   "language": "python",
   "name": "python3"
  },
  "language_info": {
   "codemirror_mode": {
    "name": "ipython",
    "version": 3
   },
   "file_extension": ".py",
   "mimetype": "text/x-python",
   "name": "python",
   "nbconvert_exporter": "python",
   "pygments_lexer": "ipython3",
   "version": "3.9.18"
  }
 },
 "nbformat": 4,
 "nbformat_minor": 5
}
