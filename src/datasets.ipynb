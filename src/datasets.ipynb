{
 "cells": [
  {
   "cell_type": "code",
   "execution_count": 1,
   "id": "b0040dab-cd70-4c95-bdf4-ad0f07c95ce9",
   "metadata": {
    "tags": []
   },
   "outputs": [],
   "source": [
    "import torch\n",
    "from torch_geometric.data import Data\n",
    "from torch_geometric.datasets import EllipticBitcoinDataset\n",
    "\n",
    "#from ogb.nodeproppred import PygNodePropPredDataset"
   ]
  },
  {
   "cell_type": "code",
   "execution_count": 2,
   "id": "a4d52a47-1b9c-4bad-b961-f1fb5af83b12",
   "metadata": {
    "tags": []
   },
   "outputs": [],
   "source": [
    "elliptic = EllipticBitcoinDataset(root='./data/Elliptic/')\n",
    "#ogbn_arxiv = PygNodePropPredDataset(name = \"ogbn-arxiv\", root = './data/Ogbn/')"
   ]
  },
  {
   "cell_type": "code",
   "execution_count": 3,
   "id": "8f3f28d1-e91c-4026-bafc-ecbd0f888f6b",
   "metadata": {
    "tags": []
   },
   "outputs": [],
   "source": [
    "#print(elliptic.num_classes, ogbn_arxiv.num_classes)\n",
    "#print(elliptic.num_node_features, ogbn_arxiv.num_node_features)"
   ]
  },
  {
   "cell_type": "code",
   "execution_count": 4,
   "id": "9e0bed99-290e-44f7-b643-841de731d870",
   "metadata": {
    "tags": []
   },
   "outputs": [
    {
     "data": {
      "text/plain": [
       "0.7113396525382996"
      ]
     },
     "execution_count": 4,
     "metadata": {},
     "output_type": "execute_result"
    }
   ],
   "source": [
    "from torch_geometric.utils import homophily\n",
    "edge_index = elliptic.edge_index\n",
    "y = elliptic.y\n",
    "homophily(edge_index, y, method='edge')"
   ]
  },
  {
   "cell_type": "code",
   "execution_count": 5,
   "id": "386ccd44-87c6-44ae-a3c9-e8c74e6649c3",
   "metadata": {
    "tags": []
   },
   "outputs": [],
   "source": [
    "#edge_index = ogbn_arxiv.edge_index\n",
    "#y = ogbn_arxiv.y\n",
    "#homophily(edge_index, y, method='edge')"
   ]
  },
  {
   "cell_type": "code",
   "execution_count": 6,
   "id": "70f2aefd-49c5-41b5-8d4a-e6e207ad09dc",
   "metadata": {
    "tags": []
   },
   "outputs": [],
   "source": [
    "from pathlib import Path\n",
    "from torch_geometric.data import Dataset\n",
    "import networkx as nx\n",
    "import numpy as np\n",
    "import torch_geometric\n",
    "\n",
    "def built_dblp():\n",
    "    path = Path('../data/dblp-hard-citation-graph/dblp-hard/')\n",
    "    y = np.load(path/\"y.npy\")\n",
    "    x = np.load(path/\"X.npy\")\n",
    "    node_year = np.load(path/\"t.npy\")\n",
    "    nx_graph = nx.read_adjlist(path/\"adjlist.txt\", nodetype=int)\n",
    "    data = torch_geometric.utils.from_networkx(nx_graph)\n",
    "    data.x = torch.tensor(x)\n",
    "    data.y = torch.unsqueeze(torch.tensor(y), 1)\n",
    "    data.node_year = torch.unsqueeze(torch.tensor(node_year),1)\n",
    "    num_classes = np.unique(y).shape[0]\n",
    "    #ds = Dataset(data, num_classes)\n",
    "    print(num_classes)\n",
    "    return data"
   ]
  },
  {
   "cell_type": "code",
   "execution_count": 7,
   "id": "85754b62-d68a-4c28-b1de-24e52e09243e",
   "metadata": {
    "tags": []
   },
   "outputs": [],
   "source": [
    "#dblp_hard = built_dblp()"
   ]
  },
  {
   "cell_type": "code",
   "execution_count": 8,
   "id": "1252c927-7827-49c5-932f-d4831fb832d2",
   "metadata": {},
   "outputs": [],
   "source": [
    "#dblp_hard"
   ]
  },
  {
   "cell_type": "code",
   "execution_count": 9,
   "id": "dc1cc384-6876-4f0b-9b47-b5ec787d1ee7",
   "metadata": {},
   "outputs": [
    {
     "ename": "ValueError",
     "evalue": "Cannot load file containing pickled data when allow_pickle=False",
     "output_type": "error",
     "traceback": [
      "\u001b[1;31m---------------------------------------------------------------------------\u001b[0m",
      "\u001b[1;31mValueError\u001b[0m                                Traceback (most recent call last)",
      "Cell \u001b[1;32mIn[9], line 5\u001b[0m\n\u001b[0;32m      3\u001b[0m X \u001b[38;5;241m=\u001b[39m torch\u001b[38;5;241m.\u001b[39mfrom_numpy(np\u001b[38;5;241m.\u001b[39mload(pref \u001b[38;5;241m+\u001b[39m \u001b[38;5;124m'\u001b[39m\u001b[38;5;124mX.npy\u001b[39m\u001b[38;5;124m'\u001b[39m))\n\u001b[0;32m      4\u001b[0m y \u001b[38;5;241m=\u001b[39m torch\u001b[38;5;241m.\u001b[39mfrom_numpy(np\u001b[38;5;241m.\u001b[39mload(pref \u001b[38;5;241m+\u001b[39m \u001b[38;5;124m'\u001b[39m\u001b[38;5;124my.npy\u001b[39m\u001b[38;5;124m'\u001b[39m))\n\u001b[1;32m----> 5\u001b[0m adjacency_list \u001b[38;5;241m=\u001b[39m torch\u001b[38;5;241m.\u001b[39mfrom_numpy(\u001b[43mnp\u001b[49m\u001b[38;5;241;43m.\u001b[39;49m\u001b[43mload\u001b[49m\u001b[43m(\u001b[49m\u001b[43mpref\u001b[49m\u001b[43m \u001b[49m\u001b[38;5;241;43m+\u001b[39;49m\u001b[38;5;124;43m'\u001b[39;49m\u001b[38;5;124;43madjlist.txt\u001b[39;49m\u001b[38;5;124;43m'\u001b[39;49m\u001b[43m)\u001b[49m)\n\u001b[0;32m      6\u001b[0m timestamp \u001b[38;5;241m=\u001b[39m torch\u001b[38;5;241m.\u001b[39mfrom_numpy(np\u001b[38;5;241m.\u001b[39mload(pref \u001b[38;5;241m+\u001b[39m \u001b[38;5;124m'\u001b[39m\u001b[38;5;124mtimestamp.npy\u001b[39m\u001b[38;5;124m'\u001b[39m))\n\u001b[0;32m      8\u001b[0m \u001b[38;5;66;03m# Create a PyTorch Geometric Data object\u001b[39;00m\n",
      "File \u001b[1;32mD:\\Users\\Productivity\\anaconda3\\envs\\cudanew\\lib\\site-packages\\numpy\\lib\\npyio.py:462\u001b[0m, in \u001b[0;36mload\u001b[1;34m(file, mmap_mode, allow_pickle, fix_imports, encoding, max_header_size)\u001b[0m\n\u001b[0;32m    459\u001b[0m \u001b[38;5;28;01melse\u001b[39;00m:\n\u001b[0;32m    460\u001b[0m     \u001b[38;5;66;03m# Try a pickle\u001b[39;00m\n\u001b[0;32m    461\u001b[0m     \u001b[38;5;28;01mif\u001b[39;00m \u001b[38;5;129;01mnot\u001b[39;00m allow_pickle:\n\u001b[1;32m--> 462\u001b[0m         \u001b[38;5;28;01mraise\u001b[39;00m \u001b[38;5;167;01mValueError\u001b[39;00m(\u001b[38;5;124m\"\u001b[39m\u001b[38;5;124mCannot load file containing pickled data \u001b[39m\u001b[38;5;124m\"\u001b[39m\n\u001b[0;32m    463\u001b[0m                          \u001b[38;5;124m\"\u001b[39m\u001b[38;5;124mwhen allow_pickle=False\u001b[39m\u001b[38;5;124m\"\u001b[39m)\n\u001b[0;32m    464\u001b[0m     \u001b[38;5;28;01mtry\u001b[39;00m:\n\u001b[0;32m    465\u001b[0m         \u001b[38;5;28;01mreturn\u001b[39;00m pickle\u001b[38;5;241m.\u001b[39mload(fid, \u001b[38;5;241m*\u001b[39m\u001b[38;5;241m*\u001b[39mpickle_kwargs)\n",
      "\u001b[1;31mValueError\u001b[0m: Cannot load file containing pickled data when allow_pickle=False"
     ]
    }
   ],
   "source": [
    "import numpy as np\n",
    "pref = '../data/dblp-hard-citation-graph/dblp-hard/'\n",
    "X = torch.from_numpy(np.load(pref + 'X.npy'))\n",
    "y = torch.from_numpy(np.load(pref + 'y.npy'))\n",
    "adjacency_list = torch.from_numpy(np.load(pref +'adjlist.txt'))\n",
    "timestamp = torch.from_numpy(np.load(pref + 'timestamp.npy'))\n",
    "\n",
    "# Create a PyTorch Geometric Data object\n",
    "dblp_hard_simple = Data(x=X, y=y, edge_index=adjacency_list, node_year=timestamp)"
   ]
  },
  {
   "cell_type": "code",
   "execution_count": null,
   "id": "931fa340-ca7f-49aa-8044-728433fad0b1",
   "metadata": {},
   "outputs": [],
   "source": [
    "edge_index = dblp_hard_simple.edge_index\n",
    "y = dblp_hard_simple.y\n",
    "homophily(edge_index, y, method='edge')"
   ]
  },
  {
   "cell_type": "code",
   "execution_count": 11,
   "id": "b0677882-9c76-4434-b276-a31e8589736c",
   "metadata": {},
   "outputs": [
    {
     "name": "stdout",
     "output_type": "stream",
     "text": [
      "1486143\n",
      "1287468\n"
     ]
    }
   ],
   "source": [
    "pref = '../data/dblp-hard-citation-graph/dblp-hard/'\n",
    "adj = open(pref + 'adjlist.txt')\n",
    "edges_original = 0\n",
    "edges_processed = 0\n",
    "for idx, line in enumerate(adj):\n",
    "    if idx < 3:\n",
    "        continue\n",
    "    nodes = line.split()\n",
    "    edges_original += len(nodes) - 1\n",
    "    source = nodes[0]\n",
    "    for target in nodes[1:]:\n",
    "        if source != target:\n",
    "            edges_processed += 1\n",
    "print(edges_original) # Self-edges should be removed\n",
    "print(edges_processed) # We have undirected edges, thus twice as many\n",
    "# Should create own method to load dblp-hard as Data-object"
   ]
  }
 ],
 "metadata": {
  "kernelspec": {
   "display_name": "Python 3 (ipykernel)",
   "language": "python",
   "name": "python3"
  },
  "language_info": {
   "codemirror_mode": {
    "name": "ipython",
    "version": 3
   },
   "file_extension": ".py",
   "mimetype": "text/x-python",
   "name": "python",
   "nbconvert_exporter": "python",
   "pygments_lexer": "ipython3",
   "version": "3.9.18"
  }
 },
 "nbformat": 4,
 "nbformat_minor": 5
}
