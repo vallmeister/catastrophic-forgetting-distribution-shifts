{
 "cells": [
  {
   "cell_type": "code",
   "execution_count": 1,
   "id": "b0040dab-cd70-4c95-bdf4-ad0f07c95ce9",
   "metadata": {
    "tags": []
   },
   "outputs": [],
   "source": [
    "import torch\n",
    "from torch_geometric.data import Data\n",
    "from torch_geometric.data import DataLoader\n",
    "from torch_geometric.datasets import EllipticBitcoinDataset\n",
    "\n",
    "from ogb.nodeproppred import PygNodePropPredDataset"
   ]
  },
  {
   "cell_type": "code",
   "execution_count": 2,
   "id": "a4d52a47-1b9c-4bad-b961-f1fb5af83b12",
   "metadata": {
    "tags": []
   },
   "outputs": [],
   "source": [
    "elliptic = EllipticBitcoinDataset(root='./data/Elliptic/')\n",
    "ogbn_arxiv = PygNodePropPredDataset(name = \"ogbn-arxiv\", root = './data/Ogbn/')"
   ]
  },
  {
   "cell_type": "code",
   "execution_count": 3,
   "id": "9f02975b-3e6e-4ee3-8b63-c32a57837c47",
   "metadata": {
    "tags": []
   },
   "outputs": [
    {
     "name": "stdout",
     "output_type": "stream",
     "text": [
      "1 1\n"
     ]
    }
   ],
   "source": [
    "print(len(elliptic), len(ogbn_arxiv))"
   ]
  },
  {
   "cell_type": "code",
   "execution_count": 4,
   "id": "8f3f28d1-e91c-4026-bafc-ecbd0f888f6b",
   "metadata": {
    "tags": []
   },
   "outputs": [
    {
     "name": "stdout",
     "output_type": "stream",
     "text": [
      "2 40\n",
      "165 128\n"
     ]
    }
   ],
   "source": [
    "print(elliptic.num_classes, ogbn_arxiv.num_classes)\n",
    "print(elliptic.num_node_features, ogbn_arxiv.num_node_features)"
   ]
  },
  {
   "cell_type": "code",
   "execution_count": 5,
   "id": "9e0bed99-290e-44f7-b643-841de731d870",
   "metadata": {
    "tags": []
   },
   "outputs": [
    {
     "data": {
      "text/plain": [
       "0.7113396525382996"
      ]
     },
     "execution_count": 5,
     "metadata": {},
     "output_type": "execute_result"
    }
   ],
   "source": [
    "from torch_geometric.utils import homophily\n",
    "edge_index = elliptic.edge_index\n",
    "y = elliptic.y\n",
    "homophily(edge_index, y, method='edge')"
   ]
  },
  {
   "cell_type": "code",
   "execution_count": 6,
   "id": "386ccd44-87c6-44ae-a3c9-e8c74e6649c3",
   "metadata": {
    "tags": []
   },
   "outputs": [
    {
     "data": {
      "text/plain": [
       "0.6550830602645874"
      ]
     },
     "execution_count": 6,
     "metadata": {},
     "output_type": "execute_result"
    }
   ],
   "source": [
    "edge_index = ogbn_arxiv.edge_index\n",
    "y = ogbn_arxiv.y\n",
    "homophily(edge_index, y, method='edge')"
   ]
  },
  {
   "cell_type": "code",
   "execution_count": 14,
   "id": "70f2aefd-49c5-41b5-8d4a-e6e207ad09dc",
   "metadata": {
    "tags": []
   },
   "outputs": [],
   "source": [
    "from pathlib import Path\n",
    "from torch_geometric.data import Dataset\n",
    "import networkx as nx\n",
    "import numpy as np\n",
    "import torch_geometric\n",
    "\n",
    "def built_dblp():\n",
    "    path = Path('../data/dblp-hard-citation-graph/dblp-hard/')\n",
    "    y = np.load(path/\"y.npy\")\n",
    "    x = np.load(path/\"X.npy\")\n",
    "    node_year = np.load(path/\"t.npy\")\n",
    "    nx_graph = nx.read_adjlist(path/\"adjlist.txt\", nodetype=int)\n",
    "    data = torch_geometric.utils.from_networkx(nx_graph)\n",
    "    data.x = torch.tensor(x)\n",
    "    data.y = torch.unsqueeze(torch.tensor(y), 1)\n",
    "    data.node_year = torch.unsqueeze(torch.tensor(node_year),1)\n",
    "    num_classes = np.unique(y).shape[0]\n",
    "    ds = Dataset(data, num_classes)\n",
    "    return ds"
   ]
  },
  {
   "cell_type": "code",
   "execution_count": 15,
   "id": "85754b62-d68a-4c28-b1de-24e52e09243e",
   "metadata": {
    "tags": []
   },
   "outputs": [
    {
     "ename": "RuntimeError",
     "evalue": "[enforce fail at C:\\b\\abs_abjetg6_iu\\croot\\pytorch_1686932924616\\work\\c10\\core\\impl\\alloc_cpu.cpp:72] data. DefaultCPUAllocator: not enough memory: you tried to allocate 6425944200 bytes.",
     "output_type": "error",
     "traceback": [
      "\u001b[1;31m---------------------------------------------------------------------------\u001b[0m",
      "\u001b[1;31mRuntimeError\u001b[0m                              Traceback (most recent call last)",
      "Cell \u001b[1;32mIn[15], line 1\u001b[0m\n\u001b[1;32m----> 1\u001b[0m dblp_hard \u001b[38;5;241m=\u001b[39m \u001b[43mbuilt_dblp\u001b[49m\u001b[43m(\u001b[49m\u001b[43m)\u001b[49m\n",
      "Cell \u001b[1;32mIn[14], line 14\u001b[0m, in \u001b[0;36mbuilt_dblp\u001b[1;34m()\u001b[0m\n\u001b[0;32m     12\u001b[0m nx_graph \u001b[38;5;241m=\u001b[39m nx\u001b[38;5;241m.\u001b[39mread_adjlist(path\u001b[38;5;241m/\u001b[39m\u001b[38;5;124m\"\u001b[39m\u001b[38;5;124madjlist.txt\u001b[39m\u001b[38;5;124m\"\u001b[39m, nodetype\u001b[38;5;241m=\u001b[39m\u001b[38;5;28mint\u001b[39m)\n\u001b[0;32m     13\u001b[0m data \u001b[38;5;241m=\u001b[39m torch_geometric\u001b[38;5;241m.\u001b[39mutils\u001b[38;5;241m.\u001b[39mfrom_networkx(nx_graph)\n\u001b[1;32m---> 14\u001b[0m data\u001b[38;5;241m.\u001b[39mx \u001b[38;5;241m=\u001b[39m \u001b[43mtorch\u001b[49m\u001b[38;5;241;43m.\u001b[39;49m\u001b[43mtensor\u001b[49m\u001b[43m(\u001b[49m\u001b[43mx\u001b[49m\u001b[43m)\u001b[49m\n\u001b[0;32m     15\u001b[0m data\u001b[38;5;241m.\u001b[39my \u001b[38;5;241m=\u001b[39m torch\u001b[38;5;241m.\u001b[39munsqueeze(torch\u001b[38;5;241m.\u001b[39mtensor(y), \u001b[38;5;241m1\u001b[39m)\n\u001b[0;32m     16\u001b[0m data\u001b[38;5;241m.\u001b[39mnode_year \u001b[38;5;241m=\u001b[39m torch\u001b[38;5;241m.\u001b[39munsqueeze(torch\u001b[38;5;241m.\u001b[39mtensor(node_year),\u001b[38;5;241m1\u001b[39m)\n",
      "\u001b[1;31mRuntimeError\u001b[0m: [enforce fail at C:\\b\\abs_abjetg6_iu\\croot\\pytorch_1686932924616\\work\\c10\\core\\impl\\alloc_cpu.cpp:72] data. DefaultCPUAllocator: not enough memory: you tried to allocate 6425944200 bytes."
     ]
    }
   ],
   "source": [
    "dblp_hard = built_dblp()"
   ]
  }
 ],
 "metadata": {
  "kernelspec": {
   "display_name": "Python 3 (ipykernel)",
   "language": "python",
   "name": "python3"
  },
  "language_info": {
   "codemirror_mode": {
    "name": "ipython",
    "version": 3
   },
   "file_extension": ".py",
   "mimetype": "text/x-python",
   "name": "python",
   "nbconvert_exporter": "python",
   "pygments_lexer": "ipython3",
   "version": "3.9.17"
  }
 },
 "nbformat": 4,
 "nbformat_minor": 5
}
