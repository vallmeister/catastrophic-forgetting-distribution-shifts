{
 "cells": [
  {
   "cell_type": "code",
   "execution_count": 1,
   "id": "b0040dab-cd70-4c95-bdf4-ad0f07c95ce9",
   "metadata": {
    "tags": []
   },
   "outputs": [],
   "source": [
    "import torch\n",
    "from torch_geometric.data import Data\n",
    "from torch_geometric.datasets import EllipticBitcoinDataset\n",
    "\n",
    "from ogb.nodeproppred import PygNodePropPredDataset"
   ]
  },
  {
   "cell_type": "code",
   "execution_count": 6,
   "id": "70f2aefd-49c5-41b5-8d4a-e6e207ad09dc",
   "metadata": {
    "tags": []
   },
   "outputs": [],
   "source": [
    "from pathlib import Path\n",
    "from torch_geometric.data import Dataset\n",
    "import networkx as nx\n",
    "import numpy as np\n",
    "import torch_geometric\n",
    "\n",
    "def built_dblp():\n",
    "    path = Path('../data/dblp-hard-citation-graph/dblp-hard/')\n",
    "    y = np.load(path/\"y.npy\")\n",
    "    x = np.load(path/\"X.npy\")\n",
    "    node_year = np.load(path/\"t.npy\")\n",
    "    nx_graph = nx.read_adjlist(path/\"adjlist.txt\", nodetype=int)\n",
    "    data = torch_geometric.utils.from_networkx(nx_graph)\n",
    "    data.x = torch.tensor(x)\n",
    "    data.y = torch.unsqueeze(torch.tensor(y), 1)\n",
    "    data.node_year = torch.unsqueeze(torch.tensor(node_year),1)\n",
    "    num_classes = np.unique(y).shape[0]\n",
    "    #ds = Dataset(data, num_classes)\n",
    "    print(num_classes)\n",
    "    return data"
   ]
  },
  {
   "cell_type": "code",
   "execution_count": 2,
   "id": "a4d52a47-1b9c-4bad-b961-f1fb5af83b12",
   "metadata": {
    "tags": []
   },
   "outputs": [],
   "source": [
    "elliptic = EllipticBitcoinDataset(root='./data/Elliptic/')\n",
    "ogbn_arxiv = PygNodePropPredDataset(name = \"ogbn-arxiv\", root = './data/Ogbn/')\n",
    "dblp = built_dblp()"
   ]
  },
  {
   "cell_type": "code",
   "execution_count": 4,
   "id": "9e0bed99-290e-44f7-b643-841de731d870",
   "metadata": {
    "tags": []
   },
   "outputs": [
    {
     "data": {
      "text/plain": [
       "0.7113396525382996"
      ]
     },
     "execution_count": 4,
     "metadata": {},
     "output_type": "execute_result"
    }
   ],
   "source": [
    "from torch_geometric.utils import homophily\n",
    "edge_index = elliptic.edge_index\n",
    "y = elliptic.y\n",
    "homophily(edge_index, y, method='edge')"
   ]
  }
 ],
 "metadata": {
  "kernelspec": {
   "display_name": "Python 3 (ipykernel)",
   "language": "python",
   "name": "python3"
  },
  "language_info": {
   "codemirror_mode": {
    "name": "ipython",
    "version": 3
   },
   "file_extension": ".py",
   "mimetype": "text/x-python",
   "name": "python",
   "nbconvert_exporter": "python",
   "pygments_lexer": "ipython3",
   "version": "3.9.18"
  }
 },
 "nbformat": 4,
 "nbformat_minor": 5
}
