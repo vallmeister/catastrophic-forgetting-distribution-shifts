{
 "cells": [
  {
   "cell_type": "code",
   "execution_count": 65,
   "id": "b0040dab-cd70-4c95-bdf4-ad0f07c95ce9",
   "metadata": {
    "tags": []
   },
   "outputs": [],
   "source": [
    "import torch\n",
    "from torch_geometric.data import Data\n",
    "from torch_geometric.datasets import EllipticBitcoinDataset, EllipticBitcoinTemporalDataset\n",
    "\n",
    "from ogb.nodeproppred import PygNodePropPredDataset"
   ]
  },
  {
   "cell_type": "code",
   "execution_count": 2,
   "id": "70f2aefd-49c5-41b5-8d4a-e6e207ad09dc",
   "metadata": {
    "tags": []
   },
   "outputs": [],
   "source": [
    "from pathlib import Path\n",
    "from torch_geometric.data import Dataset\n",
    "import networkx as nx\n",
    "import numpy as np\n",
    "import torch_geometric\n",
    "\n",
    "def built_dblp():\n",
    "    path = Path('../data/dblp-hard-citation-graph/dblp-hard/')\n",
    "    y = np.load(path/\"y.npy\")\n",
    "    x = np.load(path/\"X.npy\")\n",
    "    node_year = np.load(path/\"t.npy\")\n",
    "    nx_graph = nx.read_adjlist(path/\"adjlist.txt\", nodetype=int)\n",
    "    data = torch_geometric.utils.from_networkx(nx_graph)\n",
    "    data.x = torch.tensor(x)\n",
    "    data.y = torch.unsqueeze(torch.tensor(y), 1)\n",
    "    data.node_year = torch.unsqueeze(torch.tensor(node_year),1)\n",
    "    num_classes = np.unique(y).shape[0]\n",
    "    #ds = Dataset(data, num_classes)\n",
    "    print(num_classes)\n",
    "    return data"
   ]
  },
  {
   "cell_type": "code",
   "execution_count": 3,
   "id": "a4d52a47-1b9c-4bad-b961-f1fb5af83b12",
   "metadata": {
    "tags": []
   },
   "outputs": [
    {
     "name": "stdout",
     "output_type": "stream",
     "text": [
      "73\n"
     ]
    }
   ],
   "source": [
    "elliptic = EllipticBitcoinDataset(root='./data/Elliptic/') # labels 0: licit, 1: illicit, 2: unlabeled\n",
    "ogbn_arxiv = PygNodePropPredDataset(name=\"ogbn-arxiv\", root = './data/Ogbn/')\n",
    "dblp = built_dblp()"
   ]
  },
  {
   "cell_type": "code",
   "execution_count": 4,
   "id": "9e0bed99-290e-44f7-b643-841de731d870",
   "metadata": {
    "tags": []
   },
   "outputs": [
    {
     "data": {
      "text/plain": [
       "0.7113396525382996"
      ]
     },
     "execution_count": 4,
     "metadata": {},
     "output_type": "execute_result"
    }
   ],
   "source": [
    "from torch_geometric.utils import homophily\n",
    "edge_index = elliptic.edge_index\n",
    "y = elliptic.y\n",
    "homophily(edge_index, y, method='edge')"
   ]
  },
  {
   "cell_type": "code",
   "execution_count": 5,
   "id": "0066e9b5-c63d-449c-af54-151d69d0e598",
   "metadata": {},
   "outputs": [
    {
     "data": {
      "text/plain": [
       "0.6550830602645874"
      ]
     },
     "execution_count": 5,
     "metadata": {},
     "output_type": "execute_result"
    }
   ],
   "source": [
    "edge_index = ogbn_arxiv.edge_index\n",
    "y = ogbn_arxiv.y\n",
    "homophily(edge_index, y, method='edge')"
   ]
  },
  {
   "cell_type": "code",
   "execution_count": 6,
   "id": "91e2060e-e1d2-4066-8b04-bf9cb67b8596",
   "metadata": {},
   "outputs": [
    {
     "data": {
      "text/plain": [
       "0.1613084077835083"
      ]
     },
     "execution_count": 6,
     "metadata": {},
     "output_type": "execute_result"
    }
   ],
   "source": [
    "edge_index = dblp.edge_index\n",
    "y = dblp.y\n",
    "homophily(edge_index, y, method='edge')"
   ]
  },
  {
   "cell_type": "code",
   "execution_count": 9,
   "id": "e424225e-330e-4887-b3ee-e48a6337a438",
   "metadata": {},
   "outputs": [],
   "source": [
    "import networkx as nx\n",
    "import numpy as np\n",
    "\n",
    "def convert_labels_to_consecutive_integers(labels):\n",
    "    unique_labels = np.unique(labels)\n",
    "    labels_map = {label: i for i, label in enumerate(unique_labels)}\n",
    "    new_labels = np.array([labels_map[label] for label in labels])\n",
    "\n",
    "    return new_labels\n",
    "\n",
    "def h_adj(graph, labels):\n",
    "    \"\"\"Compute adjusted homophily.\"\"\"\n",
    "    labels = convert_labels_to_consecutive_integers(labels)\n",
    "\n",
    "    num_classes = len(np.unique(labels))\n",
    "\n",
    "    degree_sums = np.zeros((num_classes,))\n",
    "    for u in graph.nodes:\n",
    "        label = labels[u]\n",
    "        degree_sums[label] += graph.degree(u)\n",
    "\n",
    "    adjust = (degree_sums ** 2 / (len(graph.edges) * 2) ** 2).sum()\n",
    "\n",
    "    h_adj = (h_edge(graph, labels) - adjust) / (1 - adjust)\n",
    "\n",
    "    return h_adj"
   ]
  },
  {
   "cell_type": "code",
   "execution_count": 25,
   "id": "3ec06181-212a-4912-bac4-a020288bd306",
   "metadata": {},
   "outputs": [
    {
     "data": {
      "text/plain": [
       "tensor([1971, 1986, 1987, 1988, 1990, 1991, 1992, 1993, 1994, 1995, 1996, 1997,\n",
       "        1998, 1999, 2000, 2001, 2002, 2003, 2004, 2005, 2006, 2007, 2008, 2009,\n",
       "        2010, 2011, 2012, 2013, 2014, 2015, 2016, 2017, 2018, 2019, 2020])"
      ]
     },
     "execution_count": 25,
     "metadata": {},
     "output_type": "execute_result"
    }
   ],
   "source": [
    "torch.unique(ogbn_arxiv.data.node_year)"
   ]
  },
  {
   "cell_type": "code",
   "execution_count": 68,
   "id": "47a01cae-d13b-406d-976a-3b3a3848415d",
   "metadata": {},
   "outputs": [
    {
     "name": "stdout",
     "output_type": "stream",
     "text": [
      "tensor(1971) 1 1\n",
      "tensor(1986) 1 2\n",
      "tensor(1987) 1 3\n",
      "tensor(1988) 1 4\n",
      "tensor(1990) 3 7\n",
      "tensor(1991) 3 10\n",
      "tensor(1992) 1 11\n",
      "tensor(1993) 8 19\n",
      "tensor(1994) 19 38\n",
      "tensor(1995) 25 63\n",
      "tensor(1996) 31 94\n",
      "tensor(1997) 33 127\n",
      "tensor(1998) 123 250\n",
      "tensor(1999) 165 415\n",
      "tensor(2000) 261 676\n",
      "tensor(2001) 248 924\n",
      "tensor(2002) 355 1279\n",
      "tensor(2003) 387 1666\n",
      "tensor(2004) 415 2081\n",
      "tensor(2005) 629 2710\n",
      "tensor(2006) 968 3678\n",
      "tensor(2007) 1302 4980\n",
      "tensor(2008) 1931 6911\n",
      "tensor(2009) 2499 9410\n",
      "tensor(2010) 3564 12974\n",
      "tensor(2011) 4427 17401\n",
      "tensor(2012) 6435 23836\n",
      "tensor(2013) 8135 31971\n",
      "tensor(2014) 9154 41125\n",
      "tensor(2015) 12035 53160\n",
      "tensor(2016) 16339 69499\n",
      "tensor(2017) 21442 90941\n",
      "tensor(2018) 29799 120740\n",
      "tensor(2019) 39711 160451\n",
      "tensor(2020) 8892 169343\n"
     ]
    },
    {
     "name": "stderr",
     "output_type": "stream",
     "text": [
      "D:\\Users\\Productivity\\anaconda3\\envs\\cudanew\\lib\\site-packages\\torch_geometric\\data\\in_memory_dataset.py:284: UserWarning: It is not recommended to directly access the internal storage format `data` of an 'InMemoryDataset'. If you are absolutely certain what you are doing, access the internal storage via `InMemoryDataset._data` instead to suppress this warning. Alternatively, you can access stacked individual attributes of every graph via `dataset.{attr_name}`.\n",
      "  warnings.warn(msg)\n"
     ]
    }
   ],
   "source": [
    "running_sum = 0\n",
    "for year in torch.unique(ogbn_arxiv.data.node_year):\n",
    "    s= len(ogbn_arxiv.data.x[ogbn_arxiv.data.node_year.squeeze() == year])\n",
    "    running_sum += s\n",
    "    print(year, s, running_sum)"
   ]
  },
  {
   "cell_type": "code",
   "execution_count": 83,
   "id": "531d079d-992c-48c7-bac1-879d372ca68e",
   "metadata": {},
   "outputs": [
    {
     "name": "stdout",
     "output_type": "stream",
     "text": [
      "1 tensor(2130)\n",
      "2 tensor(1099)\n",
      "3 tensor(1268)\n",
      "4 tensor(1410)\n",
      "5 tensor(1874)\n",
      "6 tensor(480)\n",
      "7 tensor(1101)\n",
      "8 tensor(1098)\n",
      "9 tensor(530)\n",
      "10 tensor(954)\n",
      "11 tensor(565)\n",
      "12 tensor(490)\n",
      "13 tensor(518)\n",
      "14 tensor(374)\n",
      "15 tensor(471)\n",
      "16 tensor(402)\n",
      "17 tensor(712)\n",
      "18 tensor(337)\n",
      "19 tensor(665)\n",
      "20 tensor(640)\n",
      "21 tensor(541)\n",
      "22 tensor(1605)\n",
      "23 tensor(1134)\n",
      "24 tensor(989)\n",
      "25 tensor(476)\n",
      "26 tensor(421)\n",
      "27 tensor(182)\n",
      "28 tensor(199)\n",
      "29 tensor(845)\n",
      "30 tensor(441)\n",
      "31 tensor(604)\n",
      "32 tensor(981)\n",
      "33 tensor(418)\n",
      "34 tensor(478)\n",
      "35 tensor(1159)\n",
      "36 tensor(1675)\n",
      "37 tensor(458)\n",
      "38 tensor(645)\n",
      "39 tensor(1102)\n",
      "40 tensor(1099)\n",
      "41 tensor(1016)\n",
      "42 tensor(1915)\n",
      "43 tensor(1346)\n",
      "44 tensor(1567)\n",
      "45 tensor(1216)\n",
      "46 tensor(710)\n",
      "47 tensor(824)\n",
      "48 tensor(435)\n",
      "49 tensor(420)\n"
     ]
    }
   ],
   "source": [
    "for time in range(1, 50):\n",
    "    elliptic = EllipticBitcoinTemporalDataset(root='./data/EllipticTemporal/', t=time)\n",
    "    print(time, (elliptic.data.y == 0).sum())"
   ]
  },
  {
   "cell_type": "code",
   "execution_count": 97,
   "id": "708decef-f182-4168-b4d4-72d88be3c68f",
   "metadata": {},
   "outputs": [
    {
     "data": {
      "text/plain": [
       "[(1990, 1725),\n",
       " (1991, 1822),\n",
       " (1992, 2366),\n",
       " (1993, 2739),\n",
       " (1994, 3095),\n",
       " (1995, 3294),\n",
       " (1996, 3486),\n",
       " (1997, 3552),\n",
       " (1998, 3637),\n",
       " (1999, 4152),\n",
       " (2000, 4519),\n",
       " (2001, 5015),\n",
       " (2002, 5918),\n",
       " (2003, 6904),\n",
       " (2004, 8129),\n",
       " (2005, 9114),\n",
       " (2006, 10069),\n",
       " (2007, 11105),\n",
       " (2008, 11370),\n",
       " (2009, 13499),\n",
       " (2010, 12720),\n",
       " (2011, 13827),\n",
       " (2012, 14054),\n",
       " (2013, 14731),\n",
       " (2014, 14033),\n",
       " (2015, 13800)]"
      ]
     },
     "execution_count": 97,
     "metadata": {},
     "output_type": "execute_result"
    }
   ],
   "source": [
    "from collections import defaultdict\n",
    "counter = defaultdict(int)\n",
    "for t in dblp.node_year.squeeze(): # TODO: find out the number of distinct classes for each year so we know with wich year to start in T1\n",
    "    counter[t.item()] += 1\n",
    "sorted(counter.items())"
   ]
  }
 ],
 "metadata": {
  "kernelspec": {
   "display_name": "Python 3 (ipykernel)",
   "language": "python",
   "name": "python3"
  },
  "language_info": {
   "codemirror_mode": {
    "name": "ipython",
    "version": 3
   },
   "file_extension": ".py",
   "mimetype": "text/x-python",
   "name": "python",
   "nbconvert_exporter": "python",
   "pygments_lexer": "ipython3",
   "version": "3.9.18"
  }
 },
 "nbformat": 4,
 "nbformat_minor": 5
}
