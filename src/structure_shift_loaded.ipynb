{
 "cells": [
  {
   "cell_type": "markdown",
   "id": "b75f2edc-8327-4e56-9714-f4e4a2d60e91",
   "metadata": {},
   "source": [
    "# Structure shift with precompiled CSBM-data"
   ]
  },
  {
   "cell_type": "code",
   "execution_count": 1,
   "id": "5ded1db3-f515-441f-b3b3-0a663682e47b",
   "metadata": {},
   "outputs": [],
   "source": [
    "import matplotlib.pyplot as plt\n",
    "import numpy as np\n",
    "import sys\n",
    "from csbm import MultiClassCSBM, StructureCSBM\n",
    "from CSBMhet import CSBMhet\n",
    "from metrics import mmd_linear, mmd_max_rbf\n",
    "\n",
    "import torch\n",
    "from torch_geometric.nn import Node2Vec"
   ]
  },
  {
   "cell_type": "code",
   "execution_count": 13,
   "id": "a31674ca-61e9-42e6-af65-137698b9c0aa",
   "metadata": {},
   "outputs": [
    {
     "name": "stdout",
     "output_type": "stream",
     "text": [
      "cuda\n"
     ]
    }
   ],
   "source": [
    "device = 'cuda' if torch.cuda.is_available() else 'cpu'\n",
    "print(device)\n",
    "n = 5000\n",
    "T = 10"
   ]
  },
  {
   "cell_type": "code",
   "execution_count": 8,
   "id": "9452df0c-c918-403a-9bca-0f8e8b46a5ba",
   "metadata": {},
   "outputs": [],
   "source": [
    "data = torch.load('./csbm/csbm.pt')[-1]\n",
    "data_het = torch.load('./csbm/csbm_het.pt')[-1]\n",
    "data_struct = torch.load('./csbm/csbm_struct.pt')[-1]\n",
    "data_zero = torch.load('./csbm/csbm_zero.pt')\n",
    "names = {0: 'CSBM-Constant',\n",
    "         1: 'CSBM-Het',\n",
    "         2: 'CSBM-Struct',\n",
    "         3: 'CSBM-Zero'}\n",
    "all_data = [data, data_het, data_struct, data_zero]"
   ]
  },
  {
   "cell_type": "code",
   "execution_count": 11,
   "id": "a46db636-6e51-45f0-9c91-91d773e2cd9e",
   "metadata": {},
   "outputs": [
    {
     "name": "stdout",
     "output_type": "stream",
     "text": [
      "CSBM-Constant     282166 edges\n",
      "CSBM-Het         9459404 edges\n",
      "CSBM-Struct      6247127 edges\n",
      "CSBM-Zero        2811762 edges\n"
     ]
    }
   ],
   "source": [
    "for i in range(len(all_data)):\n",
    "        print(f'{names[i]}'.ljust(15) + f'{len(all_data[i].edge_index[0])} edges'.rjust(15))"
   ]
  },
  {
   "cell_type": "code",
   "execution_count": 12,
   "id": "2b34d882-45d4-4855-ba66-ca23face28db",
   "metadata": {},
   "outputs": [],
   "source": [
    "def get_node_embeddings(data, name):\n",
    "    model = Node2Vec(\n",
    "    data.edge_index,\n",
    "    embedding_dim=128,\n",
    "    walk_length=80,\n",
    "    context_size=10,\n",
    "    walks_per_node=10,\n",
    "    num_negative_samples=1,\n",
    "    p=1.0,\n",
    "    q=2.0).to(device)\n",
    "    \n",
    "    num_workers = 4 if sys.platform == 'linux' else 0\n",
    "    loader = model.loader(batch_size=32, shuffle=True, num_workers=num_workers)\n",
    "    optimizer = torch.optim.Adam(list(model.parameters()), lr=0.01)\n",
    "\n",
    "    N = len(data.x)\n",
    "    train_mask = torch.zeros(n, dtype=torch.bool)\n",
    "    train_mask[:int(0.5 * n)] = 1\n",
    "    train_mask = train_mask.repeat(N // n)\n",
    "    test_mask = torch.zeros(n, dtype=torch.bool)\n",
    "    test_mask[-int(0.5 * n):] = 1\n",
    "    test_mask = test_mask.repeat(N // n)\n",
    "    \n",
    "    def train():\n",
    "        model.train()\n",
    "        total_loss = 0\n",
    "        for pos_rw, neg_rw in loader:\n",
    "            optimizer.zero_grad()\n",
    "            loss = model.loss(pos_rw.to(device), neg_rw.to(device))\n",
    "            loss.backward()\n",
    "            optimizer.step()\n",
    "            total_loss += loss.item()\n",
    "        return total_loss / len(loader)\n",
    "    \n",
    "    @torch.no_grad()\n",
    "    def test():\n",
    "        model.eval()\n",
    "        z = model()\n",
    "        acc = model.test(\n",
    "            train_z=z[train_mask],\n",
    "            train_y=data.y[train_mask],\n",
    "            test_z=z[test_mask],\n",
    "            test_y=data.y[test_mask],\n",
    "            max_iter=150,\n",
    "        )\n",
    "        return acc\n",
    "    max_loss = 0\n",
    "    max_acc = 0\n",
    "    for epoch in range(150):\n",
    "        loss = train()\n",
    "        max_loss = max(max_loss, loss)\n",
    "        acc = test()\n",
    "        max_acc = max(acc, max_acc)\n",
    "    print(f'{name}'.ljust(15) + f'Loss: {max_loss:.3f}, Acc: {max_acc:.4f}')\n",
    "    return model.embedding.weight.cpu().detach().numpy()"
   ]
  },
  {
   "cell_type": "code",
   "execution_count": null,
   "id": "41114afe-f431-4eb4-9405-096f83a923c6",
   "metadata": {},
   "outputs": [],
   "source": [
    "embeddings = []\n",
    "for i in range(len(all_data)):\n",
    "    embeddings.append(get_node_embeddings(all_data[i], names[i]))\n",
    "emb_const, emb_het, emb_struct, emb_zero = embeddings"
   ]
  },
  {
   "cell_type": "code",
   "execution_count": 14,
   "id": "7e8e4dba-2f45-4454-8274-ecf50735f16f",
   "metadata": {},
   "outputs": [],
   "source": [
    "def get_rbf_mmd(embedding):\n",
    "    differences = []\n",
    "    for t in range(T):\n",
    "        start = t * n\n",
    "        end = start + n\n",
    "        differences.append(mmd_max_rbf(embedding[:n], embedding[start:end]))\n",
    "    return differences"
   ]
  },
  {
   "cell_type": "code",
   "execution_count": null,
   "id": "d0750c94-b6ab-47e7-9097-bcaf68b51be7",
   "metadata": {},
   "outputs": [],
   "source": [
    "mmds_rbf_const = get_rbf_mmd(emb_const)\n",
    "mmds_rbf_het = get_rbf_mmd(emb_het)\n",
    "mmds_rbf_struct = get_rbf_mmd(emb_struct)\n",
    "mmds_rbf_zero = get_rbf_mmd(emb_zero)"
   ]
  },
  {
   "cell_type": "code",
   "execution_count": null,
   "id": "4a4774e8-2bce-4362-b106-c94c9b792608",
   "metadata": {},
   "outputs": [],
   "source": [
    "# plot\n",
    "plt.figure(figsize=(8, 4))\n",
    "\n",
    "plt.plot(time_steps, mmds_rbf_const, marker='o', linestyle='-', color='black', label='CSBM-Const')\n",
    "plt.plot(time_steps, mmds_rbf_zero, marker='o', linestyle='-', color='gray', label='CSBM-Zero')\n",
    "plt.plot(time_steps, mmds_rbf_het, marker='o', linestyle='-', color='orange', label='CSBM-Het')\n",
    "plt.plot(time_steps, mmds_rbf_struct, marker='o', linestyle='-', color='blue', label='CSBM-Struct')\n",
    "\n",
    "plt.title(r'Graph structure-shift for different CSBMs')\n",
    "plt.xlabel('Time Steps')\n",
    "plt.ylabel(r'$MMD^{2}$ with RBF-kernel')\n",
    "plt.grid(True)\n",
    "plt.legend(loc='lower right')\n",
    "plt.savefig('structure_shift_rbf.pdf', format='pdf')\n",
    "#plt.show()\n",
    "plt.close()"
   ]
  },
  {
   "cell_type": "code",
   "execution_count": 16,
   "id": "f08c8769-de1f-4272-834b-59b49d85a93a",
   "metadata": {},
   "outputs": [
    {
     "name": "stdout",
     "output_type": "stream",
     "text": [
      "----------CSBM-Constant----------\n",
      "|V|= 50000, |E|= 282166, |E|/|V| = 5.6\n",
      "Possible edges: 0.01%\n",
      "\n",
      "----------CSBM-Het----------\n",
      "|V|= 50000, |E|= 9459404, |E|/|V| = 189.2\n",
      "Possible edges: 0.38%\n",
      "\n",
      "----------CSBM-Struct----------\n",
      "|V|= 50000, |E|= 6247127, |E|/|V| = 124.9\n",
      "Possible edges: 0.25%\n",
      "\n",
      "----------CSBM-Zero----------\n",
      "|V|= 50000, |E|= 2811762, |E|/|V| = 56.2\n",
      "Possible edges: 0.11%\n",
      "\n"
     ]
    }
   ],
   "source": [
    "for i in range(len(all_data)):\n",
    "    print('-' * 10 + names[i] + '-' * 10)\n",
    "    print(f'|V|= {all_data[i].num_nodes}, |E|= {all_data[i].num_edges}, |E|/|V| = {(all_data[i].num_edges / all_data[i].num_nodes):.1f}')\n",
    "    print(f'Possible edges: {(100 * all_data[i].num_edges / all_data[i].num_nodes ** 2):.2f}%\\n')"
   ]
  }
 ],
 "metadata": {
  "kernelspec": {
   "display_name": "Python 3 (ipykernel)",
   "language": "python",
   "name": "python3"
  },
  "language_info": {
   "codemirror_mode": {
    "name": "ipython",
    "version": 3
   },
   "file_extension": ".py",
   "mimetype": "text/x-python",
   "name": "python",
   "nbconvert_exporter": "python",
   "pygments_lexer": "ipython3",
   "version": "3.9.18"
  }
 },
 "nbformat": 4,
 "nbformat_minor": 5
}
