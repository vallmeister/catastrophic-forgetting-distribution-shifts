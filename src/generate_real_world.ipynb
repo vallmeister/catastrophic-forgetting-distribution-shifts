{
 "cells": [
  {
   "cell_type": "code",
   "execution_count": 2,
   "id": "34c7efae-dcdb-4220-a19b-54b7c0f6dd63",
   "metadata": {},
   "outputs": [],
   "source": [
    "import datasets as ds"
   ]
  },
  {
   "cell_type": "code",
   "execution_count": null,
   "id": "b75f988a-80f1-44fb-85ad-69199fd91f4a",
   "metadata": {},
   "outputs": [],
   "source": [
    "dblp = ds.get_dblp()\n",
    "dblp_tasks = ds.get_dblp_tasks()\n",
    "\n",
    "elliptic = ds.get_elliptic()\n",
    "elliptic_tasks = ds.get_elliptic_temporal_tasks()\n",
    "\n",
    "ogbn = ds.get_ogbn_arxiv()\n",
    "ogbn_tasks = ds.get_ogbn_arxiv_tasks()"
   ]
  },
  {
   "cell_type": "code",
   "execution_count": 1,
   "id": "2618cf0b-8b4d-47b0-acb5-90ad3c7f3203",
   "metadata": {},
   "outputs": [],
   "source": [
    "import os\n",
    "import torch"
   ]
  },
  {
   "cell_type": "code",
   "execution_count": null,
   "id": "9a00f77c-63d4-4b3d-9796-e208ba7e1ff1",
   "metadata": {},
   "outputs": [],
   "source": [
    "os.makedirs('./data/real_world/', exist_ok=True)\n",
    "\n",
    "torch.save(dblp, './data/real_world/dblp.pt')\n",
    "torch.save(dblp_tasks, './data/real_world/dblp_tasks.pt')\n",
    "        \n",
    "torch.save(elliptic, './data/real_world/elliptic.pt')\n",
    "torch.save(elliptic_tasks, './data/real_world/elliptic_tasks.pt')\n",
    "\n",
    "torch.save(ogbn, './data/real_world/ogbn.pt')\n",
    "torch.save(ogbn_tasks, './data/real_world/ogbn_tasks.pt')"
   ]
  },
  {
   "cell_type": "code",
   "execution_count": null,
   "id": "36a6cc04-87c9-4b32-8b84-2635687e8488",
   "metadata": {},
   "outputs": [],
   "source": [
    "dblp_tasks = torch.load('./data/real_world/dblp_tasks.pt')"
   ]
  },
  {
   "cell_type": "code",
   "execution_count": null,
   "id": "65fac01c-b290-4499-ba4b-13ce812755c4",
   "metadata": {},
   "outputs": [],
   "source": [
    "assert len(dblp_tasks) == 12, \"Not 12 tasks\"\n",
    "for i in range(12):\n",
    "    data_i = dblp_tasks[i]\n",
    "    train_i, val_i, test_i = data_i.train_mask, data_i.val_mask, data_i.test_mask\n",
    "    assert not torch.logical_and(train_i, val_i).any()\n",
    "    assert not torch.logical_and(train_i, test_i).any()\n",
    "    assert not torch.logical_and(val_i, test_i).any()\n",
    "    \n",
    "    for j in range(i + 1, 12):\n",
    "        data_j = dblp_tasks[j]\n",
    "        train_j, val_j, test_j = data_j.train_mask, data_j.val_mask, data_j.test_mask\n",
    "        assert not torch.logical_and(train_i, train_j).any()\n",
    "        assert not torch.logical_and(val_i, val_j).any()\n",
    "        assert not torch.logical_and(test_i, test_j).any()"
   ]
  }
 ],
 "metadata": {
  "kernelspec": {
   "display_name": "Python 3 (ipykernel)",
   "language": "python",
   "name": "python3"
  },
  "language_info": {
   "codemirror_mode": {
    "name": "ipython",
    "version": 3
   },
   "file_extension": ".py",
   "mimetype": "text/x-python",
   "name": "python",
   "nbconvert_exporter": "python",
   "pygments_lexer": "ipython3",
   "version": "3.9.18"
  }
 },
 "nbformat": 4,
 "nbformat_minor": 5
}
